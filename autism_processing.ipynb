{
 "cells": [
  {
   "cell_type": "code",
   "execution_count": 1,
   "metadata": {},
   "outputs": [
    {
     "data": {
      "text/html": [
       "<div>\n",
       "<style scoped>\n",
       "    .dataframe tbody tr th:only-of-type {\n",
       "        vertical-align: middle;\n",
       "    }\n",
       "\n",
       "    .dataframe tbody tr th {\n",
       "        vertical-align: top;\n",
       "    }\n",
       "\n",
       "    .dataframe thead th {\n",
       "        text-align: right;\n",
       "    }\n",
       "</style>\n",
       "<table border=\"1\" class=\"dataframe\">\n",
       "  <thead>\n",
       "    <tr style=\"text-align: right;\">\n",
       "      <th></th>\n",
       "      <th>A1_Score</th>\n",
       "      <th>A2_Score</th>\n",
       "      <th>A3_Score</th>\n",
       "      <th>A4_Score</th>\n",
       "      <th>A5_Score</th>\n",
       "      <th>A6_Score</th>\n",
       "      <th>A7_Score</th>\n",
       "      <th>A8_Score</th>\n",
       "      <th>A9_Score</th>\n",
       "      <th>A10_Score</th>\n",
       "      <th>...</th>\n",
       "      <th>gender</th>\n",
       "      <th>ethnicity</th>\n",
       "      <th>jundice</th>\n",
       "      <th>austim</th>\n",
       "      <th>contry_of_res</th>\n",
       "      <th>used_app_before</th>\n",
       "      <th>result</th>\n",
       "      <th>age_desc</th>\n",
       "      <th>relation</th>\n",
       "      <th>Class/ASD</th>\n",
       "    </tr>\n",
       "  </thead>\n",
       "  <tbody>\n",
       "    <tr>\n",
       "      <th>0</th>\n",
       "      <td>1</td>\n",
       "      <td>1</td>\n",
       "      <td>1</td>\n",
       "      <td>1</td>\n",
       "      <td>0</td>\n",
       "      <td>0</td>\n",
       "      <td>1</td>\n",
       "      <td>1</td>\n",
       "      <td>0</td>\n",
       "      <td>0</td>\n",
       "      <td>...</td>\n",
       "      <td>f</td>\n",
       "      <td>White-European</td>\n",
       "      <td>no</td>\n",
       "      <td>no</td>\n",
       "      <td>United States</td>\n",
       "      <td>no</td>\n",
       "      <td>6</td>\n",
       "      <td>18 and more</td>\n",
       "      <td>Self</td>\n",
       "      <td>NO</td>\n",
       "    </tr>\n",
       "    <tr>\n",
       "      <th>1</th>\n",
       "      <td>1</td>\n",
       "      <td>1</td>\n",
       "      <td>0</td>\n",
       "      <td>1</td>\n",
       "      <td>0</td>\n",
       "      <td>0</td>\n",
       "      <td>0</td>\n",
       "      <td>1</td>\n",
       "      <td>0</td>\n",
       "      <td>1</td>\n",
       "      <td>...</td>\n",
       "      <td>m</td>\n",
       "      <td>Latino</td>\n",
       "      <td>no</td>\n",
       "      <td>yes</td>\n",
       "      <td>Brazil</td>\n",
       "      <td>no</td>\n",
       "      <td>5</td>\n",
       "      <td>18 and more</td>\n",
       "      <td>Self</td>\n",
       "      <td>NO</td>\n",
       "    </tr>\n",
       "    <tr>\n",
       "      <th>2</th>\n",
       "      <td>1</td>\n",
       "      <td>1</td>\n",
       "      <td>0</td>\n",
       "      <td>1</td>\n",
       "      <td>1</td>\n",
       "      <td>0</td>\n",
       "      <td>1</td>\n",
       "      <td>1</td>\n",
       "      <td>1</td>\n",
       "      <td>1</td>\n",
       "      <td>...</td>\n",
       "      <td>m</td>\n",
       "      <td>Latino</td>\n",
       "      <td>yes</td>\n",
       "      <td>yes</td>\n",
       "      <td>Spain</td>\n",
       "      <td>no</td>\n",
       "      <td>8</td>\n",
       "      <td>18 and more</td>\n",
       "      <td>Parent</td>\n",
       "      <td>YES</td>\n",
       "    </tr>\n",
       "    <tr>\n",
       "      <th>3</th>\n",
       "      <td>1</td>\n",
       "      <td>1</td>\n",
       "      <td>0</td>\n",
       "      <td>1</td>\n",
       "      <td>0</td>\n",
       "      <td>0</td>\n",
       "      <td>1</td>\n",
       "      <td>1</td>\n",
       "      <td>0</td>\n",
       "      <td>1</td>\n",
       "      <td>...</td>\n",
       "      <td>f</td>\n",
       "      <td>White-European</td>\n",
       "      <td>no</td>\n",
       "      <td>yes</td>\n",
       "      <td>United States</td>\n",
       "      <td>no</td>\n",
       "      <td>6</td>\n",
       "      <td>18 and more</td>\n",
       "      <td>Self</td>\n",
       "      <td>NO</td>\n",
       "    </tr>\n",
       "    <tr>\n",
       "      <th>4</th>\n",
       "      <td>1</td>\n",
       "      <td>0</td>\n",
       "      <td>0</td>\n",
       "      <td>0</td>\n",
       "      <td>0</td>\n",
       "      <td>0</td>\n",
       "      <td>0</td>\n",
       "      <td>1</td>\n",
       "      <td>0</td>\n",
       "      <td>0</td>\n",
       "      <td>...</td>\n",
       "      <td>f</td>\n",
       "      <td>?</td>\n",
       "      <td>no</td>\n",
       "      <td>no</td>\n",
       "      <td>Egypt</td>\n",
       "      <td>no</td>\n",
       "      <td>2</td>\n",
       "      <td>18 and more</td>\n",
       "      <td>?</td>\n",
       "      <td>NO</td>\n",
       "    </tr>\n",
       "  </tbody>\n",
       "</table>\n",
       "<p>5 rows × 21 columns</p>\n",
       "</div>"
      ],
      "text/plain": [
       "   A1_Score  A2_Score  A3_Score  A4_Score  A5_Score  A6_Score  A7_Score  \\\n",
       "0         1         1         1         1         0         0         1   \n",
       "1         1         1         0         1         0         0         0   \n",
       "2         1         1         0         1         1         0         1   \n",
       "3         1         1         0         1         0         0         1   \n",
       "4         1         0         0         0         0         0         0   \n",
       "\n",
       "   A8_Score  A9_Score  A10_Score  ... gender       ethnicity jundice austim  \\\n",
       "0         1         0          0  ...      f  White-European      no     no   \n",
       "1         1         0          1  ...      m          Latino      no    yes   \n",
       "2         1         1          1  ...      m          Latino     yes    yes   \n",
       "3         1         0          1  ...      f  White-European      no    yes   \n",
       "4         1         0          0  ...      f               ?      no     no   \n",
       "\n",
       "   contry_of_res used_app_before result     age_desc relation Class/ASD  \n",
       "0  United States              no      6  18 and more     Self        NO  \n",
       "1         Brazil              no      5  18 and more     Self        NO  \n",
       "2          Spain              no      8  18 and more   Parent       YES  \n",
       "3  United States              no      6  18 and more     Self        NO  \n",
       "4          Egypt              no      2  18 and more        ?        NO  \n",
       "\n",
       "[5 rows x 21 columns]"
      ]
     },
     "execution_count": 1,
     "metadata": {},
     "output_type": "execute_result"
    }
   ],
   "source": [
    "#importando as libs\n",
    "import pandas as pd\n",
    "import numpy as np\n",
    "import math\n",
    "import seaborn as sns\n",
    "from matplotlib import pyplot as plt\n",
    "import warnings\n",
    "warnings.filterwarnings('ignore')\n",
    "\n",
    "#lendo o dataset\n",
    "autism_data = pd.read_csv(\"Autism_Data.csv\")\n",
    "\n",
    "#testando pra ver se está tudo certo\n",
    "autism_data.head()"
   ]
  },
  {
   "cell_type": "code",
   "execution_count": 2,
   "metadata": {},
   "outputs": [
    {
     "data": {
      "text/plain": [
       "A1_Score           0\n",
       "A2_Score           0\n",
       "A3_Score           0\n",
       "A4_Score           0\n",
       "A5_Score           0\n",
       "A6_Score           0\n",
       "A7_Score           0\n",
       "A8_Score           0\n",
       "A9_Score           0\n",
       "A10_Score          0\n",
       "age                0\n",
       "gender             0\n",
       "ethnicity          0\n",
       "jundice            0\n",
       "austim             0\n",
       "contry_of_res      0\n",
       "used_app_before    0\n",
       "result             0\n",
       "age_desc           0\n",
       "relation           0\n",
       "Class/ASD          0\n",
       "dtype: int64"
      ]
     },
     "execution_count": 2,
     "metadata": {},
     "output_type": "execute_result"
    }
   ],
   "source": [
    "#verificando se há valores faltosos\n",
    "autism_data.isnull().sum()"
   ]
  },
  {
   "cell_type": "code",
   "execution_count": 3,
   "metadata": {},
   "outputs": [
    {
     "data": {
      "text/plain": [
       "5"
      ]
     },
     "execution_count": 3,
     "metadata": {},
     "output_type": "execute_result"
    }
   ],
   "source": [
    "#identificando a quantidade de valores duplicados\n",
    "autism_data.duplicated().sum()"
   ]
  },
  {
   "cell_type": "code",
   "execution_count": 4,
   "metadata": {},
   "outputs": [],
   "source": [
    "#removendo valores duplicados\n",
    "autism_data = autism_data.drop_duplicates(keep='last')"
   ]
  },
  {
   "cell_type": "code",
   "execution_count": 5,
   "metadata": {},
   "outputs": [
    {
     "data": {
      "text/plain": [
       "0"
      ]
     },
     "execution_count": 5,
     "metadata": {},
     "output_type": "execute_result"
    }
   ],
   "source": [
    "#identificando a quantidade de valores duplicados\n",
    "autism_data.duplicated().sum()"
   ]
  },
  {
   "cell_type": "code",
   "execution_count": 6,
   "metadata": {},
   "outputs": [
    {
     "name": "stdout",
     "output_type": "stream",
     "text": [
      "<class 'pandas.core.frame.DataFrame'>\n",
      "Int64Index: 699 entries, 0 to 703\n",
      "Data columns (total 21 columns):\n",
      "A1_Score           699 non-null int64\n",
      "A2_Score           699 non-null int64\n",
      "A3_Score           699 non-null int64\n",
      "A4_Score           699 non-null int64\n",
      "A5_Score           699 non-null int64\n",
      "A6_Score           699 non-null int64\n",
      "A7_Score           699 non-null int64\n",
      "A8_Score           699 non-null int64\n",
      "A9_Score           699 non-null int64\n",
      "A10_Score          699 non-null int64\n",
      "age                699 non-null object\n",
      "gender             699 non-null object\n",
      "ethnicity          699 non-null object\n",
      "jundice            699 non-null object\n",
      "austim             699 non-null object\n",
      "contry_of_res      699 non-null object\n",
      "used_app_before    699 non-null object\n",
      "result             699 non-null int64\n",
      "age_desc           699 non-null object\n",
      "relation           699 non-null object\n",
      "Class/ASD          699 non-null object\n",
      "dtypes: int64(11), object(10)\n",
      "memory usage: 120.1+ KB\n"
     ]
    }
   ],
   "source": [
    "#para correlacionar é preciso que todas as variaveis sejam numericas\n",
    "autism_data.info()"
   ]
  },
  {
   "cell_type": "code",
   "execution_count": 7,
   "metadata": {},
   "outputs": [],
   "source": [
    "#renomeando a coluna com o resultado do teste\n",
    "autism_data = autism_data.rename(columns={'Class/ASD': 'has_autism'})"
   ]
  },
  {
   "cell_type": "code",
   "execution_count": 8,
   "metadata": {},
   "outputs": [],
   "source": [
    "#retirando o restante das colunas\n",
    "autism_data = autism_data.drop(['used_app_before','result', 'age_desc', 'relation', 'ethnicity', 'age', 'contry_of_res'], axis=1) "
   ]
  },
  {
   "cell_type": "code",
   "execution_count": 9,
   "metadata": {},
   "outputs": [],
   "source": [
    "#transformando os varores de 'gender' em 1 para f e em 0 para m\n",
    "autism_data[\"gender\"] = autism_data[\"gender\"].replace(\"f\", 1)\n",
    "autism_data[\"gender\"] = autism_data[\"gender\"].replace(\"m\", 0)\n",
    "\n",
    "#transformando valores de 'austim'\n",
    "autism_data[\"austim\"] = autism_data[\"austim\"].replace(\"yes\", 1)\n",
    "autism_data[\"austim\"] = autism_data[\"austim\"].replace(\"no\", 0)\n",
    "\n",
    "#transformando valores de 'has_autism' em 1 para YES e em 0 para NO\n",
    "autism_data[\"has_autism\"] = autism_data[\"has_autism\"].replace(\"YES\", 1)\n",
    "autism_data[\"has_autism\"] = autism_data[\"has_autism\"].replace(\"NO\", 0)\n",
    "\n",
    "#transformando valores de 'jundice' em 1 para YES e em 0 para NO\n",
    "autism_data[\"jundice\"] = autism_data[\"jundice\"].replace(\"yes\", 1)\n",
    "autism_data[\"jundice\"] = autism_data[\"jundice\"].replace(\"no\", 0)"
   ]
  },
  {
   "cell_type": "code",
   "execution_count": 10,
   "metadata": {},
   "outputs": [
    {
     "data": {
      "text/plain": [
       "0      0\n",
       "1      0\n",
       "2      1\n",
       "3      0\n",
       "4      0\n",
       "5      1\n",
       "6      0\n",
       "7      0\n",
       "8      0\n",
       "9      1\n",
       "10     1\n",
       "11     0\n",
       "12     0\n",
       "13     0\n",
       "14     0\n",
       "15     0\n",
       "16     0\n",
       "17     0\n",
       "18     0\n",
       "19     0\n",
       "20     0\n",
       "21     0\n",
       "22     0\n",
       "23     0\n",
       "24     0\n",
       "25     0\n",
       "26     0\n",
       "27     0\n",
       "28     0\n",
       "29     0\n",
       "      ..\n",
       "674    0\n",
       "675    0\n",
       "676    0\n",
       "677    0\n",
       "678    1\n",
       "679    1\n",
       "680    1\n",
       "681    1\n",
       "682    0\n",
       "683    0\n",
       "684    0\n",
       "685    1\n",
       "686    0\n",
       "687    1\n",
       "688    1\n",
       "689    1\n",
       "690    0\n",
       "691    0\n",
       "692    1\n",
       "693    0\n",
       "694    1\n",
       "695    0\n",
       "696    1\n",
       "697    0\n",
       "698    1\n",
       "699    1\n",
       "700    0\n",
       "701    1\n",
       "702    0\n",
       "703    1\n",
       "Name: has_autism, Length: 699, dtype: int32"
      ]
     },
     "execution_count": 10,
     "metadata": {},
     "output_type": "execute_result"
    }
   ],
   "source": [
    "#alterando o valor de 'object' para 'int'\n",
    "autism_data['has_autism'].astype(str).astype(int)"
   ]
  },
  {
   "cell_type": "code",
   "execution_count": 11,
   "metadata": {},
   "outputs": [
    {
     "name": "stdout",
     "output_type": "stream",
     "text": [
      "<class 'pandas.core.frame.DataFrame'>\n",
      "Int64Index: 699 entries, 0 to 703\n",
      "Data columns (total 14 columns):\n",
      "A1_Score      699 non-null int64\n",
      "A2_Score      699 non-null int64\n",
      "A3_Score      699 non-null int64\n",
      "A4_Score      699 non-null int64\n",
      "A5_Score      699 non-null int64\n",
      "A6_Score      699 non-null int64\n",
      "A7_Score      699 non-null int64\n",
      "A8_Score      699 non-null int64\n",
      "A9_Score      699 non-null int64\n",
      "A10_Score     699 non-null int64\n",
      "gender        699 non-null int64\n",
      "jundice       699 non-null int64\n",
      "austim        699 non-null int64\n",
      "has_autism    699 non-null int64\n",
      "dtypes: int64(14)\n",
      "memory usage: 81.9 KB\n"
     ]
    }
   ],
   "source": [
    "#todos os dados prontos\n",
    "autism_data.info()"
   ]
  },
  {
   "cell_type": "code",
   "execution_count": 12,
   "metadata": {},
   "outputs": [
    {
     "data": {
      "image/png": "[encoded data removed]",
      "text/plain": [
       "<Figure size 432x288 with 1 Axes>"
      ]
     },
     "metadata": {
      "needs_background": "light"
     },
     "output_type": "display_data"
    }
   ],
   "source": [
    "#plotando gráficos para a identificação de outliers\n",
    "autism_data.plot(kind='box')\n",
    "plt.show()"
   ]
  },
  {
   "cell_type": "code",
   "execution_count": 13,
   "metadata": {},
   "outputs": [
    {
     "data": {
      "text/plain": [
       "<matplotlib.axes._subplots.AxesSubplot at 0x2dddcb854a8>"
      ]
     },
     "execution_count": 13,
     "metadata": {},
     "output_type": "execute_result"
    },
    {
     "data": {
      "image/png": "[encoded data removed]",
      "text/plain": [
       "<Figure size 432x288 with 1 Axes>"
      ]
     },
     "metadata": {},
     "output_type": "display_data"
    }
   ],
   "source": [
    "#plotando gráficos para a identificação de outliers\n",
    "%matplotlib inline\n",
    "\n",
    "sns.set(style=\"whitegrid\", color_codes=True)\n",
    "sns.boxplot(data=autism_data)"
   ]
  },
  {
   "cell_type": "code",
   "execution_count": 14,
   "metadata": {},
   "outputs": [
    {
     "data": {
      "text/html": [
       "<style  type=\"text/css\" >\n",
       "    #T_6e0bf6a8_1798_11ea_b68c_5cc9d3bb088frow0_col0 {\n",
       "            background-color:  #b40426;\n",
       "            color:  #f1f1f1;\n",
       "        }    #T_6e0bf6a8_1798_11ea_b68c_5cc9d3bb088frow0_col1 {\n",
       "            background-color:  #4257c9;\n",
       "            color:  #f1f1f1;\n",
       "        }    #T_6e0bf6a8_1798_11ea_b68c_5cc9d3bb088frow0_col2 {\n",
       "            background-color:  #5572df;\n",
       "            color:  #000000;\n",
       "        }    #T_6e0bf6a8_1798_11ea_b68c_5cc9d3bb088frow0_col3 {\n",
       "            background-color:  #6788ee;\n",
       "            color:  #000000;\n",
       "        }    #T_6e0bf6a8_1798_11ea_b68c_5cc9d3bb088frow0_col4 {\n",
       "            background-color:  #7597f6;\n",
       "            color:  #000000;\n",
       "        }    #T_6e0bf6a8_1798_11ea_b68c_5cc9d3bb088frow0_col5 {\n",
       "            background-color:  #6282ea;\n",
       "            color:  #000000;\n",
       "        }    #T_6e0bf6a8_1798_11ea_b68c_5cc9d3bb088frow0_col6 {\n",
       "            background-color:  #86a9fc;\n",
       "            color:  #000000;\n",
       "        }    #T_6e0bf6a8_1798_11ea_b68c_5cc9d3bb088frow0_col7 {\n",
       "            background-color:  #6c8ff1;\n",
       "            color:  #000000;\n",
       "        }    #T_6e0bf6a8_1798_11ea_b68c_5cc9d3bb088frow0_col8 {\n",
       "            background-color:  #6e90f2;\n",
       "            color:  #000000;\n",
       "        }    #T_6e0bf6a8_1798_11ea_b68c_5cc9d3bb088frow0_col9 {\n",
       "            background-color:  #6485ec;\n",
       "            color:  #000000;\n",
       "        }    #T_6e0bf6a8_1798_11ea_b68c_5cc9d3bb088frow0_col10 {\n",
       "            background-color:  #5875e1;\n",
       "            color:  #000000;\n",
       "        }    #T_6e0bf6a8_1798_11ea_b68c_5cc9d3bb088frow0_col11 {\n",
       "            background-color:  #3b4cc0;\n",
       "            color:  #f1f1f1;\n",
       "        }    #T_6e0bf6a8_1798_11ea_b68c_5cc9d3bb088frow0_col12 {\n",
       "            background-color:  #5d7ce6;\n",
       "            color:  #000000;\n",
       "        }    #T_6e0bf6a8_1798_11ea_b68c_5cc9d3bb088frow0_col13 {\n",
       "            background-color:  #a2c1ff;\n",
       "            color:  #000000;\n",
       "        }    #T_6e0bf6a8_1798_11ea_b68c_5cc9d3bb088frow1_col0 {\n",
       "            background-color:  #4961d2;\n",
       "            color:  #f1f1f1;\n",
       "        }    #T_6e0bf6a8_1798_11ea_b68c_5cc9d3bb088frow1_col1 {\n",
       "            background-color:  #b40426;\n",
       "            color:  #f1f1f1;\n",
       "        }    #T_6e0bf6a8_1798_11ea_b68c_5cc9d3bb088frow1_col2 {\n",
       "            background-color:  #8caffe;\n",
       "            color:  #000000;\n",
       "        }    #T_6e0bf6a8_1798_11ea_b68c_5cc9d3bb088frow1_col3 {\n",
       "            background-color:  #799cf8;\n",
       "            color:  #000000;\n",
       "        }    #T_6e0bf6a8_1798_11ea_b68c_5cc9d3bb088frow1_col4 {\n",
       "            background-color:  #7699f6;\n",
       "            color:  #000000;\n",
       "        }    #T_6e0bf6a8_1798_11ea_b68c_5cc9d3bb088frow1_col5 {\n",
       "            background-color:  #81a4fb;\n",
       "            color:  #000000;\n",
       "        }    #T_6e0bf6a8_1798_11ea_b68c_5cc9d3bb088frow1_col6 {\n",
       "            background-color:  #3b4cc0;\n",
       "            color:  #f1f1f1;\n",
       "        }    #T_6e0bf6a8_1798_11ea_b68c_5cc9d3bb088frow1_col7 {\n",
       "            background-color:  #506bda;\n",
       "            color:  #000000;\n",
       "        }    #T_6e0bf6a8_1798_11ea_b68c_5cc9d3bb088frow1_col8 {\n",
       "            background-color:  #88abfd;\n",
       "            color:  #000000;\n",
       "        }    #T_6e0bf6a8_1798_11ea_b68c_5cc9d3bb088frow1_col9 {\n",
       "            background-color:  #5b7ae5;\n",
       "            color:  #000000;\n",
       "        }    #T_6e0bf6a8_1798_11ea_b68c_5cc9d3bb088frow1_col10 {\n",
       "            background-color:  #5673e0;\n",
       "            color:  #000000;\n",
       "        }    #T_6e0bf6a8_1798_11ea_b68c_5cc9d3bb088frow1_col11 {\n",
       "            background-color:  #6a8bef;\n",
       "            color:  #000000;\n",
       "        }    #T_6e0bf6a8_1798_11ea_b68c_5cc9d3bb088frow1_col12 {\n",
       "            background-color:  #5d7ce6;\n",
       "            color:  #000000;\n",
       "        }    #T_6e0bf6a8_1798_11ea_b68c_5cc9d3bb088frow1_col13 {\n",
       "            background-color:  #abc8fd;\n",
       "            color:  #000000;\n",
       "        }    #T_6e0bf6a8_1798_11ea_b68c_5cc9d3bb088frow2_col0 {\n",
       "            background-color:  #4e68d8;\n",
       "            color:  #000000;\n",
       "        }    #T_6e0bf6a8_1798_11ea_b68c_5cc9d3bb088frow2_col1 {\n",
       "            background-color:  #80a3fa;\n",
       "            color:  #000000;\n",
       "        }    #T_6e0bf6a8_1798_11ea_b68c_5cc9d3bb088frow2_col2 {\n",
       "            background-color:  #b40426;\n",
       "            color:  #f1f1f1;\n",
       "        }    #T_6e0bf6a8_1798_11ea_b68c_5cc9d3bb088frow2_col3 {\n",
       "            background-color:  #c4d5f3;\n",
       "            color:  #000000;\n",
       "        }    #T_6e0bf6a8_1798_11ea_b68c_5cc9d3bb088frow2_col4 {\n",
       "            background-color:  #90b2fe;\n",
       "            color:  #000000;\n",
       "        }    #T_6e0bf6a8_1798_11ea_b68c_5cc9d3bb088frow2_col5 {\n",
       "            background-color:  #92b4fe;\n",
       "            color:  #000000;\n",
       "        }    #T_6e0bf6a8_1798_11ea_b68c_5cc9d3bb088frow2_col6 {\n",
       "            background-color:  #506bda;\n",
       "            color:  #000000;\n",
       "        }    #T_6e0bf6a8_1798_11ea_b68c_5cc9d3bb088frow2_col7 {\n",
       "            background-color:  #3c4ec2;\n",
       "            color:  #f1f1f1;\n",
       "        }    #T_6e0bf6a8_1798_11ea_b68c_5cc9d3bb088frow2_col8 {\n",
       "            background-color:  #a2c1ff;\n",
       "            color:  #000000;\n",
       "        }    #T_6e0bf6a8_1798_11ea_b68c_5cc9d3bb088frow2_col9 {\n",
       "            background-color:  #6e90f2;\n",
       "            color:  #000000;\n",
       "        }    #T_6e0bf6a8_1798_11ea_b68c_5cc9d3bb088frow2_col10 {\n",
       "            background-color:  #3b4cc0;\n",
       "            color:  #f1f1f1;\n",
       "        }    #T_6e0bf6a8_1798_11ea_b68c_5cc9d3bb088frow2_col11 {\n",
       "            background-color:  #4b64d5;\n",
       "            color:  #f1f1f1;\n",
       "        }    #T_6e0bf6a8_1798_11ea_b68c_5cc9d3bb088frow2_col12 {\n",
       "            background-color:  #5b7ae5;\n",
       "            color:  #000000;\n",
       "        }    #T_6e0bf6a8_1798_11ea_b68c_5cc9d3bb088frow2_col13 {\n",
       "            background-color:  #cbd8ee;\n",
       "            color:  #000000;\n",
       "        }    #T_6e0bf6a8_1798_11ea_b68c_5cc9d3bb088frow3_col0 {\n",
       "            background-color:  #5f7fe8;\n",
       "            color:  #000000;\n",
       "        }    #T_6e0bf6a8_1798_11ea_b68c_5cc9d3bb088frow3_col1 {\n",
       "            background-color:  #6a8bef;\n",
       "            color:  #000000;\n",
       "        }    #T_6e0bf6a8_1798_11ea_b68c_5cc9d3bb088frow3_col2 {\n",
       "            background-color:  #c3d5f4;\n",
       "            color:  #000000;\n",
       "        }    #T_6e0bf6a8_1798_11ea_b68c_5cc9d3bb088frow3_col3 {\n",
       "            background-color:  #b40426;\n",
       "            color:  #f1f1f1;\n",
       "        }    #T_6e0bf6a8_1798_11ea_b68c_5cc9d3bb088frow3_col4 {\n",
       "            background-color:  #9ebeff;\n",
       "            color:  #000000;\n",
       "        }    #T_6e0bf6a8_1798_11ea_b68c_5cc9d3bb088frow3_col5 {\n",
       "            background-color:  #98b9ff;\n",
       "            color:  #000000;\n",
       "        }    #T_6e0bf6a8_1798_11ea_b68c_5cc9d3bb088frow3_col6 {\n",
       "            background-color:  #6687ed;\n",
       "            color:  #000000;\n",
       "        }    #T_6e0bf6a8_1798_11ea_b68c_5cc9d3bb088frow3_col7 {\n",
       "            background-color:  #3b4cc0;\n",
       "            color:  #f1f1f1;\n",
       "        }    #T_6e0bf6a8_1798_11ea_b68c_5cc9d3bb088frow3_col8 {\n",
       "            background-color:  #a5c3fe;\n",
       "            color:  #000000;\n",
       "        }    #T_6e0bf6a8_1798_11ea_b68c_5cc9d3bb088frow3_col9 {\n",
       "            background-color:  #7a9df8;\n",
       "            color:  #000000;\n",
       "        }    #T_6e0bf6a8_1798_11ea_b68c_5cc9d3bb088frow3_col10 {\n",
       "            background-color:  #4961d2;\n",
       "            color:  #f1f1f1;\n",
       "        }    #T_6e0bf6a8_1798_11ea_b68c_5cc9d3bb088frow3_col11 {\n",
       "            background-color:  #4b64d5;\n",
       "            color:  #f1f1f1;\n",
       "        }    #T_6e0bf6a8_1798_11ea_b68c_5cc9d3bb088frow3_col12 {\n",
       "            background-color:  #7597f6;\n",
       "            color:  #000000;\n",
       "        }    #T_6e0bf6a8_1798_11ea_b68c_5cc9d3bb088frow3_col13 {\n",
       "            background-color:  #d3dbe7;\n",
       "            color:  #000000;\n",
       "        }    #T_6e0bf6a8_1798_11ea_b68c_5cc9d3bb088frow4_col0 {\n",
       "            background-color:  #6485ec;\n",
       "            color:  #000000;\n",
       "        }    #T_6e0bf6a8_1798_11ea_b68c_5cc9d3bb088frow4_col1 {\n",
       "            background-color:  #6180e9;\n",
       "            color:  #000000;\n",
       "        }    #T_6e0bf6a8_1798_11ea_b68c_5cc9d3bb088frow4_col2 {\n",
       "            background-color:  #88abfd;\n",
       "            color:  #000000;\n",
       "        }    #T_6e0bf6a8_1798_11ea_b68c_5cc9d3bb088frow4_col3 {\n",
       "            background-color:  #98b9ff;\n",
       "            color:  #000000;\n",
       "        }    #T_6e0bf6a8_1798_11ea_b68c_5cc9d3bb088frow4_col4 {\n",
       "            background-color:  #b40426;\n",
       "            color:  #f1f1f1;\n",
       "        }    #T_6e0bf6a8_1798_11ea_b68c_5cc9d3bb088frow4_col5 {\n",
       "            background-color:  #b6cefa;\n",
       "            color:  #000000;\n",
       "        }    #T_6e0bf6a8_1798_11ea_b68c_5cc9d3bb088frow4_col6 {\n",
       "            background-color:  #7da0f9;\n",
       "            color:  #000000;\n",
       "        }    #T_6e0bf6a8_1798_11ea_b68c_5cc9d3bb088frow4_col7 {\n",
       "            background-color:  #4e68d8;\n",
       "            color:  #000000;\n",
       "        }    #T_6e0bf6a8_1798_11ea_b68c_5cc9d3bb088frow4_col8 {\n",
       "            background-color:  #b7cff9;\n",
       "            color:  #000000;\n",
       "        }    #T_6e0bf6a8_1798_11ea_b68c_5cc9d3bb088frow4_col9 {\n",
       "            background-color:  #89acfd;\n",
       "            color:  #000000;\n",
       "        }    #T_6e0bf6a8_1798_11ea_b68c_5cc9d3bb088frow4_col10 {\n",
       "            background-color:  #3c4ec2;\n",
       "            color:  #f1f1f1;\n",
       "        }    #T_6e0bf6a8_1798_11ea_b68c_5cc9d3bb088frow4_col11 {\n",
       "            background-color:  #3b4cc0;\n",
       "            color:  #f1f1f1;\n",
       "        }    #T_6e0bf6a8_1798_11ea_b68c_5cc9d3bb088frow4_col12 {\n",
       "            background-color:  #4a63d3;\n",
       "            color:  #f1f1f1;\n",
       "        }    #T_6e0bf6a8_1798_11ea_b68c_5cc9d3bb088frow4_col13 {\n",
       "            background-color:  #e2dad5;\n",
       "            color:  #000000;\n",
       "        }    #T_6e0bf6a8_1798_11ea_b68c_5cc9d3bb088frow5_col0 {\n",
       "            background-color:  #445acc;\n",
       "            color:  #f1f1f1;\n",
       "        }    #T_6e0bf6a8_1798_11ea_b68c_5cc9d3bb088frow5_col1 {\n",
       "            background-color:  #5d7ce6;\n",
       "            color:  #000000;\n",
       "        }    #T_6e0bf6a8_1798_11ea_b68c_5cc9d3bb088frow5_col2 {\n",
       "            background-color:  #7da0f9;\n",
       "            color:  #000000;\n",
       "        }    #T_6e0bf6a8_1798_11ea_b68c_5cc9d3bb088frow5_col3 {\n",
       "            background-color:  #85a8fc;\n",
       "            color:  #000000;\n",
       "        }    #T_6e0bf6a8_1798_11ea_b68c_5cc9d3bb088frow5_col4 {\n",
       "            background-color:  #abc8fd;\n",
       "            color:  #000000;\n",
       "        }    #T_6e0bf6a8_1798_11ea_b68c_5cc9d3bb088frow5_col5 {\n",
       "            background-color:  #b40426;\n",
       "            color:  #f1f1f1;\n",
       "        }    #T_6e0bf6a8_1798_11ea_b68c_5cc9d3bb088frow5_col6 {\n",
       "            background-color:  #5977e3;\n",
       "            color:  #000000;\n",
       "        }    #T_6e0bf6a8_1798_11ea_b68c_5cc9d3bb088frow5_col7 {\n",
       "            background-color:  #4055c8;\n",
       "            color:  #f1f1f1;\n",
       "        }    #T_6e0bf6a8_1798_11ea_b68c_5cc9d3bb088frow5_col8 {\n",
       "            background-color:  #cad8ef;\n",
       "            color:  #000000;\n",
       "        }    #T_6e0bf6a8_1798_11ea_b68c_5cc9d3bb088frow5_col9 {\n",
       "            background-color:  #85a8fc;\n",
       "            color:  #000000;\n",
       "        }    #T_6e0bf6a8_1798_11ea_b68c_5cc9d3bb088frow5_col10 {\n",
       "            background-color:  #3d50c3;\n",
       "            color:  #f1f1f1;\n",
       "        }    #T_6e0bf6a8_1798_11ea_b68c_5cc9d3bb088frow5_col11 {\n",
       "            background-color:  #3b4cc0;\n",
       "            color:  #f1f1f1;\n",
       "        }    #T_6e0bf6a8_1798_11ea_b68c_5cc9d3bb088frow5_col12 {\n",
       "            background-color:  #445acc;\n",
       "            color:  #f1f1f1;\n",
       "        }    #T_6e0bf6a8_1798_11ea_b68c_5cc9d3bb088frow5_col13 {\n",
       "            background-color:  #ead5c9;\n",
       "            color:  #000000;\n",
       "        }    #T_6e0bf6a8_1798_11ea_b68c_5cc9d3bb088frow6_col0 {\n",
       "            background-color:  #92b4fe;\n",
       "            color:  #000000;\n",
       "        }    #T_6e0bf6a8_1798_11ea_b68c_5cc9d3bb088frow6_col1 {\n",
       "            background-color:  #4055c8;\n",
       "            color:  #f1f1f1;\n",
       "        }    #T_6e0bf6a8_1798_11ea_b68c_5cc9d3bb088frow6_col2 {\n",
       "            background-color:  #6485ec;\n",
       "            color:  #000000;\n",
       "        }    #T_6e0bf6a8_1798_11ea_b68c_5cc9d3bb088frow6_col3 {\n",
       "            background-color:  #7a9df8;\n",
       "            color:  #000000;\n",
       "        }    #T_6e0bf6a8_1798_11ea_b68c_5cc9d3bb088frow6_col4 {\n",
       "            background-color:  #97b8ff;\n",
       "            color:  #000000;\n",
       "        }    #T_6e0bf6a8_1798_11ea_b68c_5cc9d3bb088frow6_col5 {\n",
       "            background-color:  #82a6fb;\n",
       "            color:  #000000;\n",
       "        }    #T_6e0bf6a8_1798_11ea_b68c_5cc9d3bb088frow6_col6 {\n",
       "            background-color:  #b40426;\n",
       "            color:  #f1f1f1;\n",
       "        }    #T_6e0bf6a8_1798_11ea_b68c_5cc9d3bb088frow6_col7 {\n",
       "            background-color:  #6687ed;\n",
       "            color:  #000000;\n",
       "        }    #T_6e0bf6a8_1798_11ea_b68c_5cc9d3bb088frow6_col8 {\n",
       "            background-color:  #86a9fc;\n",
       "            color:  #000000;\n",
       "        }    #T_6e0bf6a8_1798_11ea_b68c_5cc9d3bb088frow6_col9 {\n",
       "            background-color:  #9dbdff;\n",
       "            color:  #000000;\n",
       "        }    #T_6e0bf6a8_1798_11ea_b68c_5cc9d3bb088frow6_col10 {\n",
       "            background-color:  #3b4cc0;\n",
       "            color:  #f1f1f1;\n",
       "        }    #T_6e0bf6a8_1798_11ea_b68c_5cc9d3bb088frow6_col11 {\n",
       "            background-color:  #5572df;\n",
       "            color:  #000000;\n",
       "        }    #T_6e0bf6a8_1798_11ea_b68c_5cc9d3bb088frow6_col12 {\n",
       "            background-color:  #4961d2;\n",
       "            color:  #f1f1f1;\n",
       "        }    #T_6e0bf6a8_1798_11ea_b68c_5cc9d3bb088frow6_col13 {\n",
       "            background-color:  #bcd2f7;\n",
       "            color:  #000000;\n",
       "        }    #T_6e0bf6a8_1798_11ea_b68c_5cc9d3bb088frow7_col0 {\n",
       "            background-color:  #799cf8;\n",
       "            color:  #000000;\n",
       "        }    #T_6e0bf6a8_1798_11ea_b68c_5cc9d3bb088frow7_col1 {\n",
       "            background-color:  #5572df;\n",
       "            color:  #000000;\n",
       "        }    #T_6e0bf6a8_1798_11ea_b68c_5cc9d3bb088frow7_col2 {\n",
       "            background-color:  #506bda;\n",
       "            color:  #000000;\n",
       "        }    #T_6e0bf6a8_1798_11ea_b68c_5cc9d3bb088frow7_col3 {\n",
       "            background-color:  #4f69d9;\n",
       "            color:  #000000;\n",
       "        }    #T_6e0bf6a8_1798_11ea_b68c_5cc9d3bb088frow7_col4 {\n",
       "            background-color:  #6a8bef;\n",
       "            color:  #000000;\n",
       "        }    #T_6e0bf6a8_1798_11ea_b68c_5cc9d3bb088frow7_col5 {\n",
       "            background-color:  #6a8bef;\n",
       "            color:  #000000;\n",
       "        }    #T_6e0bf6a8_1798_11ea_b68c_5cc9d3bb088frow7_col6 {\n",
       "            background-color:  #6687ed;\n",
       "            color:  #000000;\n",
       "        }    #T_6e0bf6a8_1798_11ea_b68c_5cc9d3bb088frow7_col7 {\n",
       "            background-color:  #b40426;\n",
       "            color:  #f1f1f1;\n",
       "        }    #T_6e0bf6a8_1798_11ea_b68c_5cc9d3bb088frow7_col8 {\n",
       "            background-color:  #6b8df0;\n",
       "            color:  #000000;\n",
       "        }    #T_6e0bf6a8_1798_11ea_b68c_5cc9d3bb088frow7_col9 {\n",
       "            background-color:  #6b8df0;\n",
       "            color:  #000000;\n",
       "        }    #T_6e0bf6a8_1798_11ea_b68c_5cc9d3bb088frow7_col10 {\n",
       "            background-color:  #3b4cc0;\n",
       "            color:  #f1f1f1;\n",
       "        }    #T_6e0bf6a8_1798_11ea_b68c_5cc9d3bb088frow7_col11 {\n",
       "            background-color:  #506bda;\n",
       "            color:  #000000;\n",
       "        }    #T_6e0bf6a8_1798_11ea_b68c_5cc9d3bb088frow7_col12 {\n",
       "            background-color:  #5673e0;\n",
       "            color:  #000000;\n",
       "        }    #T_6e0bf6a8_1798_11ea_b68c_5cc9d3bb088frow7_col13 {\n",
       "            background-color:  #98b9ff;\n",
       "            color:  #000000;\n",
       "        }    #T_6e0bf6a8_1798_11ea_b68c_5cc9d3bb088frow8_col0 {\n",
       "            background-color:  #6a8bef;\n",
       "            color:  #000000;\n",
       "        }    #T_6e0bf6a8_1798_11ea_b68c_5cc9d3bb088frow8_col1 {\n",
       "            background-color:  #7da0f9;\n",
       "            color:  #000000;\n",
       "        }    #T_6e0bf6a8_1798_11ea_b68c_5cc9d3bb088frow8_col2 {\n",
       "            background-color:  #a5c3fe;\n",
       "            color:  #000000;\n",
       "        }    #T_6e0bf6a8_1798_11ea_b68c_5cc9d3bb088frow8_col3 {\n",
       "            background-color:  #a7c5fe;\n",
       "            color:  #000000;\n",
       "        }    #T_6e0bf6a8_1798_11ea_b68c_5cc9d3bb088frow8_col4 {\n",
       "            background-color:  #c0d4f5;\n",
       "            color:  #000000;\n",
       "        }    #T_6e0bf6a8_1798_11ea_b68c_5cc9d3bb088frow8_col5 {\n",
       "            background-color:  #d7dce3;\n",
       "            color:  #000000;\n",
       "        }    #T_6e0bf6a8_1798_11ea_b68c_5cc9d3bb088frow8_col6 {\n",
       "            background-color:  #779af7;\n",
       "            color:  #000000;\n",
       "        }    #T_6e0bf6a8_1798_11ea_b68c_5cc9d3bb088frow8_col7 {\n",
       "            background-color:  #5a78e4;\n",
       "            color:  #000000;\n",
       "        }    #T_6e0bf6a8_1798_11ea_b68c_5cc9d3bb088frow8_col8 {\n",
       "            background-color:  #b40426;\n",
       "            color:  #f1f1f1;\n",
       "        }    #T_6e0bf6a8_1798_11ea_b68c_5cc9d3bb088frow8_col9 {\n",
       "            background-color:  #98b9ff;\n",
       "            color:  #000000;\n",
       "        }    #T_6e0bf6a8_1798_11ea_b68c_5cc9d3bb088frow8_col10 {\n",
       "            background-color:  #3b4cc0;\n",
       "            color:  #f1f1f1;\n",
       "        }    #T_6e0bf6a8_1798_11ea_b68c_5cc9d3bb088frow8_col11 {\n",
       "            background-color:  #4c66d6;\n",
       "            color:  #000000;\n",
       "        }    #T_6e0bf6a8_1798_11ea_b68c_5cc9d3bb088frow8_col12 {\n",
       "            background-color:  #6f92f3;\n",
       "            color:  #000000;\n",
       "        }    #T_6e0bf6a8_1798_11ea_b68c_5cc9d3bb088frow8_col13 {\n",
       "            background-color:  #f5c1a9;\n",
       "            color:  #000000;\n",
       "        }    #T_6e0bf6a8_1798_11ea_b68c_5cc9d3bb088frow9_col0 {\n",
       "            background-color:  #506bda;\n",
       "            color:  #000000;\n",
       "        }    #T_6e0bf6a8_1798_11ea_b68c_5cc9d3bb088frow9_col1 {\n",
       "            background-color:  #3f53c6;\n",
       "            color:  #f1f1f1;\n",
       "        }    #T_6e0bf6a8_1798_11ea_b68c_5cc9d3bb088frow9_col2 {\n",
       "            background-color:  #6180e9;\n",
       "            color:  #000000;\n",
       "        }    #T_6e0bf6a8_1798_11ea_b68c_5cc9d3bb088frow9_col3 {\n",
       "            background-color:  #6e90f2;\n",
       "            color:  #000000;\n",
       "        }    #T_6e0bf6a8_1798_11ea_b68c_5cc9d3bb088frow9_col4 {\n",
       "            background-color:  #85a8fc;\n",
       "            color:  #000000;\n",
       "        }    #T_6e0bf6a8_1798_11ea_b68c_5cc9d3bb088frow9_col5 {\n",
       "            background-color:  #8db0fe;\n",
       "            color:  #000000;\n",
       "        }    #T_6e0bf6a8_1798_11ea_b68c_5cc9d3bb088frow9_col6 {\n",
       "            background-color:  #7ea1fa;\n",
       "            color:  #000000;\n",
       "        }    #T_6e0bf6a8_1798_11ea_b68c_5cc9d3bb088frow9_col7 {\n",
       "            background-color:  #4a63d3;\n",
       "            color:  #f1f1f1;\n",
       "        }    #T_6e0bf6a8_1798_11ea_b68c_5cc9d3bb088frow9_col8 {\n",
       "            background-color:  #89acfd;\n",
       "            color:  #000000;\n",
       "        }    #T_6e0bf6a8_1798_11ea_b68c_5cc9d3bb088frow9_col9 {\n",
       "            background-color:  #b40426;\n",
       "            color:  #f1f1f1;\n",
       "        }    #T_6e0bf6a8_1798_11ea_b68c_5cc9d3bb088frow9_col10 {\n",
       "            background-color:  #3c4ec2;\n",
       "            color:  #f1f1f1;\n",
       "        }    #T_6e0bf6a8_1798_11ea_b68c_5cc9d3bb088frow9_col11 {\n",
       "            background-color:  #3b4cc0;\n",
       "            color:  #f1f1f1;\n",
       "        }    #T_6e0bf6a8_1798_11ea_b68c_5cc9d3bb088frow9_col12 {\n",
       "            background-color:  #4e68d8;\n",
       "            color:  #000000;\n",
       "        }    #T_6e0bf6a8_1798_11ea_b68c_5cc9d3bb088frow9_col13 {\n",
       "            background-color:  #afcafc;\n",
       "            color:  #000000;\n",
       "        }    #T_6e0bf6a8_1798_11ea_b68c_5cc9d3bb088frow10_col0 {\n",
       "            background-color:  #6384eb;\n",
       "            color:  #000000;\n",
       "        }    #T_6e0bf6a8_1798_11ea_b68c_5cc9d3bb088frow10_col1 {\n",
       "            background-color:  #5d7ce6;\n",
       "            color:  #000000;\n",
       "        }    #T_6e0bf6a8_1798_11ea_b68c_5cc9d3bb088frow10_col2 {\n",
       "            background-color:  #4e68d8;\n",
       "            color:  #000000;\n",
       "        }    #T_6e0bf6a8_1798_11ea_b68c_5cc9d3bb088frow10_col3 {\n",
       "            background-color:  #5e7de7;\n",
       "            color:  #000000;\n",
       "        }    #T_6e0bf6a8_1798_11ea_b68c_5cc9d3bb088frow10_col4 {\n",
       "            background-color:  #5977e3;\n",
       "            color:  #000000;\n",
       "        }    #T_6e0bf6a8_1798_11ea_b68c_5cc9d3bb088frow10_col5 {\n",
       "            background-color:  #6788ee;\n",
       "            color:  #000000;\n",
       "        }    #T_6e0bf6a8_1798_11ea_b68c_5cc9d3bb088frow10_col6 {\n",
       "            background-color:  #3b4cc0;\n",
       "            color:  #f1f1f1;\n",
       "        }    #T_6e0bf6a8_1798_11ea_b68c_5cc9d3bb088frow10_col7 {\n",
       "            background-color:  #3b4cc0;\n",
       "            color:  #f1f1f1;\n",
       "        }    #T_6e0bf6a8_1798_11ea_b68c_5cc9d3bb088frow10_col8 {\n",
       "            background-color:  #4b64d5;\n",
       "            color:  #f1f1f1;\n",
       "        }    #T_6e0bf6a8_1798_11ea_b68c_5cc9d3bb088frow10_col9 {\n",
       "            background-color:  #5d7ce6;\n",
       "            color:  #000000;\n",
       "        }    #T_6e0bf6a8_1798_11ea_b68c_5cc9d3bb088frow10_col10 {\n",
       "            background-color:  #b40426;\n",
       "            color:  #f1f1f1;\n",
       "        }    #T_6e0bf6a8_1798_11ea_b68c_5cc9d3bb088frow10_col11 {\n",
       "            background-color:  #516ddb;\n",
       "            color:  #000000;\n",
       "        }    #T_6e0bf6a8_1798_11ea_b68c_5cc9d3bb088frow10_col12 {\n",
       "            background-color:  #688aef;\n",
       "            color:  #000000;\n",
       "        }    #T_6e0bf6a8_1798_11ea_b68c_5cc9d3bb088frow10_col13 {\n",
       "            background-color:  #6687ed;\n",
       "            color:  #000000;\n",
       "        }    #T_6e0bf6a8_1798_11ea_b68c_5cc9d3bb088frow11_col0 {\n",
       "            background-color:  #3b4cc0;\n",
       "            color:  #f1f1f1;\n",
       "        }    #T_6e0bf6a8_1798_11ea_b68c_5cc9d3bb088frow11_col1 {\n",
       "            background-color:  #6384eb;\n",
       "            color:  #000000;\n",
       "        }    #T_6e0bf6a8_1798_11ea_b68c_5cc9d3bb088frow11_col2 {\n",
       "            background-color:  #536edd;\n",
       "            color:  #000000;\n",
       "        }    #T_6e0bf6a8_1798_11ea_b68c_5cc9d3bb088frow11_col3 {\n",
       "            background-color:  #536edd;\n",
       "            color:  #000000;\n",
       "        }    #T_6e0bf6a8_1798_11ea_b68c_5cc9d3bb088frow11_col4 {\n",
       "            background-color:  #4a63d3;\n",
       "            color:  #f1f1f1;\n",
       "        }    #T_6e0bf6a8_1798_11ea_b68c_5cc9d3bb088frow11_col5 {\n",
       "            background-color:  #5875e1;\n",
       "            color:  #000000;\n",
       "        }    #T_6e0bf6a8_1798_11ea_b68c_5cc9d3bb088frow11_col6 {\n",
       "            background-color:  #4961d2;\n",
       "            color:  #f1f1f1;\n",
       "        }    #T_6e0bf6a8_1798_11ea_b68c_5cc9d3bb088frow11_col7 {\n",
       "            background-color:  #4358cb;\n",
       "            color:  #f1f1f1;\n",
       "        }    #T_6e0bf6a8_1798_11ea_b68c_5cc9d3bb088frow11_col8 {\n",
       "            background-color:  #516ddb;\n",
       "            color:  #000000;\n",
       "        }    #T_6e0bf6a8_1798_11ea_b68c_5cc9d3bb088frow11_col9 {\n",
       "            background-color:  #4f69d9;\n",
       "            color:  #000000;\n",
       "        }    #T_6e0bf6a8_1798_11ea_b68c_5cc9d3bb088frow11_col10 {\n",
       "            background-color:  #445acc;\n",
       "            color:  #f1f1f1;\n",
       "        }    #T_6e0bf6a8_1798_11ea_b68c_5cc9d3bb088frow11_col11 {\n",
       "            background-color:  #b40426;\n",
       "            color:  #f1f1f1;\n",
       "        }    #T_6e0bf6a8_1798_11ea_b68c_5cc9d3bb088frow11_col12 {\n",
       "            background-color:  #7295f4;\n",
       "            color:  #000000;\n",
       "        }    #T_6e0bf6a8_1798_11ea_b68c_5cc9d3bb088frow11_col13 {\n",
       "            background-color:  #5f7fe8;\n",
       "            color:  #000000;\n",
       "        }    #T_6e0bf6a8_1798_11ea_b68c_5cc9d3bb088frow12_col0 {\n",
       "            background-color:  #5b7ae5;\n",
       "            color:  #000000;\n",
       "        }    #T_6e0bf6a8_1798_11ea_b68c_5cc9d3bb088frow12_col1 {\n",
       "            background-color:  #5470de;\n",
       "            color:  #000000;\n",
       "        }    #T_6e0bf6a8_1798_11ea_b68c_5cc9d3bb088frow12_col2 {\n",
       "            background-color:  #6180e9;\n",
       "            color:  #000000;\n",
       "        }    #T_6e0bf6a8_1798_11ea_b68c_5cc9d3bb088frow12_col3 {\n",
       "            background-color:  #7b9ff9;\n",
       "            color:  #000000;\n",
       "        }    #T_6e0bf6a8_1798_11ea_b68c_5cc9d3bb088frow12_col4 {\n",
       "            background-color:  #5977e3;\n",
       "            color:  #000000;\n",
       "        }    #T_6e0bf6a8_1798_11ea_b68c_5cc9d3bb088frow12_col5 {\n",
       "            background-color:  #5f7fe8;\n",
       "            color:  #000000;\n",
       "        }    #T_6e0bf6a8_1798_11ea_b68c_5cc9d3bb088frow12_col6 {\n",
       "            background-color:  #3b4cc0;\n",
       "            color:  #f1f1f1;\n",
       "        }    #T_6e0bf6a8_1798_11ea_b68c_5cc9d3bb088frow12_col7 {\n",
       "            background-color:  #485fd1;\n",
       "            color:  #f1f1f1;\n",
       "        }    #T_6e0bf6a8_1798_11ea_b68c_5cc9d3bb088frow12_col8 {\n",
       "            background-color:  #7295f4;\n",
       "            color:  #000000;\n",
       "        }    #T_6e0bf6a8_1798_11ea_b68c_5cc9d3bb088frow12_col9 {\n",
       "            background-color:  #6282ea;\n",
       "            color:  #000000;\n",
       "        }    #T_6e0bf6a8_1798_11ea_b68c_5cc9d3bb088frow12_col10 {\n",
       "            background-color:  #5a78e4;\n",
       "            color:  #000000;\n",
       "        }    #T_6e0bf6a8_1798_11ea_b68c_5cc9d3bb088frow12_col11 {\n",
       "            background-color:  #7093f3;\n",
       "            color:  #000000;\n",
       "        }    #T_6e0bf6a8_1798_11ea_b68c_5cc9d3bb088frow12_col12 {\n",
       "            background-color:  #b40426;\n",
       "            color:  #f1f1f1;\n",
       "        }    #T_6e0bf6a8_1798_11ea_b68c_5cc9d3bb088frow12_col13 {\n",
       "            background-color:  #7597f6;\n",
       "            color:  #000000;\n",
       "        }    #T_6e0bf6a8_1798_11ea_b68c_5cc9d3bb088frow13_col0 {\n",
       "            background-color:  #86a9fc;\n",
       "            color:  #000000;\n",
       "        }    #T_6e0bf6a8_1798_11ea_b68c_5cc9d3bb088frow13_col1 {\n",
       "            background-color:  #8badfd;\n",
       "            color:  #000000;\n",
       "        }    #T_6e0bf6a8_1798_11ea_b68c_5cc9d3bb088frow13_col2 {\n",
       "            background-color:  #bcd2f7;\n",
       "            color:  #000000;\n",
       "        }    #T_6e0bf6a8_1798_11ea_b68c_5cc9d3bb088frow13_col3 {\n",
       "            background-color:  #c5d6f2;\n",
       "            color:  #000000;\n",
       "        }    #T_6e0bf6a8_1798_11ea_b68c_5cc9d3bb088frow13_col4 {\n",
       "            background-color:  #dbdcde;\n",
       "            color:  #000000;\n",
       "        }    #T_6e0bf6a8_1798_11ea_b68c_5cc9d3bb088frow13_col5 {\n",
       "            background-color:  #e9d5cb;\n",
       "            color:  #000000;\n",
       "        }    #T_6e0bf6a8_1798_11ea_b68c_5cc9d3bb088frow13_col6 {\n",
       "            background-color:  #9abbff;\n",
       "            color:  #000000;\n",
       "        }    #T_6e0bf6a8_1798_11ea_b68c_5cc9d3bb088frow13_col7 {\n",
       "            background-color:  #6f92f3;\n",
       "            color:  #000000;\n",
       "        }    #T_6e0bf6a8_1798_11ea_b68c_5cc9d3bb088frow13_col8 {\n",
       "            background-color:  #f2cbb7;\n",
       "            color:  #000000;\n",
       "        }    #T_6e0bf6a8_1798_11ea_b68c_5cc9d3bb088frow13_col9 {\n",
       "            background-color:  #a7c5fe;\n",
       "            color:  #000000;\n",
       "        }    #T_6e0bf6a8_1798_11ea_b68c_5cc9d3bb088frow13_col10 {\n",
       "            background-color:  #3b4cc0;\n",
       "            color:  #f1f1f1;\n",
       "        }    #T_6e0bf6a8_1798_11ea_b68c_5cc9d3bb088frow13_col11 {\n",
       "            background-color:  #4055c8;\n",
       "            color:  #f1f1f1;\n",
       "        }    #T_6e0bf6a8_1798_11ea_b68c_5cc9d3bb088frow13_col12 {\n",
       "            background-color:  #5875e1;\n",
       "            color:  #000000;\n",
       "        }    #T_6e0bf6a8_1798_11ea_b68c_5cc9d3bb088frow13_col13 {\n",
       "            background-color:  #b40426;\n",
       "            color:  #f1f1f1;\n",
       "        }</style><table id=\"T_6e0bf6a8_1798_11ea_b68c_5cc9d3bb088f\" ><thead>    <tr>        <th class=\"blank level0\" ></th>        <th class=\"col_heading level0 col0\" >A1_Score</th>        <th class=\"col_heading level0 col1\" >A2_Score</th>        <th class=\"col_heading level0 col2\" >A3_Score</th>        <th class=\"col_heading level0 col3\" >A4_Score</th>        <th class=\"col_heading level0 col4\" >A5_Score</th>        <th class=\"col_heading level0 col5\" >A6_Score</th>        <th class=\"col_heading level0 col6\" >A7_Score</th>        <th class=\"col_heading level0 col7\" >A8_Score</th>        <th class=\"col_heading level0 col8\" >A9_Score</th>        <th class=\"col_heading level0 col9\" >A10_Score</th>        <th class=\"col_heading level0 col10\" >gender</th>        <th class=\"col_heading level0 col11\" >jundice</th>        <th class=\"col_heading level0 col12\" >austim</th>        <th class=\"col_heading level0 col13\" >has_autism</th>    </tr></thead><tbody>\n",
       "                <tr>\n",
       "                        <th id=\"T_6e0bf6a8_1798_11ea_b68c_5cc9d3bb088flevel0_row0\" class=\"row_heading level0 row0\" >A1_Score</th>\n",
       "                        <td id=\"T_6e0bf6a8_1798_11ea_b68c_5cc9d3bb088frow0_col0\" class=\"data row0 col0\" >1.0</td>\n",
       "                        <td id=\"T_6e0bf6a8_1798_11ea_b68c_5cc9d3bb088frow0_col1\" class=\"data row0 col1\" >0.0085</td>\n",
       "                        <td id=\"T_6e0bf6a8_1798_11ea_b68c_5cc9d3bb088frow0_col2\" class=\"data row0 col2\" >0.071</td>\n",
       "                        <td id=\"T_6e0bf6a8_1798_11ea_b68c_5cc9d3bb088frow0_col3\" class=\"data row0 col3\" >0.13</td>\n",
       "                        <td id=\"T_6e0bf6a8_1798_11ea_b68c_5cc9d3bb088frow0_col4\" class=\"data row0 col4\" >0.17</td>\n",
       "                        <td id=\"T_6e0bf6a8_1798_11ea_b68c_5cc9d3bb088frow0_col5\" class=\"data row0 col5\" >0.11</td>\n",
       "                        <td id=\"T_6e0bf6a8_1798_11ea_b68c_5cc9d3bb088frow0_col6\" class=\"data row0 col6\" >0.22</td>\n",
       "                        <td id=\"T_6e0bf6a8_1798_11ea_b68c_5cc9d3bb088frow0_col7\" class=\"data row0 col7\" >0.14</td>\n",
       "                        <td id=\"T_6e0bf6a8_1798_11ea_b68c_5cc9d3bb088frow0_col8\" class=\"data row0 col8\" >0.15</td>\n",
       "                        <td id=\"T_6e0bf6a8_1798_11ea_b68c_5cc9d3bb088frow0_col9\" class=\"data row0 col9\" >0.12</td>\n",
       "                        <td id=\"T_6e0bf6a8_1798_11ea_b68c_5cc9d3bb088frow0_col10\" class=\"data row0 col10\" >0.078</td>\n",
       "                        <td id=\"T_6e0bf6a8_1798_11ea_b68c_5cc9d3bb088frow0_col11\" class=\"data row0 col11\" >-0.018</td>\n",
       "                        <td id=\"T_6e0bf6a8_1798_11ea_b68c_5cc9d3bb088frow0_col12\" class=\"data row0 col12\" >0.097</td>\n",
       "                        <td id=\"T_6e0bf6a8_1798_11ea_b68c_5cc9d3bb088frow0_col13\" class=\"data row0 col13\" >0.3</td>\n",
       "            </tr>\n",
       "            <tr>\n",
       "                        <th id=\"T_6e0bf6a8_1798_11ea_b68c_5cc9d3bb088flevel0_row1\" class=\"row_heading level0 row1\" >A2_Score</th>\n",
       "                        <td id=\"T_6e0bf6a8_1798_11ea_b68c_5cc9d3bb088frow1_col0\" class=\"data row1 col0\" >0.0085</td>\n",
       "                        <td id=\"T_6e0bf6a8_1798_11ea_b68c_5cc9d3bb088frow1_col1\" class=\"data row1 col1\" >1.0</td>\n",
       "                        <td id=\"T_6e0bf6a8_1798_11ea_b68c_5cc9d3bb088frow1_col2\" class=\"data row1 col2\" >0.22</td>\n",
       "                        <td id=\"T_6e0bf6a8_1798_11ea_b68c_5cc9d3bb088frow1_col3\" class=\"data row1 col3\" >0.16</td>\n",
       "                        <td id=\"T_6e0bf6a8_1798_11ea_b68c_5cc9d3bb088frow1_col4\" class=\"data row1 col4\" >0.15</td>\n",
       "                        <td id=\"T_6e0bf6a8_1798_11ea_b68c_5cc9d3bb088frow1_col5\" class=\"data row1 col5\" >0.18</td>\n",
       "                        <td id=\"T_6e0bf6a8_1798_11ea_b68c_5cc9d3bb088frow1_col6\" class=\"data row1 col6\" >-0.042</td>\n",
       "                        <td id=\"T_6e0bf6a8_1798_11ea_b68c_5cc9d3bb088frow1_col7\" class=\"data row1 col7\" >0.032</td>\n",
       "                        <td id=\"T_6e0bf6a8_1798_11ea_b68c_5cc9d3bb088frow1_col8\" class=\"data row1 col8\" >0.2</td>\n",
       "                        <td id=\"T_6e0bf6a8_1798_11ea_b68c_5cc9d3bb088frow1_col9\" class=\"data row1 col9\" >0.069</td>\n",
       "                        <td id=\"T_6e0bf6a8_1798_11ea_b68c_5cc9d3bb088frow1_col10\" class=\"data row1 col10\" >0.055</td>\n",
       "                        <td id=\"T_6e0bf6a8_1798_11ea_b68c_5cc9d3bb088frow1_col11\" class=\"data row1 col11\" >0.11</td>\n",
       "                        <td id=\"T_6e0bf6a8_1798_11ea_b68c_5cc9d3bb088frow1_col12\" class=\"data row1 col12\" >0.072</td>\n",
       "                        <td id=\"T_6e0bf6a8_1798_11ea_b68c_5cc9d3bb088frow1_col13\" class=\"data row1 col13\" >0.31</td>\n",
       "            </tr>\n",
       "            <tr>\n",
       "                        <th id=\"T_6e0bf6a8_1798_11ea_b68c_5cc9d3bb088flevel0_row2\" class=\"row_heading level0 row2\" >A3_Score</th>\n",
       "                        <td id=\"T_6e0bf6a8_1798_11ea_b68c_5cc9d3bb088frow2_col0\" class=\"data row2 col0\" >0.071</td>\n",
       "                        <td id=\"T_6e0bf6a8_1798_11ea_b68c_5cc9d3bb088frow2_col1\" class=\"data row2 col1\" >0.22</td>\n",
       "                        <td id=\"T_6e0bf6a8_1798_11ea_b68c_5cc9d3bb088frow2_col2\" class=\"data row2 col2\" >1.0</td>\n",
       "                        <td id=\"T_6e0bf6a8_1798_11ea_b68c_5cc9d3bb088frow2_col3\" class=\"data row2 col3\" >0.41</td>\n",
       "                        <td id=\"T_6e0bf6a8_1798_11ea_b68c_5cc9d3bb088frow2_col4\" class=\"data row2 col4\" >0.27</td>\n",
       "                        <td id=\"T_6e0bf6a8_1798_11ea_b68c_5cc9d3bb088frow2_col5\" class=\"data row2 col5\" >0.27</td>\n",
       "                        <td id=\"T_6e0bf6a8_1798_11ea_b68c_5cc9d3bb088frow2_col6\" class=\"data row2 col6\" >0.079</td>\n",
       "                        <td id=\"T_6e0bf6a8_1798_11ea_b68c_5cc9d3bb088frow2_col7\" class=\"data row2 col7\" >0.014</td>\n",
       "                        <td id=\"T_6e0bf6a8_1798_11ea_b68c_5cc9d3bb088frow2_col8\" class=\"data row2 col8\" >0.31</td>\n",
       "                        <td id=\"T_6e0bf6a8_1798_11ea_b68c_5cc9d3bb088frow2_col9\" class=\"data row2 col9\" >0.17</td>\n",
       "                        <td id=\"T_6e0bf6a8_1798_11ea_b68c_5cc9d3bb088frow2_col10\" class=\"data row2 col10\" >0.0066</td>\n",
       "                        <td id=\"T_6e0bf6a8_1798_11ea_b68c_5cc9d3bb088frow2_col11\" class=\"data row2 col11\" >0.064</td>\n",
       "                        <td id=\"T_6e0bf6a8_1798_11ea_b68c_5cc9d3bb088frow2_col12\" class=\"data row2 col12\" >0.11</td>\n",
       "                        <td id=\"T_6e0bf6a8_1798_11ea_b68c_5cc9d3bb088frow2_col13\" class=\"data row2 col13\" >0.44</td>\n",
       "            </tr>\n",
       "            <tr>\n",
       "                        <th id=\"T_6e0bf6a8_1798_11ea_b68c_5cc9d3bb088flevel0_row3\" class=\"row_heading level0 row3\" >A4_Score</th>\n",
       "                        <td id=\"T_6e0bf6a8_1798_11ea_b68c_5cc9d3bb088frow3_col0\" class=\"data row3 col0\" >0.13</td>\n",
       "                        <td id=\"T_6e0bf6a8_1798_11ea_b68c_5cc9d3bb088frow3_col1\" class=\"data row3 col1\" >0.16</td>\n",
       "                        <td id=\"T_6e0bf6a8_1798_11ea_b68c_5cc9d3bb088frow3_col2\" class=\"data row3 col2\" >0.41</td>\n",
       "                        <td id=\"T_6e0bf6a8_1798_11ea_b68c_5cc9d3bb088frow3_col3\" class=\"data row3 col3\" >1.0</td>\n",
       "                        <td id=\"T_6e0bf6a8_1798_11ea_b68c_5cc9d3bb088frow3_col4\" class=\"data row3 col4\" >0.31</td>\n",
       "                        <td id=\"T_6e0bf6a8_1798_11ea_b68c_5cc9d3bb088frow3_col5\" class=\"data row3 col5\" >0.29</td>\n",
       "                        <td id=\"T_6e0bf6a8_1798_11ea_b68c_5cc9d3bb088frow3_col6\" class=\"data row3 col6\" >0.15</td>\n",
       "                        <td id=\"T_6e0bf6a8_1798_11ea_b68c_5cc9d3bb088frow3_col7\" class=\"data row3 col7\" >0.0097</td>\n",
       "                        <td id=\"T_6e0bf6a8_1798_11ea_b68c_5cc9d3bb088frow3_col8\" class=\"data row3 col8\" >0.32</td>\n",
       "                        <td id=\"T_6e0bf6a8_1798_11ea_b68c_5cc9d3bb088frow3_col9\" class=\"data row3 col9\" >0.21</td>\n",
       "                        <td id=\"T_6e0bf6a8_1798_11ea_b68c_5cc9d3bb088frow3_col10\" class=\"data row3 col10\" >0.058</td>\n",
       "                        <td id=\"T_6e0bf6a8_1798_11ea_b68c_5cc9d3bb088frow3_col11\" class=\"data row3 col11\" >0.065</td>\n",
       "                        <td id=\"T_6e0bf6a8_1798_11ea_b68c_5cc9d3bb088frow3_col12\" class=\"data row3 col12\" >0.19</td>\n",
       "                        <td id=\"T_6e0bf6a8_1798_11ea_b68c_5cc9d3bb088frow3_col13\" class=\"data row3 col13\" >0.47</td>\n",
       "            </tr>\n",
       "            <tr>\n",
       "                        <th id=\"T_6e0bf6a8_1798_11ea_b68c_5cc9d3bb088flevel0_row4\" class=\"row_heading level0 row4\" >A5_Score</th>\n",
       "                        <td id=\"T_6e0bf6a8_1798_11ea_b68c_5cc9d3bb088frow4_col0\" class=\"data row4 col0\" >0.17</td>\n",
       "                        <td id=\"T_6e0bf6a8_1798_11ea_b68c_5cc9d3bb088frow4_col1\" class=\"data row4 col1\" >0.15</td>\n",
       "                        <td id=\"T_6e0bf6a8_1798_11ea_b68c_5cc9d3bb088frow4_col2\" class=\"data row4 col2\" >0.27</td>\n",
       "                        <td id=\"T_6e0bf6a8_1798_11ea_b68c_5cc9d3bb088frow4_col3\" class=\"data row4 col3\" >0.31</td>\n",
       "                        <td id=\"T_6e0bf6a8_1798_11ea_b68c_5cc9d3bb088frow4_col4\" class=\"data row4 col4\" >1.0</td>\n",
       "                        <td id=\"T_6e0bf6a8_1798_11ea_b68c_5cc9d3bb088frow4_col5\" class=\"data row4 col5\" >0.39</td>\n",
       "                        <td id=\"T_6e0bf6a8_1798_11ea_b68c_5cc9d3bb088frow4_col6\" class=\"data row4 col6\" >0.24</td>\n",
       "                        <td id=\"T_6e0bf6a8_1798_11ea_b68c_5cc9d3bb088frow4_col7\" class=\"data row4 col7\" >0.099</td>\n",
       "                        <td id=\"T_6e0bf6a8_1798_11ea_b68c_5cc9d3bb088frow4_col8\" class=\"data row4 col8\" >0.4</td>\n",
       "                        <td id=\"T_6e0bf6a8_1798_11ea_b68c_5cc9d3bb088frow4_col9\" class=\"data row4 col9\" >0.27</td>\n",
       "                        <td id=\"T_6e0bf6a8_1798_11ea_b68c_5cc9d3bb088frow4_col10\" class=\"data row4 col10\" >0.041</td>\n",
       "                        <td id=\"T_6e0bf6a8_1798_11ea_b68c_5cc9d3bb088frow4_col11\" class=\"data row4 col11\" >0.036</td>\n",
       "                        <td id=\"T_6e0bf6a8_1798_11ea_b68c_5cc9d3bb088frow4_col12\" class=\"data row4 col12\" >0.088</td>\n",
       "                        <td id=\"T_6e0bf6a8_1798_11ea_b68c_5cc9d3bb088frow4_col13\" class=\"data row4 col13\" >0.54</td>\n",
       "            </tr>\n",
       "            <tr>\n",
       "                        <th id=\"T_6e0bf6a8_1798_11ea_b68c_5cc9d3bb088flevel0_row5\" class=\"row_heading level0 row5\" >A6_Score</th>\n",
       "                        <td id=\"T_6e0bf6a8_1798_11ea_b68c_5cc9d3bb088frow5_col0\" class=\"data row5 col0\" >0.11</td>\n",
       "                        <td id=\"T_6e0bf6a8_1798_11ea_b68c_5cc9d3bb088frow5_col1\" class=\"data row5 col1\" >0.18</td>\n",
       "                        <td id=\"T_6e0bf6a8_1798_11ea_b68c_5cc9d3bb088frow5_col2\" class=\"data row5 col2\" >0.27</td>\n",
       "                        <td id=\"T_6e0bf6a8_1798_11ea_b68c_5cc9d3bb088frow5_col3\" class=\"data row5 col3\" >0.29</td>\n",
       "                        <td id=\"T_6e0bf6a8_1798_11ea_b68c_5cc9d3bb088frow5_col4\" class=\"data row5 col4\" >0.39</td>\n",
       "                        <td id=\"T_6e0bf6a8_1798_11ea_b68c_5cc9d3bb088frow5_col5\" class=\"data row5 col5\" >1.0</td>\n",
       "                        <td id=\"T_6e0bf6a8_1798_11ea_b68c_5cc9d3bb088frow5_col6\" class=\"data row5 col6\" >0.17</td>\n",
       "                        <td id=\"T_6e0bf6a8_1798_11ea_b68c_5cc9d3bb088frow5_col7\" class=\"data row5 col7\" >0.099</td>\n",
       "                        <td id=\"T_6e0bf6a8_1798_11ea_b68c_5cc9d3bb088frow5_col8\" class=\"data row5 col8\" >0.48</td>\n",
       "                        <td id=\"T_6e0bf6a8_1798_11ea_b68c_5cc9d3bb088frow5_col9\" class=\"data row5 col9\" >0.29</td>\n",
       "                        <td id=\"T_6e0bf6a8_1798_11ea_b68c_5cc9d3bb088frow5_col10\" class=\"data row5 col10\" >0.088</td>\n",
       "                        <td id=\"T_6e0bf6a8_1798_11ea_b68c_5cc9d3bb088frow5_col11\" class=\"data row5 col11\" >0.079</td>\n",
       "                        <td id=\"T_6e0bf6a8_1798_11ea_b68c_5cc9d3bb088frow5_col12\" class=\"data row5 col12\" >0.11</td>\n",
       "                        <td id=\"T_6e0bf6a8_1798_11ea_b68c_5cc9d3bb088frow5_col13\" class=\"data row5 col13\" >0.59</td>\n",
       "            </tr>\n",
       "            <tr>\n",
       "                        <th id=\"T_6e0bf6a8_1798_11ea_b68c_5cc9d3bb088flevel0_row6\" class=\"row_heading level0 row6\" >A7_Score</th>\n",
       "                        <td id=\"T_6e0bf6a8_1798_11ea_b68c_5cc9d3bb088frow6_col0\" class=\"data row6 col0\" >0.22</td>\n",
       "                        <td id=\"T_6e0bf6a8_1798_11ea_b68c_5cc9d3bb088frow6_col1\" class=\"data row6 col1\" >-0.042</td>\n",
       "                        <td id=\"T_6e0bf6a8_1798_11ea_b68c_5cc9d3bb088frow6_col2\" class=\"data row6 col2\" >0.079</td>\n",
       "                        <td id=\"T_6e0bf6a8_1798_11ea_b68c_5cc9d3bb088frow6_col3\" class=\"data row6 col3\" >0.15</td>\n",
       "                        <td id=\"T_6e0bf6a8_1798_11ea_b68c_5cc9d3bb088frow6_col4\" class=\"data row6 col4\" >0.24</td>\n",
       "                        <td id=\"T_6e0bf6a8_1798_11ea_b68c_5cc9d3bb088frow6_col5\" class=\"data row6 col5\" >0.17</td>\n",
       "                        <td id=\"T_6e0bf6a8_1798_11ea_b68c_5cc9d3bb088frow6_col6\" class=\"data row6 col6\" >1.0</td>\n",
       "                        <td id=\"T_6e0bf6a8_1798_11ea_b68c_5cc9d3bb088frow6_col7\" class=\"data row6 col7\" >0.084</td>\n",
       "                        <td id=\"T_6e0bf6a8_1798_11ea_b68c_5cc9d3bb088frow6_col8\" class=\"data row6 col8\" >0.19</td>\n",
       "                        <td id=\"T_6e0bf6a8_1798_11ea_b68c_5cc9d3bb088frow6_col9\" class=\"data row6 col9\" >0.25</td>\n",
       "                        <td id=\"T_6e0bf6a8_1798_11ea_b68c_5cc9d3bb088frow6_col10\" class=\"data row6 col10\" >-0.063</td>\n",
       "                        <td id=\"T_6e0bf6a8_1798_11ea_b68c_5cc9d3bb088frow6_col11\" class=\"data row6 col11\" >0.032</td>\n",
       "                        <td id=\"T_6e0bf6a8_1798_11ea_b68c_5cc9d3bb088frow6_col12\" class=\"data row6 col12\" >-0.013</td>\n",
       "                        <td id=\"T_6e0bf6a8_1798_11ea_b68c_5cc9d3bb088frow6_col13\" class=\"data row6 col13\" >0.35</td>\n",
       "            </tr>\n",
       "            <tr>\n",
       "                        <th id=\"T_6e0bf6a8_1798_11ea_b68c_5cc9d3bb088flevel0_row7\" class=\"row_heading level0 row7\" >A8_Score</th>\n",
       "                        <td id=\"T_6e0bf6a8_1798_11ea_b68c_5cc9d3bb088frow7_col0\" class=\"data row7 col0\" >0.14</td>\n",
       "                        <td id=\"T_6e0bf6a8_1798_11ea_b68c_5cc9d3bb088frow7_col1\" class=\"data row7 col1\" >0.032</td>\n",
       "                        <td id=\"T_6e0bf6a8_1798_11ea_b68c_5cc9d3bb088frow7_col2\" class=\"data row7 col2\" >0.014</td>\n",
       "                        <td id=\"T_6e0bf6a8_1798_11ea_b68c_5cc9d3bb088frow7_col3\" class=\"data row7 col3\" >0.0097</td>\n",
       "                        <td id=\"T_6e0bf6a8_1798_11ea_b68c_5cc9d3bb088frow7_col4\" class=\"data row7 col4\" >0.099</td>\n",
       "                        <td id=\"T_6e0bf6a8_1798_11ea_b68c_5cc9d3bb088frow7_col5\" class=\"data row7 col5\" >0.099</td>\n",
       "                        <td id=\"T_6e0bf6a8_1798_11ea_b68c_5cc9d3bb088frow7_col6\" class=\"data row7 col6\" >0.084</td>\n",
       "                        <td id=\"T_6e0bf6a8_1798_11ea_b68c_5cc9d3bb088frow7_col7\" class=\"data row7 col7\" >1.0</td>\n",
       "                        <td id=\"T_6e0bf6a8_1798_11ea_b68c_5cc9d3bb088frow7_col8\" class=\"data row7 col8\" >0.1</td>\n",
       "                        <td id=\"T_6e0bf6a8_1798_11ea_b68c_5cc9d3bb088frow7_col9\" class=\"data row7 col9\" >0.1</td>\n",
       "                        <td id=\"T_6e0bf6a8_1798_11ea_b68c_5cc9d3bb088frow7_col10\" class=\"data row7 col10\" >-0.062</td>\n",
       "                        <td id=\"T_6e0bf6a8_1798_11ea_b68c_5cc9d3bb088frow7_col11\" class=\"data row7 col11\" >0.014</td>\n",
       "                        <td id=\"T_6e0bf6a8_1798_11ea_b68c_5cc9d3bb088frow7_col12\" class=\"data row7 col12\" >0.034</td>\n",
       "                        <td id=\"T_6e0bf6a8_1798_11ea_b68c_5cc9d3bb088frow7_col13\" class=\"data row7 col13\" >0.24</td>\n",
       "            </tr>\n",
       "            <tr>\n",
       "                        <th id=\"T_6e0bf6a8_1798_11ea_b68c_5cc9d3bb088flevel0_row8\" class=\"row_heading level0 row8\" >A9_Score</th>\n",
       "                        <td id=\"T_6e0bf6a8_1798_11ea_b68c_5cc9d3bb088frow8_col0\" class=\"data row8 col0\" >0.15</td>\n",
       "                        <td id=\"T_6e0bf6a8_1798_11ea_b68c_5cc9d3bb088frow8_col1\" class=\"data row8 col1\" >0.2</td>\n",
       "                        <td id=\"T_6e0bf6a8_1798_11ea_b68c_5cc9d3bb088frow8_col2\" class=\"data row8 col2\" >0.31</td>\n",
       "                        <td id=\"T_6e0bf6a8_1798_11ea_b68c_5cc9d3bb088frow8_col3\" class=\"data row8 col3\" >0.32</td>\n",
       "                        <td id=\"T_6e0bf6a8_1798_11ea_b68c_5cc9d3bb088frow8_col4\" class=\"data row8 col4\" >0.4</td>\n",
       "                        <td id=\"T_6e0bf6a8_1798_11ea_b68c_5cc9d3bb088frow8_col5\" class=\"data row8 col5\" >0.48</td>\n",
       "                        <td id=\"T_6e0bf6a8_1798_11ea_b68c_5cc9d3bb088frow8_col6\" class=\"data row8 col6\" >0.19</td>\n",
       "                        <td id=\"T_6e0bf6a8_1798_11ea_b68c_5cc9d3bb088frow8_col7\" class=\"data row8 col7\" >0.1</td>\n",
       "                        <td id=\"T_6e0bf6a8_1798_11ea_b68c_5cc9d3bb088frow8_col8\" class=\"data row8 col8\" >1.0</td>\n",
       "                        <td id=\"T_6e0bf6a8_1798_11ea_b68c_5cc9d3bb088frow8_col9\" class=\"data row8 col9\" >0.28</td>\n",
       "                        <td id=\"T_6e0bf6a8_1798_11ea_b68c_5cc9d3bb088frow8_col10\" class=\"data row8 col10\" >-0.0039</td>\n",
       "                        <td id=\"T_6e0bf6a8_1798_11ea_b68c_5cc9d3bb088frow8_col11\" class=\"data row8 col11\" >0.058</td>\n",
       "                        <td id=\"T_6e0bf6a8_1798_11ea_b68c_5cc9d3bb088frow8_col12\" class=\"data row8 col12\" >0.16</td>\n",
       "                        <td id=\"T_6e0bf6a8_1798_11ea_b68c_5cc9d3bb088frow8_col13\" class=\"data row8 col13\" >0.63</td>\n",
       "            </tr>\n",
       "            <tr>\n",
       "                        <th id=\"T_6e0bf6a8_1798_11ea_b68c_5cc9d3bb088flevel0_row9\" class=\"row_heading level0 row9\" >A10_Score</th>\n",
       "                        <td id=\"T_6e0bf6a8_1798_11ea_b68c_5cc9d3bb088frow9_col0\" class=\"data row9 col0\" >0.12</td>\n",
       "                        <td id=\"T_6e0bf6a8_1798_11ea_b68c_5cc9d3bb088frow9_col1\" class=\"data row9 col1\" >0.069</td>\n",
       "                        <td id=\"T_6e0bf6a8_1798_11ea_b68c_5cc9d3bb088frow9_col2\" class=\"data row9 col2\" >0.17</td>\n",
       "                        <td id=\"T_6e0bf6a8_1798_11ea_b68c_5cc9d3bb088frow9_col3\" class=\"data row9 col3\" >0.21</td>\n",
       "                        <td id=\"T_6e0bf6a8_1798_11ea_b68c_5cc9d3bb088frow9_col4\" class=\"data row9 col4\" >0.27</td>\n",
       "                        <td id=\"T_6e0bf6a8_1798_11ea_b68c_5cc9d3bb088frow9_col5\" class=\"data row9 col5\" >0.29</td>\n",
       "                        <td id=\"T_6e0bf6a8_1798_11ea_b68c_5cc9d3bb088frow9_col6\" class=\"data row9 col6\" >0.25</td>\n",
       "                        <td id=\"T_6e0bf6a8_1798_11ea_b68c_5cc9d3bb088frow9_col7\" class=\"data row9 col7\" >0.1</td>\n",
       "                        <td id=\"T_6e0bf6a8_1798_11ea_b68c_5cc9d3bb088frow9_col8\" class=\"data row9 col8\" >0.28</td>\n",
       "                        <td id=\"T_6e0bf6a8_1798_11ea_b68c_5cc9d3bb088frow9_col9\" class=\"data row9 col9\" >1.0</td>\n",
       "                        <td id=\"T_6e0bf6a8_1798_11ea_b68c_5cc9d3bb088frow9_col10\" class=\"data row9 col10\" >0.057</td>\n",
       "                        <td id=\"T_6e0bf6a8_1798_11ea_b68c_5cc9d3bb088frow9_col11\" class=\"data row9 col11\" >0.052</td>\n",
       "                        <td id=\"T_6e0bf6a8_1798_11ea_b68c_5cc9d3bb088frow9_col12\" class=\"data row9 col12\" >0.11</td>\n",
       "                        <td id=\"T_6e0bf6a8_1798_11ea_b68c_5cc9d3bb088frow9_col13\" class=\"data row9 col13\" >0.38</td>\n",
       "            </tr>\n",
       "            <tr>\n",
       "                        <th id=\"T_6e0bf6a8_1798_11ea_b68c_5cc9d3bb088flevel0_row10\" class=\"row_heading level0 row10\" >gender</th>\n",
       "                        <td id=\"T_6e0bf6a8_1798_11ea_b68c_5cc9d3bb088frow10_col0\" class=\"data row10 col0\" >0.078</td>\n",
       "                        <td id=\"T_6e0bf6a8_1798_11ea_b68c_5cc9d3bb088frow10_col1\" class=\"data row10 col1\" >0.055</td>\n",
       "                        <td id=\"T_6e0bf6a8_1798_11ea_b68c_5cc9d3bb088frow10_col2\" class=\"data row10 col2\" >0.0066</td>\n",
       "                        <td id=\"T_6e0bf6a8_1798_11ea_b68c_5cc9d3bb088frow10_col3\" class=\"data row10 col3\" >0.058</td>\n",
       "                        <td id=\"T_6e0bf6a8_1798_11ea_b68c_5cc9d3bb088frow10_col4\" class=\"data row10 col4\" >0.041</td>\n",
       "                        <td id=\"T_6e0bf6a8_1798_11ea_b68c_5cc9d3bb088frow10_col5\" class=\"data row10 col5\" >0.088</td>\n",
       "                        <td id=\"T_6e0bf6a8_1798_11ea_b68c_5cc9d3bb088frow10_col6\" class=\"data row10 col6\" >-0.063</td>\n",
       "                        <td id=\"T_6e0bf6a8_1798_11ea_b68c_5cc9d3bb088frow10_col7\" class=\"data row10 col7\" >-0.062</td>\n",
       "                        <td id=\"T_6e0bf6a8_1798_11ea_b68c_5cc9d3bb088frow10_col8\" class=\"data row10 col8\" >-0.0039</td>\n",
       "                        <td id=\"T_6e0bf6a8_1798_11ea_b68c_5cc9d3bb088frow10_col9\" class=\"data row10 col9\" >0.057</td>\n",
       "                        <td id=\"T_6e0bf6a8_1798_11ea_b68c_5cc9d3bb088frow10_col10\" class=\"data row10 col10\" >1.0</td>\n",
       "                        <td id=\"T_6e0bf6a8_1798_11ea_b68c_5cc9d3bb088frow10_col11\" class=\"data row10 col11\" >0.018</td>\n",
       "                        <td id=\"T_6e0bf6a8_1798_11ea_b68c_5cc9d3bb088frow10_col12\" class=\"data row10 col12\" >0.092</td>\n",
       "                        <td id=\"T_6e0bf6a8_1798_11ea_b68c_5cc9d3bb088frow10_col13\" class=\"data row10 col13\" >0.085</td>\n",
       "            </tr>\n",
       "            <tr>\n",
       "                        <th id=\"T_6e0bf6a8_1798_11ea_b68c_5cc9d3bb088flevel0_row11\" class=\"row_heading level0 row11\" >jundice</th>\n",
       "                        <td id=\"T_6e0bf6a8_1798_11ea_b68c_5cc9d3bb088frow11_col0\" class=\"data row11 col0\" >-0.018</td>\n",
       "                        <td id=\"T_6e0bf6a8_1798_11ea_b68c_5cc9d3bb088frow11_col1\" class=\"data row11 col1\" >0.11</td>\n",
       "                        <td id=\"T_6e0bf6a8_1798_11ea_b68c_5cc9d3bb088frow11_col2\" class=\"data row11 col2\" >0.064</td>\n",
       "                        <td id=\"T_6e0bf6a8_1798_11ea_b68c_5cc9d3bb088frow11_col3\" class=\"data row11 col3\" >0.065</td>\n",
       "                        <td id=\"T_6e0bf6a8_1798_11ea_b68c_5cc9d3bb088frow11_col4\" class=\"data row11 col4\" >0.036</td>\n",
       "                        <td id=\"T_6e0bf6a8_1798_11ea_b68c_5cc9d3bb088frow11_col5\" class=\"data row11 col5\" >0.079</td>\n",
       "                        <td id=\"T_6e0bf6a8_1798_11ea_b68c_5cc9d3bb088frow11_col6\" class=\"data row11 col6\" >0.032</td>\n",
       "                        <td id=\"T_6e0bf6a8_1798_11ea_b68c_5cc9d3bb088frow11_col7\" class=\"data row11 col7\" >0.014</td>\n",
       "                        <td id=\"T_6e0bf6a8_1798_11ea_b68c_5cc9d3bb088frow11_col8\" class=\"data row11 col8\" >0.058</td>\n",
       "                        <td id=\"T_6e0bf6a8_1798_11ea_b68c_5cc9d3bb088frow11_col9\" class=\"data row11 col9\" >0.052</td>\n",
       "                        <td id=\"T_6e0bf6a8_1798_11ea_b68c_5cc9d3bb088frow11_col10\" class=\"data row11 col10\" >0.018</td>\n",
       "                        <td id=\"T_6e0bf6a8_1798_11ea_b68c_5cc9d3bb088frow11_col11\" class=\"data row11 col11\" >1.0</td>\n",
       "                        <td id=\"T_6e0bf6a8_1798_11ea_b68c_5cc9d3bb088frow11_col12\" class=\"data row11 col12\" >0.16</td>\n",
       "                        <td id=\"T_6e0bf6a8_1798_11ea_b68c_5cc9d3bb088frow11_col13\" class=\"data row11 col13\" >0.1</td>\n",
       "            </tr>\n",
       "            <tr>\n",
       "                        <th id=\"T_6e0bf6a8_1798_11ea_b68c_5cc9d3bb088flevel0_row12\" class=\"row_heading level0 row12\" >austim</th>\n",
       "                        <td id=\"T_6e0bf6a8_1798_11ea_b68c_5cc9d3bb088frow12_col0\" class=\"data row12 col0\" >0.097</td>\n",
       "                        <td id=\"T_6e0bf6a8_1798_11ea_b68c_5cc9d3bb088frow12_col1\" class=\"data row12 col1\" >0.072</td>\n",
       "                        <td id=\"T_6e0bf6a8_1798_11ea_b68c_5cc9d3bb088frow12_col2\" class=\"data row12 col2\" >0.11</td>\n",
       "                        <td id=\"T_6e0bf6a8_1798_11ea_b68c_5cc9d3bb088frow12_col3\" class=\"data row12 col3\" >0.19</td>\n",
       "                        <td id=\"T_6e0bf6a8_1798_11ea_b68c_5cc9d3bb088frow12_col4\" class=\"data row12 col4\" >0.088</td>\n",
       "                        <td id=\"T_6e0bf6a8_1798_11ea_b68c_5cc9d3bb088frow12_col5\" class=\"data row12 col5\" >0.11</td>\n",
       "                        <td id=\"T_6e0bf6a8_1798_11ea_b68c_5cc9d3bb088frow12_col6\" class=\"data row12 col6\" >-0.013</td>\n",
       "                        <td id=\"T_6e0bf6a8_1798_11ea_b68c_5cc9d3bb088frow12_col7\" class=\"data row12 col7\" >0.034</td>\n",
       "                        <td id=\"T_6e0bf6a8_1798_11ea_b68c_5cc9d3bb088frow12_col8\" class=\"data row12 col8\" >0.16</td>\n",
       "                        <td id=\"T_6e0bf6a8_1798_11ea_b68c_5cc9d3bb088frow12_col9\" class=\"data row12 col9\" >0.11</td>\n",
       "                        <td id=\"T_6e0bf6a8_1798_11ea_b68c_5cc9d3bb088frow12_col10\" class=\"data row12 col10\" >0.092</td>\n",
       "                        <td id=\"T_6e0bf6a8_1798_11ea_b68c_5cc9d3bb088frow12_col11\" class=\"data row12 col11\" >0.16</td>\n",
       "                        <td id=\"T_6e0bf6a8_1798_11ea_b68c_5cc9d3bb088frow12_col12\" class=\"data row12 col12\" >1.0</td>\n",
       "                        <td id=\"T_6e0bf6a8_1798_11ea_b68c_5cc9d3bb088frow12_col13\" class=\"data row12 col13\" >0.17</td>\n",
       "            </tr>\n",
       "            <tr>\n",
       "                        <th id=\"T_6e0bf6a8_1798_11ea_b68c_5cc9d3bb088flevel0_row13\" class=\"row_heading level0 row13\" >has_autism</th>\n",
       "                        <td id=\"T_6e0bf6a8_1798_11ea_b68c_5cc9d3bb088frow13_col0\" class=\"data row13 col0\" >0.3</td>\n",
       "                        <td id=\"T_6e0bf6a8_1798_11ea_b68c_5cc9d3bb088frow13_col1\" class=\"data row13 col1\" >0.31</td>\n",
       "                        <td id=\"T_6e0bf6a8_1798_11ea_b68c_5cc9d3bb088frow13_col2\" class=\"data row13 col2\" >0.44</td>\n",
       "                        <td id=\"T_6e0bf6a8_1798_11ea_b68c_5cc9d3bb088frow13_col3\" class=\"data row13 col3\" >0.47</td>\n",
       "                        <td id=\"T_6e0bf6a8_1798_11ea_b68c_5cc9d3bb088frow13_col4\" class=\"data row13 col4\" >0.54</td>\n",
       "                        <td id=\"T_6e0bf6a8_1798_11ea_b68c_5cc9d3bb088frow13_col5\" class=\"data row13 col5\" >0.59</td>\n",
       "                        <td id=\"T_6e0bf6a8_1798_11ea_b68c_5cc9d3bb088frow13_col6\" class=\"data row13 col6\" >0.35</td>\n",
       "                        <td id=\"T_6e0bf6a8_1798_11ea_b68c_5cc9d3bb088frow13_col7\" class=\"data row13 col7\" >0.24</td>\n",
       "                        <td id=\"T_6e0bf6a8_1798_11ea_b68c_5cc9d3bb088frow13_col8\" class=\"data row13 col8\" >0.63</td>\n",
       "                        <td id=\"T_6e0bf6a8_1798_11ea_b68c_5cc9d3bb088frow13_col9\" class=\"data row13 col9\" >0.38</td>\n",
       "                        <td id=\"T_6e0bf6a8_1798_11ea_b68c_5cc9d3bb088frow13_col10\" class=\"data row13 col10\" >0.085</td>\n",
       "                        <td id=\"T_6e0bf6a8_1798_11ea_b68c_5cc9d3bb088frow13_col11\" class=\"data row13 col11\" >0.1</td>\n",
       "                        <td id=\"T_6e0bf6a8_1798_11ea_b68c_5cc9d3bb088frow13_col12\" class=\"data row13 col12\" >0.17</td>\n",
       "                        <td id=\"T_6e0bf6a8_1798_11ea_b68c_5cc9d3bb088frow13_col13\" class=\"data row13 col13\" >1.0</td>\n",
       "            </tr>\n",
       "    </tbody></table>"
      ],
      "text/plain": [
       "<pandas.io.formats.style.Styler at 0x2dddcb4d5c0>"
      ]
     },
     "execution_count": 14,
     "metadata": {},
     "output_type": "execute_result"
    }
   ],
   "source": [
    "#correlação de uma variavel para todas as outras\n",
    "autism_data.corr().style.format(\"{:.2}\").background_gradient(cmap = plt.get_cmap('coolwarm'),axis=1)"
   ]
  },
  {
   "cell_type": "code",
   "execution_count": 15,
   "metadata": {},
   "outputs": [
    {
     "data": {
      "text/plain": [
       "<seaborn.matrix.ClusterGrid at 0x2dddd11ce80>"
      ]
     },
     "execution_count": 15,
     "metadata": {},
     "output_type": "execute_result"
    },
    {
     "data": {
      "image/png": "[encoded data removed]",
      "text/plain": [
       "<Figure size 720x720 with 4 Axes>"
      ]
     },
     "metadata": {},
     "output_type": "display_data"
    }
   ],
   "source": [
    "#o gráfico demonstra o grau de relacionamento entre as variáveis\n",
    "sns.clustermap(autism_data.corr(), metric=\"correlation\", method=\"single\", cmap=\"Blues\", standard_scale=1)"
   ]
  },
  {
   "cell_type": "code",
   "execution_count": 16,
   "metadata": {},
   "outputs": [],
   "source": [
    "#'has_autism' tem forte relação com 'A9_Score'\n",
    "#em seguida de A6_Score e A5_Score juntamente com A4_Score"
   ]
  },
  {
   "cell_type": "code",
   "execution_count": 17,
   "metadata": {},
   "outputs": [],
   "source": [
    "## testes de PCA -- ignorar daqui"
   ]
  },
  {
   "cell_type": "code",
   "execution_count": 18,
   "metadata": {},
   "outputs": [
    {
     "name": "stdout",
     "output_type": "stream",
     "text": [
      "PCA(copy=True, iterated_power='auto', n_components=None, random_state=None,\n",
      "    svd_solver='auto', tol=0.0, whiten=False)\n",
      "____________________________________________________________________________\n",
      "O número de colunas exclusivas é: 13\n",
      "____________________________________________________________________________\n",
      "[ 21.73267302  36.34669389  49.75604673  62.50642889  74.46753252\n",
      "  85.98530351  97.26255819 107.66788511 117.75714221 127.78064822\n",
      " 136.59993385 145.16539399 152.53894899]\n",
      "____________________________________________________________________________\n",
      "[21.73267302 14.61402087 13.40935284 12.75038215 11.96110363 11.517771\n",
      " 11.27725468 10.40532692 10.08925709 10.02350602  8.81928562  8.56546015\n",
      "  7.373555  ]\n",
      "____________________________________________________________________________\n"
     ]
    },
    {
     "data": {
      "text/plain": [
       "<matplotlib.collections.PathCollection at 0x2ddddfc15c0>"
      ]
     },
     "execution_count": 18,
     "metadata": {},
     "output_type": "execute_result"
    },
    {
     "data": {
      "image/png": "[encoded data removed]",
      "text/plain": [
       "<Figure size 432x288 with 1 Axes>"
      ]
     },
     "metadata": {},
     "output_type": "display_data"
    }
   ],
   "source": [
    "#01\n",
    "#gerando bases através da redução de dimensionalidade via PCA\n",
    "from sklearn.decomposition import PCA\n",
    "\n",
    "#pca = PCA(n_components=2)\n",
    "pca = PCA(n_components=None)\n",
    "\n",
    "num_autism_data = autism_data.iloc[:,:13]\n",
    "\n",
    "print(pca.fit(num_autism_data))\n",
    "\n",
    "T = pca.transform(num_autism_data)\n",
    "\n",
    "print(\"____________________________________________________________________________\")\n",
    "print(\"O número de colunas exclusivas é:\", T.shape[1])\n",
    "\n",
    "#Os valores singulares correspondentes a cada um dos componentes selecionados.\n",
    "#Os valores singulares são iguais às 2 normas das variáveis n_components no espaço de menor dimensão.\n",
    "print(\"____________________________________________________________________________\")\n",
    "print(np.cumsum(pca.singular_values_))\n",
    "print(\"____________________________________________________________________________\")\n",
    "print(pca.singular_values_)\n",
    "print(\"____________________________________________________________________________\")\n",
    "plt.scatter(T[:,0], T[:,1])"
   ]
  },
  {
   "cell_type": "code",
   "execution_count": 19,
   "metadata": {},
   "outputs": [
    {
     "data": {
      "text/plain": [
       "<matplotlib.collections.PathCollection at 0x2dddecba048>"
      ]
     },
     "execution_count": 19,
     "metadata": {},
     "output_type": "execute_result"
    },
    {
     "data": {
      "image/png": "[encoded data removed]",
      "text/plain": [
       "<Figure size 432x288 with 1 Axes>"
      ]
     },
     "metadata": {},
     "output_type": "display_data"
    }
   ],
   "source": [
    "def cores_para_categorias(valores):\n",
    "    cores = {key: index for index, key in enumerate(valores.unique())}\n",
    "    return valores.apply(lambda x: cores[x])\n",
    "\n",
    "plt.scatter(T[:,0], T[:,1], c=cores_para_categorias(autism_data.has_autism), cmap='tab10')"
   ]
  },
  {
   "cell_type": "code",
   "execution_count": 20,
   "metadata": {},
   "outputs": [
    {
     "name": "stdout",
     "output_type": "stream",
     "text": [
      "[21.73267302 14.61402087 13.40935284 12.75038215 11.96110363 11.517771\n",
      " 11.27725468 10.40532692 10.08925709 10.02350602  8.81928562  8.56546015\n",
      "  7.373555  ]\n"
     ]
    }
   ],
   "source": [
    "print(pca.singular_values_)"
   ]
  },
  {
   "cell_type": "code",
   "execution_count": 21,
   "metadata": {},
   "outputs": [
    {
     "name": "stdout",
     "output_type": "stream",
     "text": [
      "O número de colunas exclusivas é: 13\n",
      "[0.24255608 0.35223554 0.44457801 0.52806759 0.60154069 0.66966824\n",
      " 0.73498019 0.79058307 0.8428593  0.89445638 0.93440049 0.97207844\n",
      " 1.        ]\n"
     ]
    }
   ],
   "source": [
    "print(\"O número de colunas exclusivas é:\", T.shape[1])\n",
    "print(np.cumsum(pca.explained_variance_ratio_))"
   ]
  },
  {
   "cell_type": "code",
   "execution_count": 22,
   "metadata": {},
   "outputs": [
    {
     "data": {
      "text/plain": [
       "<matplotlib.collections.PathCollection at 0x2ddded4eb38>"
      ]
     },
     "execution_count": 22,
     "metadata": {},
     "output_type": "execute_result"
    },
    {
     "data": {
      "image/png": "[encoded data removed]",
      "text/plain": [
       "<Figure size 432x288 with 1 Axes>"
      ]
     },
     "metadata": {},
     "output_type": "display_data"
    }
   ],
   "source": [
    "#testando dados transformados em uma mesma escala\n",
    "from sklearn.pipeline import make_pipeline\n",
    "from sklearn.preprocessing import StandardScaler\n",
    "\n",
    "pca = make_pipeline(StandardScaler(), PCA(n_components=2))\n",
    "pca.fit(num_autism_data)\n",
    "r2 = pca.transform(num_autism_data)\n",
    "\n",
    "plt.scatter(T[:,0], T[:,1], c=cores_para_categorias(autism_data.has_autism), cmap='tab10')"
   ]
  },
  {
   "cell_type": "code",
   "execution_count": 30,
   "metadata": {},
   "outputs": [
    {
     "data": {
      "text/plain": [
       "(-0.8, 0.6)"
      ]
     },
     "execution_count": 30,
     "metadata": {},
     "output_type": "execute_result"
    },
    {
     "data": {
      "image/png": "[encoded data removed]",
      "text/plain": [
       "<Figure size 432x288 with 1 Axes>"
      ]
     },
     "metadata": {},
     "output_type": "display_data"
    }
   ],
   "source": [
    "pca = PCA(n_components=4)\n",
    "pipe = make_pipeline(StandardScaler(), pca)\n",
    "\n",
    "pipe.fit(num_autism_data)\n",
    "r2 = pipe.transform(num_autism_data)\n",
    "\n",
    "plt.scatter(T[:,0], T[:,1], c=cores_para_categorias(autism_data.has_autism), cmap='tab10')\n",
    "\n",
    "coeff = np.transpose(pca.components_)\n",
    "for i in range(13):\n",
    "    plt.arrow(0, 0, coeff[i,0], coeff[i,1],color = 'red',alpha = 0.5)\n",
    "    plt.text(coeff[i,0]* 1.5, coeff[i,1] * 1.5, autism_data.columns[i], color = 'red', ha = 'center', va = 'center')\n",
    "\n",
    "\n",
    "plt.xlim(0,0.6)\n",
    "plt.ylim(-0.8,0.6)"
   ]
  },
  {
   "cell_type": "code",
   "execution_count": 25,
   "metadata": {},
   "outputs": [],
   "source": [
    "# Aparentemente o melhoramento mais significativo para o modelo de regressão é adicionando as variaveis:\n",
    "# A9_Score, A6_Score, A5_Score e A4_Score\n",
    "# pode-se propor um novo teste mas ponderando o valor das repostas, um AQ10 ponderado\n",
    "\n",
    "# Ou então escrever que o modelo com x/10 variaveis explica y% do resultado."
   ]
  },
  {
   "cell_type": "code",
   "execution_count": 26,
   "metadata": {},
   "outputs": [],
   "source": [
    "## testes de PCA -- até aqui"
   ]
  },
  {
   "cell_type": "code",
   "execution_count": 27,
   "metadata": {},
   "outputs": [],
   "source": [
    "#03 bases para redução de dimensionalidade via PCA\n",
    "X_or1 = autism_data.loc[:,['A3_Score','A4_Score','A5_Score','A6_Score','A9_Score']]\n",
    " \n",
    "X_or2 = autism_data.loc[:,['A1_Score','A2_Score','A7_Score','A8_Score','A10_Score']]\n",
    "\n",
    "X_or3 = autism_data.loc[:,['A9_Score','A6_Score','A4_Score','A7_Score','A10_Score']]\n",
    "\n",
    "X = autism_data.iloc[:,0:10]\n",
    "y = autism_data.has_autism\n",
    "\n",
    "Xy_data = autism_data.drop(['gender', 'jundice', 'austim'], axis=1)\n",
    "\n",
    "target_class = [0 ,1]\n"
   ]
  },
  {
   "cell_type": "code",
   "execution_count": 28,
   "metadata": {},
   "outputs": [],
   "source": [
    "#correlação para cada base"
   ]
  },
  {
   "cell_type": "code",
   "execution_count": 29,
   "metadata": {},
   "outputs": [
    {
     "data": {
      "text/html": [
       "<style  type=\"text/css\" >\n",
       "    #T_758d4a5c_178f_11ea_b01b_5cc9d3bb088frow0_col0 {\n",
       "            background-color:  #b40426;\n",
       "            color:  #f1f1f1;\n",
       "        }    #T_758d4a5c_178f_11ea_b01b_5cc9d3bb088frow0_col1 {\n",
       "            background-color:  #7da0f9;\n",
       "            color:  #000000;\n",
       "        }    #T_758d4a5c_178f_11ea_b01b_5cc9d3bb088frow0_col2 {\n",
       "            background-color:  #3b4cc0;\n",
       "            color:  #f1f1f1;\n",
       "        }    #T_758d4a5c_178f_11ea_b01b_5cc9d3bb088frow0_col3 {\n",
       "            background-color:  #3b4cc0;\n",
       "            color:  #f1f1f1;\n",
       "        }    #T_758d4a5c_178f_11ea_b01b_5cc9d3bb088frow0_col4 {\n",
       "            background-color:  #4f69d9;\n",
       "            color:  #000000;\n",
       "        }    #T_758d4a5c_178f_11ea_b01b_5cc9d3bb088frow1_col0 {\n",
       "            background-color:  #7295f4;\n",
       "            color:  #000000;\n",
       "        }    #T_758d4a5c_178f_11ea_b01b_5cc9d3bb088frow1_col1 {\n",
       "            background-color:  #b40426;\n",
       "            color:  #f1f1f1;\n",
       "        }    #T_758d4a5c_178f_11ea_b01b_5cc9d3bb088frow1_col2 {\n",
       "            background-color:  #4257c9;\n",
       "            color:  #f1f1f1;\n",
       "        }    #T_758d4a5c_178f_11ea_b01b_5cc9d3bb088frow1_col3 {\n",
       "            background-color:  #3b4cc0;\n",
       "            color:  #f1f1f1;\n",
       "        }    #T_758d4a5c_178f_11ea_b01b_5cc9d3bb088frow1_col4 {\n",
       "            background-color:  #485fd1;\n",
       "            color:  #f1f1f1;\n",
       "        }    #T_758d4a5c_178f_11ea_b01b_5cc9d3bb088frow2_col0 {\n",
       "            background-color:  #3b4cc0;\n",
       "            color:  #f1f1f1;\n",
       "        }    #T_758d4a5c_178f_11ea_b01b_5cc9d3bb088frow2_col1 {\n",
       "            background-color:  #4b64d5;\n",
       "            color:  #f1f1f1;\n",
       "        }    #T_758d4a5c_178f_11ea_b01b_5cc9d3bb088frow2_col2 {\n",
       "            background-color:  #b40426;\n",
       "            color:  #f1f1f1;\n",
       "        }    #T_758d4a5c_178f_11ea_b01b_5cc9d3bb088frow2_col3 {\n",
       "            background-color:  #7295f4;\n",
       "            color:  #000000;\n",
       "        }    #T_758d4a5c_178f_11ea_b01b_5cc9d3bb088frow2_col4 {\n",
       "            background-color:  #7396f5;\n",
       "            color:  #000000;\n",
       "        }    #T_758d4a5c_178f_11ea_b01b_5cc9d3bb088frow3_col0 {\n",
       "            background-color:  #3b4cc0;\n",
       "            color:  #f1f1f1;\n",
       "        }    #T_758d4a5c_178f_11ea_b01b_5cc9d3bb088frow3_col1 {\n",
       "            background-color:  #445acc;\n",
       "            color:  #f1f1f1;\n",
       "        }    #T_758d4a5c_178f_11ea_b01b_5cc9d3bb088frow3_col2 {\n",
       "            background-color:  #7093f3;\n",
       "            color:  #000000;\n",
       "        }    #T_758d4a5c_178f_11ea_b01b_5cc9d3bb088frow3_col3 {\n",
       "            background-color:  #b40426;\n",
       "            color:  #f1f1f1;\n",
       "        }    #T_758d4a5c_178f_11ea_b01b_5cc9d3bb088frow3_col4 {\n",
       "            background-color:  #98b9ff;\n",
       "            color:  #000000;\n",
       "        }    #T_758d4a5c_178f_11ea_b01b_5cc9d3bb088frow4_col0 {\n",
       "            background-color:  #3b4cc0;\n",
       "            color:  #f1f1f1;\n",
       "        }    #T_758d4a5c_178f_11ea_b01b_5cc9d3bb088frow4_col1 {\n",
       "            background-color:  #3e51c5;\n",
       "            color:  #f1f1f1;\n",
       "        }    #T_758d4a5c_178f_11ea_b01b_5cc9d3bb088frow4_col2 {\n",
       "            background-color:  #5f7fe8;\n",
       "            color:  #000000;\n",
       "        }    #T_758d4a5c_178f_11ea_b01b_5cc9d3bb088frow4_col3 {\n",
       "            background-color:  #86a9fc;\n",
       "            color:  #000000;\n",
       "        }    #T_758d4a5c_178f_11ea_b01b_5cc9d3bb088frow4_col4 {\n",
       "            background-color:  #b40426;\n",
       "            color:  #f1f1f1;\n",
       "        }</style><table id=\"T_758d4a5c_178f_11ea_b01b_5cc9d3bb088f\" ><thead>    <tr>        <th class=\"blank level0\" ></th>        <th class=\"col_heading level0 col0\" >A3_Score</th>        <th class=\"col_heading level0 col1\" >A4_Score</th>        <th class=\"col_heading level0 col2\" >A5_Score</th>        <th class=\"col_heading level0 col3\" >A6_Score</th>        <th class=\"col_heading level0 col4\" >A9_Score</th>    </tr></thead><tbody>\n",
       "                <tr>\n",
       "                        <th id=\"T_758d4a5c_178f_11ea_b01b_5cc9d3bb088flevel0_row0\" class=\"row_heading level0 row0\" >A3_Score</th>\n",
       "                        <td id=\"T_758d4a5c_178f_11ea_b01b_5cc9d3bb088frow0_col0\" class=\"data row0 col0\" >1.0</td>\n",
       "                        <td id=\"T_758d4a5c_178f_11ea_b01b_5cc9d3bb088frow0_col1\" class=\"data row0 col1\" >0.41</td>\n",
       "                        <td id=\"T_758d4a5c_178f_11ea_b01b_5cc9d3bb088frow0_col2\" class=\"data row0 col2\" >0.27</td>\n",
       "                        <td id=\"T_758d4a5c_178f_11ea_b01b_5cc9d3bb088frow0_col3\" class=\"data row0 col3\" >0.27</td>\n",
       "                        <td id=\"T_758d4a5c_178f_11ea_b01b_5cc9d3bb088frow0_col4\" class=\"data row0 col4\" >0.31</td>\n",
       "            </tr>\n",
       "            <tr>\n",
       "                        <th id=\"T_758d4a5c_178f_11ea_b01b_5cc9d3bb088flevel0_row1\" class=\"row_heading level0 row1\" >A4_Score</th>\n",
       "                        <td id=\"T_758d4a5c_178f_11ea_b01b_5cc9d3bb088frow1_col0\" class=\"data row1 col0\" >0.41</td>\n",
       "                        <td id=\"T_758d4a5c_178f_11ea_b01b_5cc9d3bb088frow1_col1\" class=\"data row1 col1\" >1.0</td>\n",
       "                        <td id=\"T_758d4a5c_178f_11ea_b01b_5cc9d3bb088frow1_col2\" class=\"data row1 col2\" >0.31</td>\n",
       "                        <td id=\"T_758d4a5c_178f_11ea_b01b_5cc9d3bb088frow1_col3\" class=\"data row1 col3\" >0.29</td>\n",
       "                        <td id=\"T_758d4a5c_178f_11ea_b01b_5cc9d3bb088frow1_col4\" class=\"data row1 col4\" >0.32</td>\n",
       "            </tr>\n",
       "            <tr>\n",
       "                        <th id=\"T_758d4a5c_178f_11ea_b01b_5cc9d3bb088flevel0_row2\" class=\"row_heading level0 row2\" >A5_Score</th>\n",
       "                        <td id=\"T_758d4a5c_178f_11ea_b01b_5cc9d3bb088frow2_col0\" class=\"data row2 col0\" >0.27</td>\n",
       "                        <td id=\"T_758d4a5c_178f_11ea_b01b_5cc9d3bb088frow2_col1\" class=\"data row2 col1\" >0.31</td>\n",
       "                        <td id=\"T_758d4a5c_178f_11ea_b01b_5cc9d3bb088frow2_col2\" class=\"data row2 col2\" >1.0</td>\n",
       "                        <td id=\"T_758d4a5c_178f_11ea_b01b_5cc9d3bb088frow2_col3\" class=\"data row2 col3\" >0.39</td>\n",
       "                        <td id=\"T_758d4a5c_178f_11ea_b01b_5cc9d3bb088frow2_col4\" class=\"data row2 col4\" >0.4</td>\n",
       "            </tr>\n",
       "            <tr>\n",
       "                        <th id=\"T_758d4a5c_178f_11ea_b01b_5cc9d3bb088flevel0_row3\" class=\"row_heading level0 row3\" >A6_Score</th>\n",
       "                        <td id=\"T_758d4a5c_178f_11ea_b01b_5cc9d3bb088frow3_col0\" class=\"data row3 col0\" >0.27</td>\n",
       "                        <td id=\"T_758d4a5c_178f_11ea_b01b_5cc9d3bb088frow3_col1\" class=\"data row3 col1\" >0.29</td>\n",
       "                        <td id=\"T_758d4a5c_178f_11ea_b01b_5cc9d3bb088frow3_col2\" class=\"data row3 col2\" >0.39</td>\n",
       "                        <td id=\"T_758d4a5c_178f_11ea_b01b_5cc9d3bb088frow3_col3\" class=\"data row3 col3\" >1.0</td>\n",
       "                        <td id=\"T_758d4a5c_178f_11ea_b01b_5cc9d3bb088frow3_col4\" class=\"data row3 col4\" >0.48</td>\n",
       "            </tr>\n",
       "            <tr>\n",
       "                        <th id=\"T_758d4a5c_178f_11ea_b01b_5cc9d3bb088flevel0_row4\" class=\"row_heading level0 row4\" >A9_Score</th>\n",
       "                        <td id=\"T_758d4a5c_178f_11ea_b01b_5cc9d3bb088frow4_col0\" class=\"data row4 col0\" >0.31</td>\n",
       "                        <td id=\"T_758d4a5c_178f_11ea_b01b_5cc9d3bb088frow4_col1\" class=\"data row4 col1\" >0.32</td>\n",
       "                        <td id=\"T_758d4a5c_178f_11ea_b01b_5cc9d3bb088frow4_col2\" class=\"data row4 col2\" >0.4</td>\n",
       "                        <td id=\"T_758d4a5c_178f_11ea_b01b_5cc9d3bb088frow4_col3\" class=\"data row4 col3\" >0.48</td>\n",
       "                        <td id=\"T_758d4a5c_178f_11ea_b01b_5cc9d3bb088frow4_col4\" class=\"data row4 col4\" >1.0</td>\n",
       "            </tr>\n",
       "    </tbody></table>"
      ],
      "text/plain": [
       "<pandas.io.formats.style.Styler at 0x1f800b03f28>"
      ]
     },
     "execution_count": 29,
     "metadata": {},
     "output_type": "execute_result"
    }
   ],
   "source": [
    "X_or1.corr().style.format(\"{:.2}\").background_gradient(cmap = plt.get_cmap('coolwarm'),axis=1)"
   ]
  },
  {
   "cell_type": "code",
   "execution_count": 30,
   "metadata": {},
   "outputs": [
    {
     "data": {
      "text/html": [
       "<style  type=\"text/css\" >\n",
       "    #T_75918d28_178f_11ea_938a_5cc9d3bb088frow0_col0 {\n",
       "            background-color:  #b40426;\n",
       "            color:  #f1f1f1;\n",
       "        }    #T_75918d28_178f_11ea_938a_5cc9d3bb088frow0_col1 {\n",
       "            background-color:  #3b4cc0;\n",
       "            color:  #f1f1f1;\n",
       "        }    #T_75918d28_178f_11ea_938a_5cc9d3bb088frow0_col2 {\n",
       "            background-color:  #7ea1fa;\n",
       "            color:  #000000;\n",
       "        }    #T_75918d28_178f_11ea_938a_5cc9d3bb088frow0_col3 {\n",
       "            background-color:  #6687ed;\n",
       "            color:  #000000;\n",
       "        }    #T_75918d28_178f_11ea_938a_5cc9d3bb088frow0_col4 {\n",
       "            background-color:  #5d7ce6;\n",
       "            color:  #000000;\n",
       "        }    #T_75918d28_178f_11ea_938a_5cc9d3bb088frow1_col0 {\n",
       "            background-color:  #4961d2;\n",
       "            color:  #f1f1f1;\n",
       "        }    #T_75918d28_178f_11ea_938a_5cc9d3bb088frow1_col1 {\n",
       "            background-color:  #b40426;\n",
       "            color:  #f1f1f1;\n",
       "        }    #T_75918d28_178f_11ea_938a_5cc9d3bb088frow1_col2 {\n",
       "            background-color:  #3b4cc0;\n",
       "            color:  #f1f1f1;\n",
       "        }    #T_75918d28_178f_11ea_938a_5cc9d3bb088frow1_col3 {\n",
       "            background-color:  #506bda;\n",
       "            color:  #000000;\n",
       "        }    #T_75918d28_178f_11ea_938a_5cc9d3bb088frow1_col4 {\n",
       "            background-color:  #5b7ae5;\n",
       "            color:  #000000;\n",
       "        }    #T_75918d28_178f_11ea_938a_5cc9d3bb088frow2_col0 {\n",
       "            background-color:  #8caffe;\n",
       "            color:  #000000;\n",
       "        }    #T_75918d28_178f_11ea_938a_5cc9d3bb088frow2_col1 {\n",
       "            background-color:  #3b4cc0;\n",
       "            color:  #f1f1f1;\n",
       "        }    #T_75918d28_178f_11ea_938a_5cc9d3bb088frow2_col2 {\n",
       "            background-color:  #b40426;\n",
       "            color:  #f1f1f1;\n",
       "        }    #T_75918d28_178f_11ea_938a_5cc9d3bb088frow2_col3 {\n",
       "            background-color:  #5f7fe8;\n",
       "            color:  #000000;\n",
       "        }    #T_75918d28_178f_11ea_938a_5cc9d3bb088frow2_col4 {\n",
       "            background-color:  #97b8ff;\n",
       "            color:  #000000;\n",
       "        }    #T_75918d28_178f_11ea_938a_5cc9d3bb088frow3_col0 {\n",
       "            background-color:  #5e7de7;\n",
       "            color:  #000000;\n",
       "        }    #T_75918d28_178f_11ea_938a_5cc9d3bb088frow3_col1 {\n",
       "            background-color:  #3b4cc0;\n",
       "            color:  #f1f1f1;\n",
       "        }    #T_75918d28_178f_11ea_938a_5cc9d3bb088frow3_col2 {\n",
       "            background-color:  #4a63d3;\n",
       "            color:  #f1f1f1;\n",
       "        }    #T_75918d28_178f_11ea_938a_5cc9d3bb088frow3_col3 {\n",
       "            background-color:  #b40426;\n",
       "            color:  #f1f1f1;\n",
       "        }    #T_75918d28_178f_11ea_938a_5cc9d3bb088frow3_col4 {\n",
       "            background-color:  #506bda;\n",
       "            color:  #000000;\n",
       "        }    #T_75918d28_178f_11ea_938a_5cc9d3bb088frow4_col0 {\n",
       "            background-color:  #4b64d5;\n",
       "            color:  #f1f1f1;\n",
       "        }    #T_75918d28_178f_11ea_938a_5cc9d3bb088frow4_col1 {\n",
       "            background-color:  #3b4cc0;\n",
       "            color:  #f1f1f1;\n",
       "        }    #T_75918d28_178f_11ea_938a_5cc9d3bb088frow4_col2 {\n",
       "            background-color:  #799cf8;\n",
       "            color:  #000000;\n",
       "        }    #T_75918d28_178f_11ea_938a_5cc9d3bb088frow4_col3 {\n",
       "            background-color:  #455cce;\n",
       "            color:  #f1f1f1;\n",
       "        }    #T_75918d28_178f_11ea_938a_5cc9d3bb088frow4_col4 {\n",
       "            background-color:  #b40426;\n",
       "            color:  #f1f1f1;\n",
       "        }</style><table id=\"T_75918d28_178f_11ea_938a_5cc9d3bb088f\" ><thead>    <tr>        <th class=\"blank level0\" ></th>        <th class=\"col_heading level0 col0\" >A1_Score</th>        <th class=\"col_heading level0 col1\" >A2_Score</th>        <th class=\"col_heading level0 col2\" >A7_Score</th>        <th class=\"col_heading level0 col3\" >A8_Score</th>        <th class=\"col_heading level0 col4\" >A10_Score</th>    </tr></thead><tbody>\n",
       "                <tr>\n",
       "                        <th id=\"T_75918d28_178f_11ea_938a_5cc9d3bb088flevel0_row0\" class=\"row_heading level0 row0\" >A1_Score</th>\n",
       "                        <td id=\"T_75918d28_178f_11ea_938a_5cc9d3bb088frow0_col0\" class=\"data row0 col0\" >1.0</td>\n",
       "                        <td id=\"T_75918d28_178f_11ea_938a_5cc9d3bb088frow0_col1\" class=\"data row0 col1\" >0.0085</td>\n",
       "                        <td id=\"T_75918d28_178f_11ea_938a_5cc9d3bb088frow0_col2\" class=\"data row0 col2\" >0.22</td>\n",
       "                        <td id=\"T_75918d28_178f_11ea_938a_5cc9d3bb088frow0_col3\" class=\"data row0 col3\" >0.14</td>\n",
       "                        <td id=\"T_75918d28_178f_11ea_938a_5cc9d3bb088frow0_col4\" class=\"data row0 col4\" >0.12</td>\n",
       "            </tr>\n",
       "            <tr>\n",
       "                        <th id=\"T_75918d28_178f_11ea_938a_5cc9d3bb088flevel0_row1\" class=\"row_heading level0 row1\" >A2_Score</th>\n",
       "                        <td id=\"T_75918d28_178f_11ea_938a_5cc9d3bb088frow1_col0\" class=\"data row1 col0\" >0.0085</td>\n",
       "                        <td id=\"T_75918d28_178f_11ea_938a_5cc9d3bb088frow1_col1\" class=\"data row1 col1\" >1.0</td>\n",
       "                        <td id=\"T_75918d28_178f_11ea_938a_5cc9d3bb088frow1_col2\" class=\"data row1 col2\" >-0.042</td>\n",
       "                        <td id=\"T_75918d28_178f_11ea_938a_5cc9d3bb088frow1_col3\" class=\"data row1 col3\" >0.032</td>\n",
       "                        <td id=\"T_75918d28_178f_11ea_938a_5cc9d3bb088frow1_col4\" class=\"data row1 col4\" >0.069</td>\n",
       "            </tr>\n",
       "            <tr>\n",
       "                        <th id=\"T_75918d28_178f_11ea_938a_5cc9d3bb088flevel0_row2\" class=\"row_heading level0 row2\" >A7_Score</th>\n",
       "                        <td id=\"T_75918d28_178f_11ea_938a_5cc9d3bb088frow2_col0\" class=\"data row2 col0\" >0.22</td>\n",
       "                        <td id=\"T_75918d28_178f_11ea_938a_5cc9d3bb088frow2_col1\" class=\"data row2 col1\" >-0.042</td>\n",
       "                        <td id=\"T_75918d28_178f_11ea_938a_5cc9d3bb088frow2_col2\" class=\"data row2 col2\" >1.0</td>\n",
       "                        <td id=\"T_75918d28_178f_11ea_938a_5cc9d3bb088frow2_col3\" class=\"data row2 col3\" >0.084</td>\n",
       "                        <td id=\"T_75918d28_178f_11ea_938a_5cc9d3bb088frow2_col4\" class=\"data row2 col4\" >0.25</td>\n",
       "            </tr>\n",
       "            <tr>\n",
       "                        <th id=\"T_75918d28_178f_11ea_938a_5cc9d3bb088flevel0_row3\" class=\"row_heading level0 row3\" >A8_Score</th>\n",
       "                        <td id=\"T_75918d28_178f_11ea_938a_5cc9d3bb088frow3_col0\" class=\"data row3 col0\" >0.14</td>\n",
       "                        <td id=\"T_75918d28_178f_11ea_938a_5cc9d3bb088frow3_col1\" class=\"data row3 col1\" >0.032</td>\n",
       "                        <td id=\"T_75918d28_178f_11ea_938a_5cc9d3bb088frow3_col2\" class=\"data row3 col2\" >0.084</td>\n",
       "                        <td id=\"T_75918d28_178f_11ea_938a_5cc9d3bb088frow3_col3\" class=\"data row3 col3\" >1.0</td>\n",
       "                        <td id=\"T_75918d28_178f_11ea_938a_5cc9d3bb088frow3_col4\" class=\"data row3 col4\" >0.1</td>\n",
       "            </tr>\n",
       "            <tr>\n",
       "                        <th id=\"T_75918d28_178f_11ea_938a_5cc9d3bb088flevel0_row4\" class=\"row_heading level0 row4\" >A10_Score</th>\n",
       "                        <td id=\"T_75918d28_178f_11ea_938a_5cc9d3bb088frow4_col0\" class=\"data row4 col0\" >0.12</td>\n",
       "                        <td id=\"T_75918d28_178f_11ea_938a_5cc9d3bb088frow4_col1\" class=\"data row4 col1\" >0.069</td>\n",
       "                        <td id=\"T_75918d28_178f_11ea_938a_5cc9d3bb088frow4_col2\" class=\"data row4 col2\" >0.25</td>\n",
       "                        <td id=\"T_75918d28_178f_11ea_938a_5cc9d3bb088frow4_col3\" class=\"data row4 col3\" >0.1</td>\n",
       "                        <td id=\"T_75918d28_178f_11ea_938a_5cc9d3bb088frow4_col4\" class=\"data row4 col4\" >1.0</td>\n",
       "            </tr>\n",
       "    </tbody></table>"
      ],
      "text/plain": [
       "<pandas.io.formats.style.Styler at 0x1f800b1e7f0>"
      ]
     },
     "execution_count": 30,
     "metadata": {},
     "output_type": "execute_result"
    }
   ],
   "source": [
    "X_or2.corr().style.format(\"{:.2}\").background_gradient(cmap = plt.get_cmap('coolwarm'),axis=1)"
   ]
  },
  {
   "cell_type": "code",
   "execution_count": 31,
   "metadata": {},
   "outputs": [
    {
     "data": {
      "text/html": [
       "<style  type=\"text/css\" >\n",
       "    #T_7595f6ee_178f_11ea_a1f6_5cc9d3bb088frow0_col0 {\n",
       "            background-color:  #b40426;\n",
       "            color:  #f1f1f1;\n",
       "        }    #T_7595f6ee_178f_11ea_a1f6_5cc9d3bb088frow0_col1 {\n",
       "            background-color:  #b1cbfc;\n",
       "            color:  #000000;\n",
       "        }    #T_7595f6ee_178f_11ea_a1f6_5cc9d3bb088frow0_col2 {\n",
       "            background-color:  #7093f3;\n",
       "            color:  #000000;\n",
       "        }    #T_7595f6ee_178f_11ea_a1f6_5cc9d3bb088frow0_col3 {\n",
       "            background-color:  #3b4cc0;\n",
       "            color:  #f1f1f1;\n",
       "        }    #T_7595f6ee_178f_11ea_a1f6_5cc9d3bb088frow0_col4 {\n",
       "            background-color:  #5e7de7;\n",
       "            color:  #000000;\n",
       "        }    #T_7595f6ee_178f_11ea_a1f6_5cc9d3bb088frow1_col0 {\n",
       "            background-color:  #b5cdfa;\n",
       "            color:  #000000;\n",
       "        }    #T_7595f6ee_178f_11ea_a1f6_5cc9d3bb088frow1_col1 {\n",
       "            background-color:  #b40426;\n",
       "            color:  #f1f1f1;\n",
       "        }    #T_7595f6ee_178f_11ea_a1f6_5cc9d3bb088frow1_col2 {\n",
       "            background-color:  #6788ee;\n",
       "            color:  #000000;\n",
       "        }    #T_7595f6ee_178f_11ea_a1f6_5cc9d3bb088frow1_col3 {\n",
       "            background-color:  #3b4cc0;\n",
       "            color:  #f1f1f1;\n",
       "        }    #T_7595f6ee_178f_11ea_a1f6_5cc9d3bb088frow1_col4 {\n",
       "            background-color:  #6788ee;\n",
       "            color:  #000000;\n",
       "        }    #T_7595f6ee_178f_11ea_a1f6_5cc9d3bb088frow2_col0 {\n",
       "            background-color:  #7da0f9;\n",
       "            color:  #000000;\n",
       "        }    #T_7595f6ee_178f_11ea_a1f6_5cc9d3bb088frow2_col1 {\n",
       "            background-color:  #6f92f3;\n",
       "            color:  #000000;\n",
       "        }    #T_7595f6ee_178f_11ea_a1f6_5cc9d3bb088frow2_col2 {\n",
       "            background-color:  #b40426;\n",
       "            color:  #f1f1f1;\n",
       "        }    #T_7595f6ee_178f_11ea_a1f6_5cc9d3bb088frow2_col3 {\n",
       "            background-color:  #3b4cc0;\n",
       "            color:  #f1f1f1;\n",
       "        }    #T_7595f6ee_178f_11ea_a1f6_5cc9d3bb088frow2_col4 {\n",
       "            background-color:  #4f69d9;\n",
       "            color:  #000000;\n",
       "        }    #T_7595f6ee_178f_11ea_a1f6_5cc9d3bb088frow3_col0 {\n",
       "            background-color:  #485fd1;\n",
       "            color:  #f1f1f1;\n",
       "        }    #T_7595f6ee_178f_11ea_a1f6_5cc9d3bb088frow3_col1 {\n",
       "            background-color:  #4257c9;\n",
       "            color:  #f1f1f1;\n",
       "        }    #T_7595f6ee_178f_11ea_a1f6_5cc9d3bb088frow3_col2 {\n",
       "            background-color:  #3b4cc0;\n",
       "            color:  #f1f1f1;\n",
       "        }    #T_7595f6ee_178f_11ea_a1f6_5cc9d3bb088frow3_col3 {\n",
       "            background-color:  #b40426;\n",
       "            color:  #f1f1f1;\n",
       "        }    #T_7595f6ee_178f_11ea_a1f6_5cc9d3bb088frow3_col4 {\n",
       "            background-color:  #5f7fe8;\n",
       "            color:  #000000;\n",
       "        }    #T_7595f6ee_178f_11ea_a1f6_5cc9d3bb088frow4_col0 {\n",
       "            background-color:  #5673e0;\n",
       "            color:  #000000;\n",
       "        }    #T_7595f6ee_178f_11ea_a1f6_5cc9d3bb088frow4_col1 {\n",
       "            background-color:  #5b7ae5;\n",
       "            color:  #000000;\n",
       "        }    #T_7595f6ee_178f_11ea_a1f6_5cc9d3bb088frow4_col2 {\n",
       "            background-color:  #3b4cc0;\n",
       "            color:  #f1f1f1;\n",
       "        }    #T_7595f6ee_178f_11ea_a1f6_5cc9d3bb088frow4_col3 {\n",
       "            background-color:  #4b64d5;\n",
       "            color:  #f1f1f1;\n",
       "        }    #T_7595f6ee_178f_11ea_a1f6_5cc9d3bb088frow4_col4 {\n",
       "            background-color:  #b40426;\n",
       "            color:  #f1f1f1;\n",
       "        }</style><table id=\"T_7595f6ee_178f_11ea_a1f6_5cc9d3bb088f\" ><thead>    <tr>        <th class=\"blank level0\" ></th>        <th class=\"col_heading level0 col0\" >A9_Score</th>        <th class=\"col_heading level0 col1\" >A6_Score</th>        <th class=\"col_heading level0 col2\" >A4_Score</th>        <th class=\"col_heading level0 col3\" >A7_Score</th>        <th class=\"col_heading level0 col4\" >A10_Score</th>    </tr></thead><tbody>\n",
       "                <tr>\n",
       "                        <th id=\"T_7595f6ee_178f_11ea_a1f6_5cc9d3bb088flevel0_row0\" class=\"row_heading level0 row0\" >A9_Score</th>\n",
       "                        <td id=\"T_7595f6ee_178f_11ea_a1f6_5cc9d3bb088frow0_col0\" class=\"data row0 col0\" >1.0</td>\n",
       "                        <td id=\"T_7595f6ee_178f_11ea_a1f6_5cc9d3bb088frow0_col1\" class=\"data row0 col1\" >0.48</td>\n",
       "                        <td id=\"T_7595f6ee_178f_11ea_a1f6_5cc9d3bb088frow0_col2\" class=\"data row0 col2\" >0.32</td>\n",
       "                        <td id=\"T_7595f6ee_178f_11ea_a1f6_5cc9d3bb088frow0_col3\" class=\"data row0 col3\" >0.19</td>\n",
       "                        <td id=\"T_7595f6ee_178f_11ea_a1f6_5cc9d3bb088frow0_col4\" class=\"data row0 col4\" >0.28</td>\n",
       "            </tr>\n",
       "            <tr>\n",
       "                        <th id=\"T_7595f6ee_178f_11ea_a1f6_5cc9d3bb088flevel0_row1\" class=\"row_heading level0 row1\" >A6_Score</th>\n",
       "                        <td id=\"T_7595f6ee_178f_11ea_a1f6_5cc9d3bb088frow1_col0\" class=\"data row1 col0\" >0.48</td>\n",
       "                        <td id=\"T_7595f6ee_178f_11ea_a1f6_5cc9d3bb088frow1_col1\" class=\"data row1 col1\" >1.0</td>\n",
       "                        <td id=\"T_7595f6ee_178f_11ea_a1f6_5cc9d3bb088frow1_col2\" class=\"data row1 col2\" >0.29</td>\n",
       "                        <td id=\"T_7595f6ee_178f_11ea_a1f6_5cc9d3bb088frow1_col3\" class=\"data row1 col3\" >0.17</td>\n",
       "                        <td id=\"T_7595f6ee_178f_11ea_a1f6_5cc9d3bb088frow1_col4\" class=\"data row1 col4\" >0.29</td>\n",
       "            </tr>\n",
       "            <tr>\n",
       "                        <th id=\"T_7595f6ee_178f_11ea_a1f6_5cc9d3bb088flevel0_row2\" class=\"row_heading level0 row2\" >A4_Score</th>\n",
       "                        <td id=\"T_7595f6ee_178f_11ea_a1f6_5cc9d3bb088frow2_col0\" class=\"data row2 col0\" >0.32</td>\n",
       "                        <td id=\"T_7595f6ee_178f_11ea_a1f6_5cc9d3bb088frow2_col1\" class=\"data row2 col1\" >0.29</td>\n",
       "                        <td id=\"T_7595f6ee_178f_11ea_a1f6_5cc9d3bb088frow2_col2\" class=\"data row2 col2\" >1.0</td>\n",
       "                        <td id=\"T_7595f6ee_178f_11ea_a1f6_5cc9d3bb088frow2_col3\" class=\"data row2 col3\" >0.15</td>\n",
       "                        <td id=\"T_7595f6ee_178f_11ea_a1f6_5cc9d3bb088frow2_col4\" class=\"data row2 col4\" >0.21</td>\n",
       "            </tr>\n",
       "            <tr>\n",
       "                        <th id=\"T_7595f6ee_178f_11ea_a1f6_5cc9d3bb088flevel0_row3\" class=\"row_heading level0 row3\" >A7_Score</th>\n",
       "                        <td id=\"T_7595f6ee_178f_11ea_a1f6_5cc9d3bb088frow3_col0\" class=\"data row3 col0\" >0.19</td>\n",
       "                        <td id=\"T_7595f6ee_178f_11ea_a1f6_5cc9d3bb088frow3_col1\" class=\"data row3 col1\" >0.17</td>\n",
       "                        <td id=\"T_7595f6ee_178f_11ea_a1f6_5cc9d3bb088frow3_col2\" class=\"data row3 col2\" >0.15</td>\n",
       "                        <td id=\"T_7595f6ee_178f_11ea_a1f6_5cc9d3bb088frow3_col3\" class=\"data row3 col3\" >1.0</td>\n",
       "                        <td id=\"T_7595f6ee_178f_11ea_a1f6_5cc9d3bb088frow3_col4\" class=\"data row3 col4\" >0.25</td>\n",
       "            </tr>\n",
       "            <tr>\n",
       "                        <th id=\"T_7595f6ee_178f_11ea_a1f6_5cc9d3bb088flevel0_row4\" class=\"row_heading level0 row4\" >A10_Score</th>\n",
       "                        <td id=\"T_7595f6ee_178f_11ea_a1f6_5cc9d3bb088frow4_col0\" class=\"data row4 col0\" >0.28</td>\n",
       "                        <td id=\"T_7595f6ee_178f_11ea_a1f6_5cc9d3bb088frow4_col1\" class=\"data row4 col1\" >0.29</td>\n",
       "                        <td id=\"T_7595f6ee_178f_11ea_a1f6_5cc9d3bb088frow4_col2\" class=\"data row4 col2\" >0.21</td>\n",
       "                        <td id=\"T_7595f6ee_178f_11ea_a1f6_5cc9d3bb088frow4_col3\" class=\"data row4 col3\" >0.25</td>\n",
       "                        <td id=\"T_7595f6ee_178f_11ea_a1f6_5cc9d3bb088frow4_col4\" class=\"data row4 col4\" >1.0</td>\n",
       "            </tr>\n",
       "    </tbody></table>"
      ],
      "text/plain": [
       "<pandas.io.formats.style.Styler at 0x1f800eb7ef0>"
      ]
     },
     "execution_count": 31,
     "metadata": {},
     "output_type": "execute_result"
    }
   ],
   "source": [
    "X_or3.corr().style.format(\"{:.2}\").background_gradient(cmap = plt.get_cmap('coolwarm'),axis=1)"
   ]
  },
  {
   "cell_type": "code",
   "execution_count": 32,
   "metadata": {},
   "outputs": [],
   "source": [
    "from sklearn.decomposition import PCA\n",
    "from sklearn.discriminant_analysis import LinearDiscriminantAnalysis\n",
    "\n",
    "pca = PCA(n_components = 5) #quantidade de atributos\n",
    "\n",
    "#Ajuste o modelo com e aplique a redução de dimensionalidade\n",
    "X_r = pca.fit(X).transform(X)\n",
    "X_r1 = pca.fit(X_or1).transform(X_or1)\n",
    "X_r2 = pca.fit(X_or2).transform(X_or2)\n",
    "X_r3 = pca.fit(X_or3).transform(X_or3)"
   ]
  },
  {
   "cell_type": "code",
   "execution_count": 32,
   "metadata": {},
   "outputs": [
    {
     "name": "stdout",
     "output_type": "stream",
     "text": [
      "taxa de variação:  [0.40904596 0.19295052 0.15904556 0.14393641 0.09502154]\n"
     ]
    },
    {
     "data": {
      "text/plain": [
       "Text(0.5, 1.0, 'PCA do Dataset')"
      ]
     },
     "execution_count": 32,
     "metadata": {},
     "output_type": "execute_result"
    },
    {
     "data": {
      "image/png": "[encoded data removed]",
      "text/plain": [
       "<Figure size 432x288 with 1 Axes>"
      ]
     },
     "metadata": {},
     "output_type": "display_data"
    }
   ],
   "source": [
    "print(\"taxa de variação: \", pca.explained_variance_ratio_)\n",
    "\n",
    "target_class = [0 ,1]\n",
    "\n",
    "plt.figure()\n",
    "colors = ['navy', 'turquoise']\n",
    "lw = 2\n",
    "\n",
    "for color, i, target_class in zip(colors, [0, 1], target_class):\n",
    "    plt.scatter(X_r[y == i, 0], X_r[y == i, 1], color=color, alpha=.8, lw=lw, label=target_class)\n",
    "\n",
    "plt.legend(loc='best', shadow=False)\n",
    "\n",
    "plt.title('PCA do Dataset')    "
   ]
  },
  {
   "cell_type": "code",
   "execution_count": 33,
   "metadata": {},
   "outputs": [
    {
     "data": {
      "text/plain": [
       "Text(0.5, 1.0, 'Dataset 01')"
      ]
     },
     "execution_count": 33,
     "metadata": {},
     "output_type": "execute_result"
    },
    {
     "data": {
      "image/png": "[encoded data removed]",
      "text/plain": [
       "<Figure size 432x288 with 1 Axes>"
      ]
     },
     "metadata": {},
     "output_type": "display_data"
    }
   ],
   "source": [
    "target_class = [0 ,1]\n",
    "\n",
    "plt.figure()\n",
    "colors = ['navy', 'turquoise']\n",
    "lw = 2\n",
    "\n",
    "for color, i, target_class in zip(colors, [0, 1], target_class):\n",
    "    plt.scatter(X_r1[y == i, 0], X_r1[y == i, 1], color=color, alpha=.8, lw=lw, label=target_class)\n",
    "\n",
    "plt.legend(loc='best', shadow=False)\n",
    "\n",
    "plt.title('Dataset 01')"
   ]
  },
  {
   "cell_type": "code",
   "execution_count": 34,
   "metadata": {},
   "outputs": [
    {
     "data": {
      "text/plain": [
       "Text(0.5, 1.0, 'Dataset 02')"
      ]
     },
     "execution_count": 34,
     "metadata": {},
     "output_type": "execute_result"
    },
    {
     "data": {
      "image/png": "[encoded data removed]",
      "text/plain": [
       "<Figure size 432x288 with 1 Axes>"
      ]
     },
     "metadata": {},
     "output_type": "display_data"
    }
   ],
   "source": [
    "target_class = [0 ,1]\n",
    "\n",
    "plt.figure()\n",
    "colors = ['navy', 'turquoise']\n",
    "lw = 2\n",
    "\n",
    "for color, i, target_class in zip(colors, [0, 1], target_class):\n",
    "    plt.scatter(X_r2[y == i, 0], X_r2[y == i, 1], color=color, alpha=.8, lw=lw, label=target_class)\n",
    "\n",
    "plt.legend(loc='best', shadow=False)\n",
    "\n",
    "plt.title('Dataset 02')"
   ]
  },
  {
   "cell_type": "code",
   "execution_count": 35,
   "metadata": {},
   "outputs": [
    {
     "data": {
      "text/plain": [
       "Text(0.5, 1.0, 'Dataset 03')"
      ]
     },
     "execution_count": 35,
     "metadata": {},
     "output_type": "execute_result"
    },
    {
     "data": {
      "image/png": "[encoded data removed]",
      "text/plain": [
       "<Figure size 432x288 with 1 Axes>"
      ]
     },
     "metadata": {},
     "output_type": "display_data"
    }
   ],
   "source": [
    "target_class = [0 ,1]\n",
    "\n",
    "plt.figure()\n",
    "colors = ['navy', 'turquoise']\n",
    "lw = 2\n",
    "\n",
    "for color, i, target_class in zip(colors, [0, 1], target_class):\n",
    "    plt.scatter(X_r3[y == i, 0], X_r3[y == i, 1], color=color, alpha=.8, lw=lw, label=target_class)\n",
    "\n",
    "plt.legend(loc='best', shadow=False)\n",
    "\n",
    "plt.title('Dataset 03')"
   ]
  },
  {
   "cell_type": "code",
   "execution_count": 36,
   "metadata": {},
   "outputs": [
    {
     "data": {
      "text/plain": [
       "0.9785714285714285"
      ]
     },
     "execution_count": 36,
     "metadata": {},
     "output_type": "execute_result"
    }
   ],
   "source": [
    "#cross validation using train_test_split em toda a base\n",
    "from sklearn import svm\n",
    "from sklearn.svm import LinearSVC\n",
    "\n",
    "from sklearn.model_selection import train_test_split\n",
    "X_train, X_test, y_train, y_test = train_test_split(X, y, test_size = 0.20, random_state=0)\n",
    "\n",
    "svmlassifier = svm.SVC().fit(X_train, y_train)\n",
    "#svmlassifier.fit(X_train, y_train)\n",
    "svmlassifier.score(X_test, y_test)"
   ]
  },
  {
   "cell_type": "code",
   "execution_count": 37,
   "metadata": {},
   "outputs": [
    {
     "data": {
      "text/plain": [
       "array([0.9858156 , 0.96453901, 0.98561151, 1.        , 0.97841727])"
      ]
     },
     "execution_count": 37,
     "metadata": {},
     "output_type": "execute_result"
    }
   ],
   "source": [
    "#cross validation using cross_val_score em toda a base\n",
    "from sklearn.model_selection import cross_val_score\n",
    "svmlassifier = svm.SVC(C=1)\n",
    "scores_X = cross_val_score(svmlassifier, X, y, cv=5)\n",
    "scores_X"
   ]
  },
  {
   "cell_type": "code",
   "execution_count": 38,
   "metadata": {},
   "outputs": [],
   "source": [
    "#SVM - Regressão - com Cross Validation"
   ]
  },
  {
   "cell_type": "code",
   "execution_count": 39,
   "metadata": {},
   "outputs": [
    {
     "data": {
      "text/plain": [
       "0.9785714285714285"
      ]
     },
     "execution_count": 39,
     "metadata": {},
     "output_type": "execute_result"
    }
   ],
   "source": [
    "#SVM para todo o dataset\n",
    "X_train, X_test, y_train, y_test = train_test_split(X, y, test_size = 0.20, random_state=0)\n",
    "\n",
    "svmlassifier = svm.SVC(C=1)\n",
    "svmlassifier.fit(X_train, y_train)\n",
    "svmlassifier.score(X_test, y_test)"
   ]
  },
  {
   "cell_type": "code",
   "execution_count": 40,
   "metadata": {},
   "outputs": [],
   "source": [
    "#KNN - K-Nearest Neighbors"
   ]
  },
  {
   "cell_type": "code",
   "execution_count": 41,
   "metadata": {},
   "outputs": [],
   "source": [
    "from sklearn.neighbors import KNeighborsClassifier"
   ]
  },
  {
   "cell_type": "code",
   "execution_count": 42,
   "metadata": {},
   "outputs": [
    {
     "data": {
      "text/plain": [
       "KNeighborsClassifier(algorithm='auto', leaf_size=30, metric='minkowski',\n",
       "                     metric_params=None, n_jobs=None, n_neighbors=5, p=2,\n",
       "                     weights='uniform')"
      ]
     },
     "execution_count": 42,
     "metadata": {},
     "output_type": "execute_result"
    }
   ],
   "source": [
    "x_train, x_test, y_train, y_test = train_test_split(X, y, test_size = 0.20)\n",
    "\n",
    "scaler = StandardScaler()\n",
    "scaler.fit(x_train)\n",
    "x_train = scaler.transform(x_train)\n",
    "x_test = scaler.transform(x_test)\n",
    "\n",
    "classifier = KNeighborsClassifier(n_neighbors = 5)\n",
    "classifier.fit(x_train, y_train)"
   ]
  },
  {
   "cell_type": "code",
   "execution_count": 43,
   "metadata": {},
   "outputs": [],
   "source": [
    "y_pred = classifier.predict(x_test)"
   ]
  },
  {
   "cell_type": "code",
   "execution_count": 44,
   "metadata": {},
   "outputs": [
    {
     "name": "stdout",
     "output_type": "stream",
     "text": [
      "[[99  5]\n",
      " [ 2 34]]\n",
      "              precision    recall  f1-score   support\n",
      "\n",
      "           0       0.98      0.95      0.97       104\n",
      "           1       0.87      0.94      0.91        36\n",
      "\n",
      "    accuracy                           0.95       140\n",
      "   macro avg       0.93      0.95      0.94       140\n",
      "weighted avg       0.95      0.95      0.95       140\n",
      "\n"
     ]
    }
   ],
   "source": [
    "from sklearn.metrics import classification_report, confusion_matrix\n",
    "print(confusion_matrix(y_test, y_pred))\n",
    "print(classification_report(y_test, y_pred))"
   ]
  },
  {
   "cell_type": "code",
   "execution_count": 45,
   "metadata": {},
   "outputs": [
    {
     "name": "stdout",
     "output_type": "stream",
     "text": [
      "[[99  5]\n",
      " [ 2 34]]\n",
      "              precision    recall  f1-score   support\n",
      "\n",
      "           0       0.98      0.95      0.97       104\n",
      "           1       0.87      0.94      0.91        36\n",
      "\n",
      "    accuracy                           0.95       140\n",
      "   macro avg       0.93      0.95      0.94       140\n",
      "weighted avg       0.95      0.95      0.95       140\n",
      "\n"
     ]
    }
   ],
   "source": [
    "classifier2 = KNeighborsClassifier(n_neighbors = 9)\n",
    "classifier2.fit(x_train, y_train)\n",
    "y_pred2 = classifier2.predict(x_test)\n",
    "print(confusion_matrix(y_test, y_pred2))\n",
    "print(classification_report(y_test, y_pred2))"
   ]
  },
  {
   "cell_type": "code",
   "execution_count": 46,
   "metadata": {},
   "outputs": [],
   "source": [
    "#Árvore de Decisão\n",
    "#Baseado no Slide"
   ]
  },
  {
   "cell_type": "code",
   "execution_count": 47,
   "metadata": {},
   "outputs": [],
   "source": [
    "import graphviz\n",
    "from sklearn.preprocessing import LabelEncoder\n",
    "from sklearn.tree import DecisionTreeClassifier, export_graphviz\n",
    "from sklearn.model_selection import train_test_split\n",
    "from sklearn.metrics import accuracy_score\n",
    "\n",
    "le = LabelEncoder()\n",
    "\n",
    "le.fit(Xy_data['has_autism'].values)\n",
    "y = le.transform(Xy_data['has_autism'].values)\n",
    "\n",
    "X_train, X_test, y_train, y_test = train_test_split(X, y, test_size=0.20, stratify=y, random_state=10)"
   ]
  },
  {
   "cell_type": "code",
   "execution_count": 48,
   "metadata": {},
   "outputs": [
    {
     "name": "stdout",
     "output_type": "stream",
     "text": [
      "DecisionTreeClassifier accuracy score: 0.9214285714285714\n"
     ]
    }
   ],
   "source": [
    "tree = DecisionTreeClassifier(criterion='entropy',min_samples_leaf=5,min_samples_split=5,max_depth=None,random_state=10)\n",
    "tree.fit(X_train, y_train)\n",
    "y_pred = tree.predict(X_test)\n",
    "accuracy = accuracy_score(y_test, y_pred)\n",
    "print('DecisionTreeClassifier accuracy score: {}'.format(accuracy))\n",
    "score=cross_val_score(tree, X, y, cv=10)"
   ]
  },
  {
   "cell_type": "code",
   "execution_count": 49,
   "metadata": {},
   "outputs": [
    {
     "name": "stdout",
     "output_type": "stream",
     "text": [
      "Accuracy: 0.92563 (+/- 0.04389)\n"
     ]
    }
   ],
   "source": [
    "print(\"Accuracy: %0.5f (+/- %0.5f)\" % (score.mean(), score.std() * 2))"
   ]
  },
  {
   "cell_type": "code",
   "execution_count": 50,
   "metadata": {},
   "outputs": [],
   "source": [
    "#plot da árvore\n",
    "\n",
    "#def plot_tree(tree, dataframe, label_col, label_encoder, plot_title):\n",
    "#    label_names = pd.unique(dataframe[label_col])\n",
    "# # Obtaining plot data.\n",
    "#    graph_data = export_graphviz(tree,feature_names=dataframe.drop(label_col,axis=1).columns,class_names=label_names,filled=True,rounded=True,out_file=None)\n",
    "# # Generating plot.\n",
    "#    graph = graphviz.Source(graph_data)\n",
    "#    graph.render(plot_title)\n",
    "#    return graph\n",
    "#tree_graph = plot_tree(tree, Xy_data, 'has_autism', le, 'ASD Tree')\n",
    "#tree_graph"
   ]
  },
  {
   "cell_type": "code",
   "execution_count": 51,
   "metadata": {},
   "outputs": [],
   "source": [
    "#Árvore de Decisão\n",
    "#Baseado na web"
   ]
  },
  {
   "cell_type": "code",
   "execution_count": 52,
   "metadata": {},
   "outputs": [
    {
     "data": {
      "text/plain": [
       "DecisionTreeClassifier(class_weight=None, criterion='gini', max_depth=None,\n",
       "                       max_features=None, max_leaf_nodes=None,\n",
       "                       min_impurity_decrease=0.0, min_impurity_split=None,\n",
       "                       min_samples_leaf=1, min_samples_split=2,\n",
       "                       min_weight_fraction_leaf=0.0, presort=False,\n",
       "                       random_state=None, splitter='best')"
      ]
     },
     "execution_count": 52,
     "metadata": {},
     "output_type": "execute_result"
    }
   ],
   "source": [
    "dtree=DecisionTreeClassifier()\n",
    "dtree.fit(X,y)"
   ]
  },
  {
   "cell_type": "code",
   "execution_count": 53,
   "metadata": {},
   "outputs": [],
   "source": [
    "#plot da árvore\n",
    "\n",
    "#from sklearn.externals.six import StringIO  \n",
    "#from IPython.display import Image  \n",
    "#from sklearn.tree import export_graphviz\n",
    "#import pydotplus\n",
    "#dot_data = StringIO()\n",
    "#export_graphviz(dtree, out_file=dot_data,  \n",
    "#                filled=True, rounded=True,\n",
    "#                special_characters=True)\n",
    "#graph = pydotplus.graph_from_dot_data(dot_data.getvalue())  \n",
    "#Image(graph.create_png())"
   ]
  },
  {
   "cell_type": "code",
   "execution_count": 54,
   "metadata": {},
   "outputs": [
    {
     "name": "stdout",
     "output_type": "stream",
     "text": [
      "[CV]  ................................................................\n",
      "[CV] ................................................. , total=   0.0s\n",
      "[CV]  ................................................................\n",
      "[CV] ................................................. , total=   0.0s\n",
      "[CV]  ................................................................\n",
      "[CV] ................................................. , total=   0.0s\n",
      "[CV]  ................................................................\n",
      "[CV] ................................................. , total=   0.0s\n",
      "[CV]  ................................................................\n",
      "[CV] ................................................. , total=   0.0s\n",
      "[CV]  ................................................................\n",
      "[CV] ................................................. , total=   0.0s\n",
      "[CV]  ................................................................\n",
      "[CV] ................................................. , total=   0.0s\n",
      "[CV]  ................................................................\n",
      "[CV] ................................................. , total=   0.0s\n",
      "[CV]  ................................................................\n",
      "[CV] ................................................. , total=   0.0s\n",
      "[CV]  ................................................................\n",
      "[CV] ................................................. , total=   0.0s\n",
      "media de acuracia 0.960815088909446\n",
      "desvio padrão medio: 0.03621285311643785\n"
     ]
    },
    {
     "name": "stderr",
     "output_type": "stream",
     "text": [
      "[Parallel(n_jobs=1)]: Using backend SequentialBackend with 1 concurrent workers.\n",
      "[Parallel(n_jobs=1)]: Done   1 out of   1 | elapsed:    0.0s remaining:    0.0s\n",
      "[Parallel(n_jobs=1)]: Done  10 out of  10 | elapsed:    0.0s finished\n"
     ]
    }
   ],
   "source": [
    "#Naive Bayes\n",
    "import numpy as np\n",
    "from sklearn.naive_bayes import GaussianNB\n",
    "\n",
    "clf = GaussianNB()\n",
    "clf.fit(X, y)\n",
    "\n",
    "clf_pf = GaussianNB()\n",
    "clf_pf.partial_fit(X, y, np.unique(y))\n",
    "\n",
    "X_train, X_test, y_train, y_test = train_test_split(X, y, test_size=0.34,random_state=10)\n",
    "cv_results = cross_val_score(clf_pf, X_train, y_train,cv = 10,scoring = \"accuracy\",verbose = 2)\n",
    "\n",
    "print(\"media de acuracia\",cv_results.mean())\n",
    "print('desvio padrão medio:',cv_results.std())"
   ]
  },
  {
   "cell_type": "code",
   "execution_count": 55,
   "metadata": {},
   "outputs": [
    {
     "name": "stdout",
     "output_type": "stream",
     "text": [
      "[1]\n"
     ]
    }
   ],
   "source": [
    "print(clf_pf.predict([[1,1,1,1,1,0,0,0,1,0]]))"
   ]
  },
  {
   "cell_type": "code",
   "execution_count": 56,
   "metadata": {},
   "outputs": [
    {
     "name": "stdout",
     "output_type": "stream",
     "text": [
      "[1]\n",
      "[0]\n"
     ]
    }
   ],
   "source": [
    "#Rede Neural\n",
    "from sklearn.neural_network import MLPClassifier\n",
    "clf = MLPClassifier(solver='lbfgs', alpha=1e-5, hidden_layer_sizes=(15,), random_state=1)\n",
    "clf.fit(X, y)\n",
    "print(clf.predict([[1,1,1,1,1,1,0,0,1,0]]))\n",
    "print(clf.predict([[1,0,0,1,1,0,0,0,1,0]]))"
   ]
  },
  {
   "cell_type": "code",
   "execution_count": 57,
   "metadata": {},
   "outputs": [
    {
     "name": "stdout",
     "output_type": "stream",
     "text": [
      "media de acuracia: 0.9985507246376812\n",
      "desvio padrão medio: 0.004347826086956508\n"
     ]
    }
   ],
   "source": [
    "from sklearn.preprocessing import StandardScaler\n",
    "from sklearn.model_selection import cross_validate\n",
    "\n",
    "scaler = StandardScaler()\n",
    "#iris.data.reshape(-1,1)\n",
    "scaler.fit(X)\n",
    "baseX=scaler.transform(X)\n",
    "\n",
    "model = MLPClassifier(solver='lbfgs', alpha=1e-5,hidden_layer_sizes=(15,), random_state=1,learning_rate='constant',max_iter=100)\n",
    "model.fit(X,y)\n",
    "scores = cross_val_score(model, X, y, cv=10)\n",
    "\n",
    "print(\"media de acuracia:\", scores.mean())\n",
    "print(\"desvio padrão medio:\", scores.std())"
   ]
  },
  {
   "cell_type": "code",
   "execution_count": 58,
   "metadata": {},
   "outputs": [
    {
     "data": {
      "text/plain": [
       "array([0.0138504])"
      ]
     },
     "execution_count": 58,
     "metadata": {},
     "output_type": "execute_result"
    }
   ],
   "source": [
    "from sklearn.model_selection import cross_val_score\n",
    "from sklearn import datasets\n",
    "from sklearn.neural_network import MLPRegressor\n",
    "\n",
    "est = MLPRegressor(hidden_layer_sizes=(15,2), max_iter=700, learning_rate_init=0.0001)\n",
    "est.fit(X,y)\n",
    "cross_val_score(est, X, y, cv=10)\n",
    "\n",
    "est.predict([[1,0,0,1,1,0,0,0,1,0]])"
   ]
  },
  {
   "cell_type": "code",
   "execution_count": 59,
   "metadata": {},
   "outputs": [
    {
     "data": {
      "text/plain": [
       "array([0, 0, 1, 0, 0, 1, 0, 0, 1, 1, 1, 1, 1, 0, 0, 1, 0, 0, 0, 0, 0, 0,\n",
       "       0, 0, 0, 0, 0, 0, 0, 0, 0, 1, 0, 1, 1, 0, 1, 1, 1, 1, 1, 0, 0, 0,\n",
       "       1, 1, 0, 0, 0, 0, 0, 1, 0, 1, 1, 1, 1, 0, 0, 1, 1, 0, 0, 1, 0, 0,\n",
       "       1, 0, 0, 0, 0, 0, 1, 1, 1, 0, 1, 0, 0, 0, 0, 1, 0, 0, 0, 1, 0, 0,\n",
       "       1, 0, 0, 1, 1, 1, 0, 0, 0, 0, 0, 0, 0, 0, 0, 0, 0, 1, 1, 1, 0, 1,\n",
       "       1, 0, 0, 1, 1, 1, 0, 1, 1, 1, 1, 0, 1, 1, 1, 0, 1, 0, 0, 0, 0, 0,\n",
       "       0, 1, 1, 1, 0, 0, 0, 0, 0, 0, 0, 0, 1, 1, 1, 1, 1, 0, 1, 0, 1, 0,\n",
       "       0, 0, 0, 0, 0, 0, 0, 0, 0, 1, 0, 0, 0, 1, 1, 0, 0, 0, 0, 0, 0, 1,\n",
       "       1, 0, 0, 0, 0, 1, 0, 1, 1, 0, 0, 1, 0, 1, 0, 0, 0, 0, 1, 1, 1, 1,\n",
       "       0, 1, 1, 1, 1, 0, 1, 1, 1, 0, 1, 1, 1, 0, 0, 0, 1, 0, 0, 1, 0, 0,\n",
       "       0, 1, 1, 1, 0, 1, 0, 0, 1, 0, 0, 0, 0, 0, 0, 1, 0, 0, 0, 0, 1, 0,\n",
       "       1, 1, 0, 0, 1, 0, 1, 0, 0, 0, 0, 0, 0, 0, 0, 0, 0, 0, 0, 0, 0, 0,\n",
       "       1, 0, 0, 0, 1, 1, 1, 1, 0, 0, 0, 0, 0, 1, 0, 0, 1, 1, 1, 0, 1, 0,\n",
       "       0, 0, 1, 1, 1, 0, 0, 0, 1, 1, 1, 0, 1, 0, 1, 1, 0, 1, 0, 1, 1, 1,\n",
       "       1, 0, 0, 1, 1, 0, 0, 0, 0, 1, 0, 0, 0, 1, 0, 0, 0, 0, 0, 0, 1, 1,\n",
       "       0, 0, 0, 0, 0, 0, 0, 1, 1, 0, 0, 0, 0, 0, 0, 1, 0, 1, 0, 0, 0, 0,\n",
       "       0, 0, 0, 0, 0, 0, 0, 0, 0, 0, 0, 0, 0, 0, 0, 0, 0, 0, 0, 0, 0, 0,\n",
       "       0, 0, 0, 0, 0, 1, 0, 0, 0, 0, 1, 0, 0, 0, 1, 0, 0, 0, 0, 0, 0, 0,\n",
       "       0, 0, 0, 0, 0, 0, 0, 0, 1, 0, 0, 0, 0, 0, 0, 1, 0, 0, 0, 0, 0, 1,\n",
       "       0, 0, 0, 0, 0, 1, 0, 0, 1, 1, 1, 0, 1, 0, 0, 0, 1, 0, 0, 1, 0, 1,\n",
       "       1, 1, 0, 1, 0, 1, 0, 0, 0, 1, 0, 0, 0, 0, 0, 1, 1, 0, 0, 1, 0, 1,\n",
       "       0, 1, 0, 1, 0, 0, 1, 0, 0, 0, 0, 0, 0, 0, 0, 0, 0, 0, 0, 0, 0, 1,\n",
       "       1, 0, 0, 1, 0, 0, 1, 1, 0, 0, 1, 1, 0, 1, 1, 0, 1, 1, 1, 0, 0, 1,\n",
       "       0, 1, 1, 0, 0, 1, 1, 0, 1, 0, 0, 1, 1, 1, 1, 1, 0, 0, 0, 1, 0, 0,\n",
       "       0, 0, 1, 0, 0, 0, 1, 0, 1, 1, 0, 1, 1, 1, 1, 0, 0, 1, 0, 0, 0, 1,\n",
       "       1, 0, 0, 0, 1, 1, 1, 1, 1, 0, 0, 0, 0, 0, 1, 0, 0, 0, 0, 1, 0, 1,\n",
       "       1, 1, 0, 0, 0, 1, 1, 1, 0, 1, 1, 1, 0, 0, 1, 1, 0, 0, 0, 0, 0, 0,\n",
       "       1, 0, 0, 0, 0, 0, 0, 0, 0, 0, 0, 1, 0, 0, 0, 0, 1, 0, 0, 0, 0, 0,\n",
       "       1, 0, 1, 0, 1, 0, 0, 0, 1, 0, 0, 0, 1, 1, 0, 0, 1, 0, 1, 0, 1, 0,\n",
       "       0, 1, 1, 0, 0, 0, 0, 0, 0, 0, 1, 1, 0, 1, 0, 0, 1, 1, 1, 1, 0, 0,\n",
       "       1, 0, 0, 0, 1, 1, 1, 1, 1, 1, 0, 0, 0, 1, 1, 1, 1, 0, 0, 0, 1, 0,\n",
       "       1, 1, 1, 0, 0, 1, 0, 1, 0, 1, 1, 1, 1, 0, 1, 1, 1])"
      ]
     },
     "execution_count": 59,
     "metadata": {},
     "output_type": "execute_result"
    }
   ],
   "source": [
    "#K-means\n",
    "from sklearn.cluster import KMeans\n",
    "\n",
    "kmeans = KMeans(n_clusters=2, random_state=0).fit(X)\n",
    "kmeans.labels_"
   ]
  },
  {
   "cell_type": "code",
   "execution_count": 60,
   "metadata": {},
   "outputs": [
    {
     "data": {
      "text/plain": [
       "array([0, 1])"
      ]
     },
     "execution_count": 60,
     "metadata": {},
     "output_type": "execute_result"
    }
   ],
   "source": [
    "kmeans.predict([[1,0,0,1,1,0,0,0,1,0], [1,0,1,1,1,0,0,0,1,0]])"
   ]
  },
  {
   "cell_type": "code",
   "execution_count": 61,
   "metadata": {},
   "outputs": [
    {
     "data": {
      "text/plain": [
       "array([[0.64399093, 0.3446712 , 0.26984127, 0.3106576 , 0.25396825,\n",
       "        0.07482993, 0.29931973, 0.57369615, 0.08843537, 0.41496599],\n",
       "       [0.84883721, 0.63178295, 0.77131783, 0.81395349, 0.91085271,\n",
       "        0.63953488, 0.61627907, 0.77131783, 0.7248062 , 0.84883721]])"
      ]
     },
     "execution_count": 61,
     "metadata": {},
     "output_type": "execute_result"
    }
   ],
   "source": [
    "kmeans.cluster_centers_"
   ]
  },
  {
   "cell_type": "code",
   "execution_count": 62,
   "metadata": {},
   "outputs": [
    {
     "data": {
      "image/png": "[encoded data removed]",
      "text/plain": [
       "<Figure size 432x288 with 1 Axes>"
      ]
     },
     "metadata": {},
     "output_type": "display_data"
    }
   ],
   "source": [
    "wcss = []\n",
    "\n",
    "for i in range(1, 11):\n",
    "    kmeans = KMeans(n_clusters = i, init = 'k-means++', max_iter = 300, n_init= 10, random_state = 0)\n",
    "    kmeans.fit(X)\n",
    "    wcss.append(kmeans.inertia_)\n",
    "\n",
    "#Plotting the results onto a line graph, allowing us to observe 'The elbow'\n",
    "plt.plot(range(1, 11), wcss)\n",
    "plt.title('The elbow method')\n",
    "plt.xlabel('Number of clusters')\n",
    "plt.ylabel('WCSS') #within cluster sum of squares\n",
    "plt.show()"
   ]
  },
  {
   "cell_type": "code",
   "execution_count": 63,
   "metadata": {},
   "outputs": [],
   "source": [
    "kmeans = KMeans(n_clusters = 2, init = 'k-means++', max_iter = 300, n_init = 10, random_state = 0)\n",
    "y_kmeans = kmeans.fit_predict(X)"
   ]
  },
  {
   "cell_type": "code",
   "execution_count": 64,
   "metadata": {},
   "outputs": [
    {
     "data": {
      "text/plain": [
       "<matplotlib.legend.Legend at 0x20dae6b2a88>"
      ]
     },
     "execution_count": 64,
     "metadata": {},
     "output_type": "execute_result"
    },
    {
     "data": {
      "image/png": "[encoded data removed]",
      "text/plain": [
       "<Figure size 432x288 with 1 Axes>"
      ]
     },
     "metadata": {},
     "output_type": "display_data"
    }
   ],
   "source": []
  },
  {
   "cell_type": "code",
   "execution_count": 65,
   "metadata": {},
   "outputs": [],
   "source": [
    "#Resultados Individuais\n",
    "\n",
    "#SMV\n",
    "    #accuracy score: 0.9785714285714285\n",
    "\n",
    "#KNN \n",
    "    #              precision    recall  f1-score   support\n",
    "    #\n",
    "    #           0       0.97      0.95      0.96       103\n",
    "    #           1       0.87      0.92      0.89        37\n",
    "    #\n",
    "    #    accuracy                           0.94       140\n",
    "    #   macro avg       0.92      0.94      0.93       140\n",
    "    #weighted avg       0.94      0.94      0.94       140\n",
    "\n",
    "#Árvore de Decisão\n",
    "    #accuracy score: 0.9214285714285714\n",
    "    \n",
    "#Rede Neural/MLP\n",
    "    #media de acuracia: 0.9985507246376812\n",
    "    #desvio padrão medio: 0.004347826086956508\n",
    "    \n",
    "#Naive Bayes\n",
    "    #media de acuracia 0.960815088909446\n",
    "    #desvio padrão medio: 0.03621285311643785"
   ]
  },
  {
   "cell_type": "code",
   "execution_count": 91,
   "metadata": {},
   "outputs": [],
   "source": [
    "#Comitês Homogêneos"
   ]
  },
  {
   "cell_type": "code",
   "execution_count": 85,
   "metadata": {},
   "outputs": [
    {
     "name": "stdout",
     "output_type": "stream",
     "text": [
      "0.9642028985507247\n",
      "0.02419180904480176\n",
      "0.9470600414078675\n",
      "0.018147809888307175\n",
      "0.9928364389233956\n",
      "0.007163800424441233\n"
     ]
    }
   ],
   "source": [
    "#Bagging para tamanho 5\n",
    "\n",
    "from sklearn.ensemble import BaggingClassifier\n",
    "from sklearn.neighbors import KNeighborsClassifier\n",
    "bagging = BaggingClassifier(KNeighborsClassifier(),max_samples=0.5, max_features=0.5)\n",
    "\n",
    "from sklearn import model_selection\n",
    "\n",
    "kfold = model_selection.KFold(n_splits=10, random_state=0)\n",
    "\n",
    "cart = KNeighborsClassifier() # Classificador\n",
    "\n",
    "num_trees = 5 # numero de classificadores\n",
    "\n",
    "model = BaggingClassifier(base_estimator=cart, n_estimators=num_trees, random_state=0)\n",
    "\n",
    "results = model_selection.cross_val_score(model, X, y, cv=kfold)\n",
    "\n",
    "print(results.mean())\n",
    "print(results.std())\n",
    "\n",
    "kfold = model_selection.KFold(n_splits=10, random_state=0)\n",
    "\n",
    "cart = DecisionTreeClassifier() # Classificador\n",
    "\n",
    "model = BaggingClassifier(base_estimator=cart, n_estimators=num_trees, random_state=0)\n",
    "\n",
    "results = model_selection.cross_val_score(model, X, y, cv=kfold)\n",
    "\n",
    "print(results.mean())\n",
    "print(results.std())\n",
    "\n",
    "kfold = model_selection.KFold(n_splits=10, random_state=0)\n",
    "\n",
    "cart = MLPClassifier() # Classificador\n",
    "\n",
    "model = BaggingClassifier(base_estimator=cart, n_estimators=num_trees, random_state=0)\n",
    "results = model_selection.cross_val_score(model, X, y, cv=kfold)\n",
    "\n",
    "print(results.mean())\n",
    "print(results.std())"
   ]
  },
  {
   "cell_type": "code",
   "execution_count": 86,
   "metadata": {},
   "outputs": [
    {
     "name": "stdout",
     "output_type": "stream",
     "text": [
      "0.967080745341615\n",
      "0.018161728592811743\n",
      "0.9484886128364389\n",
      "0.019404081932367437\n",
      "0.9928364389233956\n",
      "0.007163800424441233\n"
     ]
    }
   ],
   "source": [
    "#Bagging para tamanho 10\n",
    "\n",
    "kfold = model_selection.KFold(n_splits=10, random_state=0)\n",
    "\n",
    "cart = KNeighborsClassifier() # Classificador\n",
    "\n",
    "num_trees = 10 # numero de classificadores\n",
    "\n",
    "model = BaggingClassifier(base_estimator=cart, n_estimators=num_trees, random_state=0)\n",
    "\n",
    "results = model_selection.cross_val_score(model, X, y, cv=kfold)\n",
    "\n",
    "print(results.mean())\n",
    "print(results.std())\n",
    "\n",
    "kfold = model_selection.KFold(n_splits=10, random_state=0)\n",
    "\n",
    "cart = DecisionTreeClassifier() # Classificador\n",
    "\n",
    "model = BaggingClassifier(base_estimator=cart, n_estimators=num_trees, random_state=0)\n",
    "\n",
    "results = model_selection.cross_val_score(model, X, y, cv=kfold)\n",
    "\n",
    "print(results.mean())\n",
    "print(results.std())\n",
    "\n",
    "kfold = model_selection.KFold(n_splits=10, random_state=0)\n",
    "\n",
    "cart = MLPClassifier() # Classificador\n",
    "\n",
    "model = BaggingClassifier(base_estimator=cart, n_estimators=num_trees, random_state=0)\n",
    "results = model_selection.cross_val_score(model, X, y, cv=kfold)\n",
    "\n",
    "print(results.mean())\n",
    "print(results.std())"
   ]
  },
  {
   "cell_type": "code",
   "execution_count": 87,
   "metadata": {},
   "outputs": [
    {
     "name": "stdout",
     "output_type": "stream",
     "text": [
      "0.9671014492753625\n",
      "0.019210628881609487\n",
      "0.9599378881987578\n",
      "0.022865664762981335\n",
      "0.9928364389233956\n",
      "0.007163800424441233\n"
     ]
    }
   ],
   "source": [
    "#Bagging para tamanhotamanho 20\n",
    "\n",
    "kfold = model_selection.KFold(n_splits=10, random_state=0)\n",
    "\n",
    "cart = KNeighborsClassifier() # Classificador\n",
    "\n",
    "num_trees = 20 # numero de classificadores\n",
    "\n",
    "model = BaggingClassifier(base_estimator=cart, n_estimators=num_trees, random_state=0)\n",
    "\n",
    "results = model_selection.cross_val_score(model, X, y, cv=kfold)\n",
    "\n",
    "print(results.mean())\n",
    "print(results.std())\n",
    "\n",
    "kfold = model_selection.KFold(n_splits=10, random_state=0)\n",
    "\n",
    "cart = DecisionTreeClassifier() # Classificador\n",
    "\n",
    "model = BaggingClassifier(base_estimator=cart, n_estimators=num_trees, random_state=0)\n",
    "\n",
    "results = model_selection.cross_val_score(model, X, y, cv=kfold)\n",
    "\n",
    "print(results.mean())\n",
    "print(results.std())\n",
    "\n",
    "kfold = model_selection.KFold(n_splits=10, random_state=0)\n",
    "\n",
    "cart = MLPClassifier() # Classificador\n",
    "\n",
    "model = BaggingClassifier(base_estimator=cart, n_estimators=num_trees, random_state=0)\n",
    "results = model_selection.cross_val_score(model, X, y, cv=kfold)\n",
    "\n",
    "print(results.mean())\n",
    "print(results.std())"
   ]
  },
  {
   "cell_type": "code",
   "execution_count": 88,
   "metadata": {},
   "outputs": [
    {
     "name": "stdout",
     "output_type": "stream",
     "text": [
      "0.9413664596273292\n",
      "0.0173828728452418\n"
     ]
    }
   ],
   "source": [
    "#AdaBoost w/ tree para 5\n",
    "\n",
    "from sklearn.ensemble import AdaBoostClassifier\n",
    "\n",
    "seed = 7\n",
    "num_trees = 5\n",
    "model1 = DecisionTreeClassifier()\n",
    "kfold = model_selection.KFold(n_splits=10, random_state=seed)\n",
    "model = AdaBoostClassifier(model1,n_estimators=num_trees, random_state=seed)\n",
    "results = model_selection.cross_val_score(model, X, y, cv=kfold)\n",
    "print(results.mean())\n",
    "print(results.std())"
   ]
  },
  {
   "cell_type": "code",
   "execution_count": 90,
   "metadata": {},
   "outputs": [
    {
     "name": "stdout",
     "output_type": "stream",
     "text": [
      "0.9413664596273292\n",
      "0.0173828728452418\n"
     ]
    }
   ],
   "source": [
    "#AdaBoost w/ tree para 10\n",
    "\n",
    "from sklearn.ensemble import AdaBoostClassifier\n",
    "\n",
    "seed = 7\n",
    "num_trees = 10\n",
    "model1 = DecisionTreeClassifier()\n",
    "kfold = model_selection.KFold(n_splits=10, random_state=seed)\n",
    "model = AdaBoostClassifier(model1,n_estimators=num_trees, random_state=seed)\n",
    "results = model_selection.cross_val_score(model, X, y, cv=kfold)\n",
    "print(results.mean())\n",
    "print(results.std())"
   ]
  },
  {
   "cell_type": "code",
   "execution_count": 83,
   "metadata": {},
   "outputs": [
    {
     "name": "stdout",
     "output_type": "stream",
     "text": [
      "0.9413664596273292\n",
      "0.0173828728452418\n"
     ]
    }
   ],
   "source": [
    "#AdaBoost w/ tree para 20\n",
    "\n",
    "from sklearn.ensemble import AdaBoostClassifier\n",
    "\n",
    "seed = 7\n",
    "num_trees = 20\n",
    "model1 = DecisionTreeClassifier()\n",
    "kfold = model_selection.KFold(n_splits=10, random_state=seed)\n",
    "model = AdaBoostClassifier(model1,n_estimators=num_trees, random_state=seed)\n",
    "results = model_selection.cross_val_score(model, X, y, cv=kfold)\n",
    "print(results.mean())\n",
    "print(results.std())"
   ]
  },
  {
   "cell_type": "code",
   "execution_count": 75,
   "metadata": {},
   "outputs": [
    {
     "data": {
      "text/plain": [
       "0.9799994167905988"
      ]
     },
     "execution_count": 75,
     "metadata": {},
     "output_type": "execute_result"
    }
   ],
   "source": [
    "#MLP, KNN e AD com Votação\n",
    "\n",
    "from sklearn.ensemble import VotingClassifier, BaggingClassifier, AdaBoostClassifier, RandomForestClassifier\n",
    "from sklearn.metrics import accuracy_score\n",
    "\n",
    "X_train, X_test, y_train, y_test = train_test_split(X, y, test_size=0.34, random_state=seed)\n",
    "\n",
    "# Fitting a Decision Tree.\n",
    "tree = DecisionTreeClassifier(min_samples_split=5, min_samples_leaf=3, random_state=seed)\n",
    "tree.fit(X_train, y_train)\n",
    "\n",
    "# Fitting a MLP.\n",
    "mlp = MLPClassifier(hidden_layer_sizes=(10,), max_iter=10000, random_state=seed)\n",
    "mlp.fit(X_train, y_train)\n",
    "\n",
    "# Fitting a kNN.\n",
    "knn = KNeighborsClassifier(n_neighbors=3)\n",
    "knn.fit(X_train, y_train)\n",
    "\n",
    "# Fitting a Voting Classifier by combining the three above classifiers.\n",
    "voting_clf = VotingClassifier(estimators=[('Tree', tree), ('MLP', mlp), ('kNN', knn)], voting='hard')\n",
    "voting_clf.fit(X_train, y_train)\n",
    "results = model_selection.cross_val_score(voting_clf,X,y,cv=10)\n",
    "results.mean()"
   ]
  },
  {
   "cell_type": "code",
   "execution_count": 79,
   "metadata": {},
   "outputs": [
    {
     "name": "stdout",
     "output_type": "stream",
     "text": [
      "0.9856728778467909\n",
      "0.015687462274552602\n"
     ]
    }
   ],
   "source": [
    "# Voting Ensemble for Classification\n",
    "\n",
    "from sklearn.linear_model import LogisticRegression\n",
    "from sklearn.svm import SVC\n",
    "\n",
    "seed = 7\n",
    "kfold = model_selection.KFold(n_splits=10, random_state=seed)\n",
    "# create the sub models\n",
    "estimators = []\n",
    "\n",
    "model1 = LogisticRegression(n_estimators=num_trees)\n",
    "estimators.append(('logistic', model1))\n",
    "\n",
    "model2 = DecisionTreeClassifier()\n",
    "estimators.append(('cart', model2))\n",
    "\n",
    "model3 = SVC(gamma='auto')\n",
    "estimators.append(('svm', model3))\n",
    "\n",
    "model4 = KNeighborsClassifier()\n",
    "estimators.append(('KNN', model4))\n",
    "\n",
    "# create the ensemble model\n",
    "ensemble = VotingClassifier(estimators)\n",
    "results = model_selection.cross_val_score(ensemble, X, y, cv=kfold)\n",
    "print(results.mean())\n",
    "print(results.std())"
   ]
  },
  {
   "cell_type": "code",
   "execution_count": 80,
   "metadata": {},
   "outputs": [],
   "source": [
    "#Comitês Heterogêneos"
   ]
  },
  {
   "cell_type": "code",
   "execution_count": 93,
   "metadata": {},
   "outputs": [
    {
     "ename": "ModuleNotFoundError",
     "evalue": "No module named 'mlxtend'",
     "output_type": "error",
     "traceback": [
      "\u001b[1;31m---------------------------------------------------------------------------\u001b[0m",
      "\u001b[1;31mModuleNotFoundError\u001b[0m                       Traceback (most recent call last)",
      "\u001b[1;32m<ipython-input-93-3bae9e56a488>\u001b[0m in \u001b[0;36m<module>\u001b[1;34m\u001b[0m\n\u001b[0;32m      1\u001b[0m \u001b[1;31m#Stacking\u001b[0m\u001b[1;33m\u001b[0m\u001b[1;33m\u001b[0m\u001b[1;33m\u001b[0m\u001b[0m\n\u001b[1;32m----> 2\u001b[1;33m \u001b[1;32mimport\u001b[0m \u001b[0mmlxtend\u001b[0m\u001b[1;33m\u001b[0m\u001b[1;33m\u001b[0m\u001b[0m\n\u001b[0m\u001b[0;32m      3\u001b[0m \u001b[1;32mfrom\u001b[0m \u001b[0mmlxtend\u001b[0m\u001b[1;33m.\u001b[0m\u001b[0mclassifier\u001b[0m \u001b[1;32mimport\u001b[0m \u001b[0mStackingClassifier\u001b[0m\u001b[1;33m\u001b[0m\u001b[1;33m\u001b[0m\u001b[0m\n\u001b[0;32m      4\u001b[0m \u001b[1;33m\u001b[0m\u001b[0m\n\u001b[0;32m      5\u001b[0m \u001b[0mX_train\u001b[0m\u001b[1;33m,\u001b[0m \u001b[0mX_test\u001b[0m\u001b[1;33m,\u001b[0m \u001b[0my_train\u001b[0m\u001b[1;33m,\u001b[0m \u001b[0my_test\u001b[0m \u001b[1;33m=\u001b[0m \u001b[0mtrain_test_split\u001b[0m\u001b[1;33m(\u001b[0m\u001b[0miris_Ada\u001b[0m\u001b[1;33m.\u001b[0m\u001b[0mdata\u001b[0m\u001b[1;33m,\u001b[0m \u001b[0miris_Ada\u001b[0m\u001b[1;33m.\u001b[0m\u001b[0mtarget\u001b[0m\u001b[1;33m,\u001b[0m \u001b[0mtest_size\u001b[0m\u001b[1;33m=\u001b[0m\u001b[1;36m0.34\u001b[0m\u001b[1;33m,\u001b[0m \u001b[0mrandom_state\u001b[0m\u001b[1;33m=\u001b[0m\u001b[0mseed\u001b[0m\u001b[1;33m)\u001b[0m\u001b[1;33m\u001b[0m\u001b[1;33m\u001b[0m\u001b[0m\n",
      "\u001b[1;31mModuleNotFoundError\u001b[0m: No module named 'mlxtend'"
     ]
    }
   ],
   "source": [
    "#Stacking\n",
    "from mlxtend.classifier import StackingClassifier\n",
    "\n",
    "X_train, X_test, y_train, y_test = train_test_split(iris_Ada.data, iris_Ada.target, test_size=0.34, random_state=seed)\n",
    "\n",
    "clf1 = KNeighborsClassifier()\n",
    "clf2 = DecisionTreeClassifier()\n",
    "clf3 = LinearSVC()\n",
    "\n",
    "lr = LogisticRegression(solver='lbfgs', multi_class='ovr')\n",
    "\n",
    "clf = StackingClassifier(classifiers=[clf1, clf2, clf3],meta_classifier=lr)\n",
    "\n",
    "clf.fit(X_train, y_train).score(X_test, y_test)\n",
    "\n",
    "results1 = model_selection.cross_val_score(clf,iris_Ada.data,iris_Ada.target,cv=10)\n",
    "print(\"Meta Classificador: LR\",results1.mean())\n",
    "\n",
    "clf4 = StackingClassifier(classifiers=[clf1, clf2, clf3],meta_classifier=clf3)\n",
    "\n",
    "results2 = model_selection.cross_val_score(clf4,iris_Ada.data,iris_Ada.target,cv=10)\n",
    "\n",
    "clf4.fit(X_train, y_train).score(X_test, y_test)\n",
    "\n",
    "print(\"Meta Classificador: SVC\",results2.mean())"
   ]
  },
  {
   "cell_type": "code",
   "execution_count": 94,
   "metadata": {},
   "outputs": [
    {
     "name": "stdout",
     "output_type": "stream",
     "text": [
      "R2 no set de treino: 0.69\n",
      "R2 no set de teste: 0.70\n"
     ]
    }
   ],
   "source": [
    "from sklearn.linear_model import LinearRegression\n",
    "X_train, X_test, y_train, y_test = train_test_split(X, y, test_size=0.33, random_state=42)\n",
    "regr = LinearRegression() # cria o modelo\n",
    "regr.fit(X_train, y_train) # treina o modelo\n",
    "r2_train = regr.score(X_train, y_train)\n",
    "r2_test = regr.score(X_test, y_test)\n",
    "print('R2 no set de treino: %.2f' % r2_train)\n",
    "print('R2 no set de teste: %.2f' % r2_test)\n",
    "\n",
    "plt.scatter(y=res, x=y_hat, color='green', s=50, alpha=.6)\n",
    "plt.hlines(y=0, xmin=-10, xmax=15, color='orange')\n",
    "plt.ylabel('$\\epsilon = y - \\hat{y}$ - Resíduos')\n",
    "plt.xlabel('$\\hat{y}$ ou $E(y)$ - Predito')\n",
    "plt.show()"
   ]
  }
 ],
 "metadata": {
  "kernelspec": {
   "display_name": "Python 3",
   "language": "python",
   "name": "python3"
  },
  "language_info": {
   "codemirror_mode": {
    "name": "ipython",
    "version": 3
   },
   "file_extension": ".py",
   "mimetype": "text/x-python",
   "name": "python",
   "nbconvert_exporter": "python",
   "pygments_lexer": "ipython3",
   "version": "3.7.4"
  }
 },
 "nbformat": 4,
 "nbformat_minor": 4
}
