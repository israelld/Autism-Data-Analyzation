{
 "cells": [
  {
   "cell_type": "code",
   "execution_count": 1,
   "metadata": {},
   "outputs": [
    {
     "name": "stderr",
     "output_type": "stream",
     "text": [
      "── \u001b[1mAttaching packages\u001b[22m ─────────────────────────────────────── tidyverse 1.2.1 ──\n",
      "\n",
      "\u001b[32m✔\u001b[39m \u001b[34mggplot2\u001b[39m 3.2.1     \u001b[32m✔\u001b[39m \u001b[34mpurrr  \u001b[39m 0.3.3\n",
      "\u001b[32m✔\u001b[39m \u001b[34mtibble \u001b[39m 2.1.3     \u001b[32m✔\u001b[39m \u001b[34mdplyr  \u001b[39m 0.8.3\n",
      "\u001b[32m✔\u001b[39m \u001b[34mtidyr  \u001b[39m 1.0.0     \u001b[32m✔\u001b[39m \u001b[34mstringr\u001b[39m 1.4.0\n",
      "\u001b[32m✔\u001b[39m \u001b[34mreadr  \u001b[39m 1.3.1     \u001b[32m✔\u001b[39m \u001b[34mforcats\u001b[39m 0.4.0\n",
      "\n",
      "── \u001b[1mConflicts\u001b[22m ────────────────────────────────────────── tidyverse_conflicts() ──\n",
      "\u001b[31m✖\u001b[39m \u001b[34mdplyr\u001b[39m::\u001b[32mfilter()\u001b[39m masks \u001b[34mstats\u001b[39m::filter()\n",
      "\u001b[31m✖\u001b[39m \u001b[34mdplyr\u001b[39m::\u001b[32mlag()\u001b[39m    masks \u001b[34mstats\u001b[39m::lag()\n",
      "\n"
     ]
    }
   ],
   "source": [
    "# install.packages(\"tidyverse\")\n",
    "library(tidyverse)"
   ]
  },
  {
   "cell_type": "code",
   "execution_count": 2,
   "metadata": {},
   "outputs": [
    {
     "name": "stderr",
     "output_type": "stream",
     "text": [
      "Parsed with column specification:\n",
      "cols(\n",
      "  .default = col_double(),\n",
      "  age = \u001b[31mcol_character()\u001b[39m,\n",
      "  gender = \u001b[31mcol_character()\u001b[39m,\n",
      "  ethnicity = \u001b[31mcol_character()\u001b[39m,\n",
      "  jundice = \u001b[31mcol_character()\u001b[39m,\n",
      "  austim = \u001b[31mcol_character()\u001b[39m,\n",
      "  contry_of_res = \u001b[31mcol_character()\u001b[39m,\n",
      "  used_app_before = \u001b[31mcol_character()\u001b[39m,\n",
      "  age_desc = \u001b[31mcol_character()\u001b[39m,\n",
      "  relation = \u001b[31mcol_character()\u001b[39m,\n",
      "  `Class/ASD` = \u001b[31mcol_character()\u001b[39m\n",
      ")\n",
      "\n",
      "See spec(...) for full column specifications.\n",
      "\n"
     ]
    }
   ],
   "source": [
    "banco <- read_csv(\"Autism_Data.csv\") # Carregando o Dataframe, Banco de Dados para o estudo"
   ]
  },
  {
   "cell_type": "code",
   "execution_count": 3,
   "metadata": {},
   "outputs": [
    {
     "data": {
      "text/html": [
       "<ol class=list-inline>\n",
       "\t<li>'A1_Score'</li>\n",
       "\t<li>'A2_Score'</li>\n",
       "\t<li>'A3_Score'</li>\n",
       "\t<li>'A4_Score'</li>\n",
       "\t<li>'A5_Score'</li>\n",
       "\t<li>'A6_Score'</li>\n",
       "\t<li>'A7_Score'</li>\n",
       "\t<li>'A8_Score'</li>\n",
       "\t<li>'A9_Score'</li>\n",
       "\t<li>'A10_Score'</li>\n",
       "\t<li>'age'</li>\n",
       "\t<li>'gender'</li>\n",
       "\t<li>'ethnicity'</li>\n",
       "\t<li>'jundice'</li>\n",
       "\t<li>'austim'</li>\n",
       "\t<li>'contry_of_res'</li>\n",
       "\t<li>'used_app_before'</li>\n",
       "\t<li>'result'</li>\n",
       "\t<li>'age_desc'</li>\n",
       "\t<li>'relation'</li>\n",
       "\t<li>'Class/ASD'</li>\n",
       "</ol>\n"
      ],
      "text/latex": [
       "\\begin{enumerate*}\n",
       "\\item 'A1\\_Score'\n",
       "\\item 'A2\\_Score'\n",
       "\\item 'A3\\_Score'\n",
       "\\item 'A4\\_Score'\n",
       "\\item 'A5\\_Score'\n",
       "\\item 'A6\\_Score'\n",
       "\\item 'A7\\_Score'\n",
       "\\item 'A8\\_Score'\n",
       "\\item 'A9\\_Score'\n",
       "\\item 'A10\\_Score'\n",
       "\\item 'age'\n",
       "\\item 'gender'\n",
       "\\item 'ethnicity'\n",
       "\\item 'jundice'\n",
       "\\item 'austim'\n",
       "\\item 'contry\\_of\\_res'\n",
       "\\item 'used\\_app\\_before'\n",
       "\\item 'result'\n",
       "\\item 'age\\_desc'\n",
       "\\item 'relation'\n",
       "\\item 'Class/ASD'\n",
       "\\end{enumerate*}\n"
      ],
      "text/markdown": [
       "1. 'A1_Score'\n",
       "2. 'A2_Score'\n",
       "3. 'A3_Score'\n",
       "4. 'A4_Score'\n",
       "5. 'A5_Score'\n",
       "6. 'A6_Score'\n",
       "7. 'A7_Score'\n",
       "8. 'A8_Score'\n",
       "9. 'A9_Score'\n",
       "10. 'A10_Score'\n",
       "11. 'age'\n",
       "12. 'gender'\n",
       "13. 'ethnicity'\n",
       "14. 'jundice'\n",
       "15. 'austim'\n",
       "16. 'contry_of_res'\n",
       "17. 'used_app_before'\n",
       "18. 'result'\n",
       "19. 'age_desc'\n",
       "20. 'relation'\n",
       "21. 'Class/ASD'\n",
       "\n",
       "\n"
      ],
      "text/plain": [
       " [1] \"A1_Score\"        \"A2_Score\"        \"A3_Score\"        \"A4_Score\"       \n",
       " [5] \"A5_Score\"        \"A6_Score\"        \"A7_Score\"        \"A8_Score\"       \n",
       " [9] \"A9_Score\"        \"A10_Score\"       \"age\"             \"gender\"         \n",
       "[13] \"ethnicity\"       \"jundice\"         \"austim\"          \"contry_of_res\"  \n",
       "[17] \"used_app_before\" \"result\"          \"age_desc\"        \"relation\"       \n",
       "[21] \"Class/ASD\"      "
      ]
     },
     "metadata": {},
     "output_type": "display_data"
    }
   ],
   "source": [
    "names(banco) # O banco tem 21 variaveis"
   ]
  },
  {
   "cell_type": "code",
   "execution_count": 4,
   "metadata": {},
   "outputs": [],
   "source": [
    "banco <- banco %>% select(-(11:20)) # Para a regresão vamos avaliar apenas o AQ10 em relação ao resultado do teste"
   ]
  },
  {
   "cell_type": "code",
   "execution_count": 5,
   "metadata": {},
   "outputs": [
    {
     "data": {
      "text/html": [
       "<ol class=list-inline>\n",
       "\t<li>'A1_Score'</li>\n",
       "\t<li>'A2_Score'</li>\n",
       "\t<li>'A3_Score'</li>\n",
       "\t<li>'A4_Score'</li>\n",
       "\t<li>'A5_Score'</li>\n",
       "\t<li>'A6_Score'</li>\n",
       "\t<li>'A7_Score'</li>\n",
       "\t<li>'A8_Score'</li>\n",
       "\t<li>'A9_Score'</li>\n",
       "\t<li>'A10_Score'</li>\n",
       "\t<li>'Class/ASD'</li>\n",
       "</ol>\n"
      ],
      "text/latex": [
       "\\begin{enumerate*}\n",
       "\\item 'A1\\_Score'\n",
       "\\item 'A2\\_Score'\n",
       "\\item 'A3\\_Score'\n",
       "\\item 'A4\\_Score'\n",
       "\\item 'A5\\_Score'\n",
       "\\item 'A6\\_Score'\n",
       "\\item 'A7\\_Score'\n",
       "\\item 'A8\\_Score'\n",
       "\\item 'A9\\_Score'\n",
       "\\item 'A10\\_Score'\n",
       "\\item 'Class/ASD'\n",
       "\\end{enumerate*}\n"
      ],
      "text/markdown": [
       "1. 'A1_Score'\n",
       "2. 'A2_Score'\n",
       "3. 'A3_Score'\n",
       "4. 'A4_Score'\n",
       "5. 'A5_Score'\n",
       "6. 'A6_Score'\n",
       "7. 'A7_Score'\n",
       "8. 'A8_Score'\n",
       "9. 'A9_Score'\n",
       "10. 'A10_Score'\n",
       "11. 'Class/ASD'\n",
       "\n",
       "\n"
      ],
      "text/plain": [
       " [1] \"A1_Score\"  \"A2_Score\"  \"A3_Score\"  \"A4_Score\"  \"A5_Score\"  \"A6_Score\" \n",
       " [7] \"A7_Score\"  \"A8_Score\"  \"A9_Score\"  \"A10_Score\" \"Class/ASD\""
      ]
     },
     "metadata": {},
     "output_type": "display_data"
    },
    {
     "data": {
      "text/html": [
       "<ol class=list-inline>\n",
       "\t<li>'A1_Score'</li>\n",
       "\t<li>'A2_Score'</li>\n",
       "\t<li>'A3_Score'</li>\n",
       "\t<li>'A4_Score'</li>\n",
       "\t<li>'A5_Score'</li>\n",
       "\t<li>'A6_Score'</li>\n",
       "\t<li>'A7_Score'</li>\n",
       "\t<li>'A8_Score'</li>\n",
       "\t<li>'A9_Score'</li>\n",
       "\t<li>'A10_Score'</li>\n",
       "\t<li>'Has_autism'</li>\n",
       "</ol>\n"
      ],
      "text/latex": [
       "\\begin{enumerate*}\n",
       "\\item 'A1\\_Score'\n",
       "\\item 'A2\\_Score'\n",
       "\\item 'A3\\_Score'\n",
       "\\item 'A4\\_Score'\n",
       "\\item 'A5\\_Score'\n",
       "\\item 'A6\\_Score'\n",
       "\\item 'A7\\_Score'\n",
       "\\item 'A8\\_Score'\n",
       "\\item 'A9\\_Score'\n",
       "\\item 'A10\\_Score'\n",
       "\\item 'Has\\_autism'\n",
       "\\end{enumerate*}\n"
      ],
      "text/markdown": [
       "1. 'A1_Score'\n",
       "2. 'A2_Score'\n",
       "3. 'A3_Score'\n",
       "4. 'A4_Score'\n",
       "5. 'A5_Score'\n",
       "6. 'A6_Score'\n",
       "7. 'A7_Score'\n",
       "8. 'A8_Score'\n",
       "9. 'A9_Score'\n",
       "10. 'A10_Score'\n",
       "11. 'Has_autism'\n",
       "\n",
       "\n"
      ],
      "text/plain": [
       " [1] \"A1_Score\"   \"A2_Score\"   \"A3_Score\"   \"A4_Score\"   \"A5_Score\"  \n",
       " [6] \"A6_Score\"   \"A7_Score\"   \"A8_Score\"   \"A9_Score\"   \"A10_Score\" \n",
       "[11] \"Has_autism\""
      ]
     },
     "metadata": {},
     "output_type": "display_data"
    }
   ],
   "source": [
    "names(banco) # Retiramos o restante das colunas\n",
    "names(banco)[11] <- \"Has_autism\" # Renomeamos a coluna com o resultado do teste\n",
    "names(banco) # Nome final das colunas"
   ]
  },
  {
   "cell_type": "code",
   "execution_count": 6,
   "metadata": {},
   "outputs": [
    {
     "data": {
      "text/html": [
       "<dl class=dl-horizontal>\n",
       "\t<dt>A1_Score</dt>\n",
       "\t\t<dd>'numeric'</dd>\n",
       "\t<dt>A2_Score</dt>\n",
       "\t\t<dd>'numeric'</dd>\n",
       "\t<dt>A3_Score</dt>\n",
       "\t\t<dd>'numeric'</dd>\n",
       "\t<dt>A4_Score</dt>\n",
       "\t\t<dd>'numeric'</dd>\n",
       "\t<dt>A5_Score</dt>\n",
       "\t\t<dd>'numeric'</dd>\n",
       "\t<dt>A6_Score</dt>\n",
       "\t\t<dd>'numeric'</dd>\n",
       "\t<dt>A7_Score</dt>\n",
       "\t\t<dd>'numeric'</dd>\n",
       "\t<dt>A8_Score</dt>\n",
       "\t\t<dd>'numeric'</dd>\n",
       "\t<dt>A9_Score</dt>\n",
       "\t\t<dd>'numeric'</dd>\n",
       "\t<dt>A10_Score</dt>\n",
       "\t\t<dd>'numeric'</dd>\n",
       "\t<dt>Has_autism</dt>\n",
       "\t\t<dd>'character'</dd>\n",
       "</dl>\n"
      ],
      "text/latex": [
       "\\begin{description*}\n",
       "\\item[A1\\textbackslash{}\\_Score] 'numeric'\n",
       "\\item[A2\\textbackslash{}\\_Score] 'numeric'\n",
       "\\item[A3\\textbackslash{}\\_Score] 'numeric'\n",
       "\\item[A4\\textbackslash{}\\_Score] 'numeric'\n",
       "\\item[A5\\textbackslash{}\\_Score] 'numeric'\n",
       "\\item[A6\\textbackslash{}\\_Score] 'numeric'\n",
       "\\item[A7\\textbackslash{}\\_Score] 'numeric'\n",
       "\\item[A8\\textbackslash{}\\_Score] 'numeric'\n",
       "\\item[A9\\textbackslash{}\\_Score] 'numeric'\n",
       "\\item[A10\\textbackslash{}\\_Score] 'numeric'\n",
       "\\item[Has\\textbackslash{}\\_autism] 'character'\n",
       "\\end{description*}\n"
      ],
      "text/markdown": [
       "A1_Score\n",
       ":   'numeric'A2_Score\n",
       ":   'numeric'A3_Score\n",
       ":   'numeric'A4_Score\n",
       ":   'numeric'A5_Score\n",
       ":   'numeric'A6_Score\n",
       ":   'numeric'A7_Score\n",
       ":   'numeric'A8_Score\n",
       ":   'numeric'A9_Score\n",
       ":   'numeric'A10_Score\n",
       ":   'numeric'Has_autism\n",
       ":   'character'\n",
       "\n"
      ],
      "text/plain": [
       "   A1_Score    A2_Score    A3_Score    A4_Score    A5_Score    A6_Score \n",
       "  \"numeric\"   \"numeric\"   \"numeric\"   \"numeric\"   \"numeric\"   \"numeric\" \n",
       "   A7_Score    A8_Score    A9_Score   A10_Score  Has_autism \n",
       "  \"numeric\"   \"numeric\"   \"numeric\"   \"numeric\" \"character\" "
      ]
     },
     "metadata": {},
     "output_type": "display_data"
    }
   ],
   "source": [
    "sapply(banco,class) # Para correlacionar precisamos que todas as variaveis sejam numericas"
   ]
  },
  {
   "cell_type": "code",
   "execution_count": 7,
   "metadata": {},
   "outputs": [],
   "source": [
    "# Vamos transformando os resultados em 1 para YES e em 0 para NO\n",
    "banco <- mutate(banco,Has_autism = ifelse(Has_autism == 'YES', 1 , 0))"
   ]
  },
  {
   "cell_type": "code",
   "execution_count": 8,
   "metadata": {
    "scrolled": true
   },
   "outputs": [
    {
     "data": {
      "text/html": [
       "<table>\n",
       "<caption>A tibble: 6 × 11</caption>\n",
       "<thead>\n",
       "\t<tr><th scope=col>A1_Score</th><th scope=col>A2_Score</th><th scope=col>A3_Score</th><th scope=col>A4_Score</th><th scope=col>A5_Score</th><th scope=col>A6_Score</th><th scope=col>A7_Score</th><th scope=col>A8_Score</th><th scope=col>A9_Score</th><th scope=col>A10_Score</th><th scope=col>Has_autism</th></tr>\n",
       "\t<tr><th scope=col>&lt;dbl&gt;</th><th scope=col>&lt;dbl&gt;</th><th scope=col>&lt;dbl&gt;</th><th scope=col>&lt;dbl&gt;</th><th scope=col>&lt;dbl&gt;</th><th scope=col>&lt;dbl&gt;</th><th scope=col>&lt;dbl&gt;</th><th scope=col>&lt;dbl&gt;</th><th scope=col>&lt;dbl&gt;</th><th scope=col>&lt;dbl&gt;</th><th scope=col>&lt;dbl&gt;</th></tr>\n",
       "</thead>\n",
       "<tbody>\n",
       "\t<tr><td>1</td><td>1</td><td>1</td><td>1</td><td>0</td><td>0</td><td>1</td><td>1</td><td>0</td><td>0</td><td>0</td></tr>\n",
       "\t<tr><td>1</td><td>1</td><td>0</td><td>1</td><td>0</td><td>0</td><td>0</td><td>1</td><td>0</td><td>1</td><td>0</td></tr>\n",
       "\t<tr><td>1</td><td>1</td><td>0</td><td>1</td><td>1</td><td>0</td><td>1</td><td>1</td><td>1</td><td>1</td><td>1</td></tr>\n",
       "\t<tr><td>1</td><td>1</td><td>0</td><td>1</td><td>0</td><td>0</td><td>1</td><td>1</td><td>0</td><td>1</td><td>0</td></tr>\n",
       "\t<tr><td>1</td><td>0</td><td>0</td><td>0</td><td>0</td><td>0</td><td>0</td><td>1</td><td>0</td><td>0</td><td>0</td></tr>\n",
       "\t<tr><td>1</td><td>1</td><td>1</td><td>1</td><td>1</td><td>0</td><td>1</td><td>1</td><td>1</td><td>1</td><td>1</td></tr>\n",
       "</tbody>\n",
       "</table>\n"
      ],
      "text/latex": [
       "A tibble: 6 × 11\n",
       "\\begin{tabular}{r|lllllllllll}\n",
       " A1\\_Score & A2\\_Score & A3\\_Score & A4\\_Score & A5\\_Score & A6\\_Score & A7\\_Score & A8\\_Score & A9\\_Score & A10\\_Score & Has\\_autism\\\\\n",
       " <dbl> & <dbl> & <dbl> & <dbl> & <dbl> & <dbl> & <dbl> & <dbl> & <dbl> & <dbl> & <dbl>\\\\\n",
       "\\hline\n",
       "\t 1 & 1 & 1 & 1 & 0 & 0 & 1 & 1 & 0 & 0 & 0\\\\\n",
       "\t 1 & 1 & 0 & 1 & 0 & 0 & 0 & 1 & 0 & 1 & 0\\\\\n",
       "\t 1 & 1 & 0 & 1 & 1 & 0 & 1 & 1 & 1 & 1 & 1\\\\\n",
       "\t 1 & 1 & 0 & 1 & 0 & 0 & 1 & 1 & 0 & 1 & 0\\\\\n",
       "\t 1 & 0 & 0 & 0 & 0 & 0 & 0 & 1 & 0 & 0 & 0\\\\\n",
       "\t 1 & 1 & 1 & 1 & 1 & 0 & 1 & 1 & 1 & 1 & 1\\\\\n",
       "\\end{tabular}\n"
      ],
      "text/markdown": [
       "\n",
       "A tibble: 6 × 11\n",
       "\n",
       "| A1_Score &lt;dbl&gt; | A2_Score &lt;dbl&gt; | A3_Score &lt;dbl&gt; | A4_Score &lt;dbl&gt; | A5_Score &lt;dbl&gt; | A6_Score &lt;dbl&gt; | A7_Score &lt;dbl&gt; | A8_Score &lt;dbl&gt; | A9_Score &lt;dbl&gt; | A10_Score &lt;dbl&gt; | Has_autism &lt;dbl&gt; |\n",
       "|---|---|---|---|---|---|---|---|---|---|---|\n",
       "| 1 | 1 | 1 | 1 | 0 | 0 | 1 | 1 | 0 | 0 | 0 |\n",
       "| 1 | 1 | 0 | 1 | 0 | 0 | 0 | 1 | 0 | 1 | 0 |\n",
       "| 1 | 1 | 0 | 1 | 1 | 0 | 1 | 1 | 1 | 1 | 1 |\n",
       "| 1 | 1 | 0 | 1 | 0 | 0 | 1 | 1 | 0 | 1 | 0 |\n",
       "| 1 | 0 | 0 | 0 | 0 | 0 | 0 | 1 | 0 | 0 | 0 |\n",
       "| 1 | 1 | 1 | 1 | 1 | 0 | 1 | 1 | 1 | 1 | 1 |\n",
       "\n"
      ],
      "text/plain": [
       "  A1_Score A2_Score A3_Score A4_Score A5_Score A6_Score A7_Score A8_Score\n",
       "1 1        1        1        1        0        0        1        1       \n",
       "2 1        1        0        1        0        0        0        1       \n",
       "3 1        1        0        1        1        0        1        1       \n",
       "4 1        1        0        1        0        0        1        1       \n",
       "5 1        0        0        0        0        0        0        1       \n",
       "6 1        1        1        1        1        0        1        1       \n",
       "  A9_Score A10_Score Has_autism\n",
       "1 0        0         0         \n",
       "2 0        1         0         \n",
       "3 1        1         1         \n",
       "4 0        1         0         \n",
       "5 0        0         0         \n",
       "6 1        1         1         "
      ]
     },
     "metadata": {},
     "output_type": "display_data"
    }
   ],
   "source": [
    "head(banco) # banco normalizado"
   ]
  },
  {
   "cell_type": "code",
   "execution_count": 9,
   "metadata": {},
   "outputs": [
    {
     "data": {
      "text/html": [
       "<dl class=dl-horizontal>\n",
       "\t<dt>A1_Score</dt>\n",
       "\t\t<dd>'numeric'</dd>\n",
       "\t<dt>A2_Score</dt>\n",
       "\t\t<dd>'numeric'</dd>\n",
       "\t<dt>A3_Score</dt>\n",
       "\t\t<dd>'numeric'</dd>\n",
       "\t<dt>A4_Score</dt>\n",
       "\t\t<dd>'numeric'</dd>\n",
       "\t<dt>A5_Score</dt>\n",
       "\t\t<dd>'numeric'</dd>\n",
       "\t<dt>A6_Score</dt>\n",
       "\t\t<dd>'numeric'</dd>\n",
       "\t<dt>A7_Score</dt>\n",
       "\t\t<dd>'numeric'</dd>\n",
       "\t<dt>A8_Score</dt>\n",
       "\t\t<dd>'numeric'</dd>\n",
       "\t<dt>A9_Score</dt>\n",
       "\t\t<dd>'numeric'</dd>\n",
       "\t<dt>A10_Score</dt>\n",
       "\t\t<dd>'numeric'</dd>\n",
       "\t<dt>Has_autism</dt>\n",
       "\t\t<dd>'numeric'</dd>\n",
       "</dl>\n"
      ],
      "text/latex": [
       "\\begin{description*}\n",
       "\\item[A1\\textbackslash{}\\_Score] 'numeric'\n",
       "\\item[A2\\textbackslash{}\\_Score] 'numeric'\n",
       "\\item[A3\\textbackslash{}\\_Score] 'numeric'\n",
       "\\item[A4\\textbackslash{}\\_Score] 'numeric'\n",
       "\\item[A5\\textbackslash{}\\_Score] 'numeric'\n",
       "\\item[A6\\textbackslash{}\\_Score] 'numeric'\n",
       "\\item[A7\\textbackslash{}\\_Score] 'numeric'\n",
       "\\item[A8\\textbackslash{}\\_Score] 'numeric'\n",
       "\\item[A9\\textbackslash{}\\_Score] 'numeric'\n",
       "\\item[A10\\textbackslash{}\\_Score] 'numeric'\n",
       "\\item[Has\\textbackslash{}\\_autism] 'numeric'\n",
       "\\end{description*}\n"
      ],
      "text/markdown": [
       "A1_Score\n",
       ":   'numeric'A2_Score\n",
       ":   'numeric'A3_Score\n",
       ":   'numeric'A4_Score\n",
       ":   'numeric'A5_Score\n",
       ":   'numeric'A6_Score\n",
       ":   'numeric'A7_Score\n",
       ":   'numeric'A8_Score\n",
       ":   'numeric'A9_Score\n",
       ":   'numeric'A10_Score\n",
       ":   'numeric'Has_autism\n",
       ":   'numeric'\n",
       "\n"
      ],
      "text/plain": [
       "  A1_Score   A2_Score   A3_Score   A4_Score   A5_Score   A6_Score   A7_Score \n",
       " \"numeric\"  \"numeric\"  \"numeric\"  \"numeric\"  \"numeric\"  \"numeric\"  \"numeric\" \n",
       "  A8_Score   A9_Score  A10_Score Has_autism \n",
       " \"numeric\"  \"numeric\"  \"numeric\"  \"numeric\" "
      ]
     },
     "metadata": {},
     "output_type": "display_data"
    }
   ],
   "source": [
    "sapply(banco,class) # Para correlacionar precisamos que todas as variaveis sejam numericas"
   ]
  },
  {
   "cell_type": "code",
   "execution_count": 10,
   "metadata": {},
   "outputs": [
    {
     "data": {
      "text/html": [
       "<table>\n",
       "<caption>A matrix: 11 × 11 of type dbl</caption>\n",
       "<thead>\n",
       "\t<tr><th></th><th scope=col>A1_Score</th><th scope=col>A2_Score</th><th scope=col>A3_Score</th><th scope=col>A4_Score</th><th scope=col>A5_Score</th><th scope=col>A6_Score</th><th scope=col>A7_Score</th><th scope=col>A8_Score</th><th scope=col>A9_Score</th><th scope=col>A10_Score</th><th scope=col>Has_autism</th></tr>\n",
       "</thead>\n",
       "<tbody>\n",
       "\t<tr><th scope=row>A1_Score</th><td>1.00000000</td><td> 0.01153892</td><td>0.07409593</td><td>0.127814230</td><td>0.1693691</td><td>0.1101993</td><td> 0.21753794</td><td>0.147639774</td><td>0.1454524</td><td>0.11841298</td><td>0.2976276</td></tr>\n",
       "\t<tr><th scope=row>A2_Score</th><td>0.01153892</td><td> 1.00000000</td><td>0.22392092</td><td>0.158997916</td><td>0.1538208</td><td>0.1858637</td><td>-0.04176797</td><td>0.035407855</td><td>0.2054210</td><td>0.06888252</td><td>0.3113817</td></tr>\n",
       "\t<tr><th scope=row>A3_Score</th><td>0.07409593</td><td> 0.22392092</td><td>1.00000000</td><td>0.412722059</td><td>0.2649274</td><td>0.2688462</td><td> 0.07821574</td><td>0.017770943</td><td>0.3151130</td><td>0.16845393</td><td>0.4410737</td></tr>\n",
       "\t<tr><th scope=row>A4_Score</th><td>0.12781423</td><td> 0.15899792</td><td>0.41272206</td><td>1.000000000</td><td>0.3068064</td><td>0.2951523</td><td> 0.15123645</td><td>0.008616695</td><td>0.3276726</td><td>0.21096769</td><td>0.4699452</td></tr>\n",
       "\t<tr><th scope=row>A5_Score</th><td>0.16936910</td><td> 0.15382084</td><td>0.26492742</td><td>0.306806350</td><td>1.0000000</td><td>0.3923545</td><td> 0.23858945</td><td>0.102086359</td><td>0.3965817</td><td>0.26756094</td><td>0.5370043</td></tr>\n",
       "\t<tr><th scope=row>A6_Score</th><td>0.11019932</td><td> 0.18586369</td><td>0.26884619</td><td>0.295152296</td><td>0.3923545</td><td>1.0000000</td><td> 0.17548921</td><td>0.100123128</td><td>0.4794218</td><td>0.29443495</td><td>0.5920910</td></tr>\n",
       "\t<tr><th scope=row>A7_Score</th><td>0.21753794</td><td>-0.04176797</td><td>0.07821574</td><td>0.151236453</td><td>0.2385894</td><td>0.1754892</td><td> 1.00000000</td><td>0.085403244</td><td>0.1894796</td><td>0.25210651</td><td>0.3514286</td></tr>\n",
       "\t<tr><th scope=row>A8_Score</th><td>0.14763977</td><td> 0.03540785</td><td>0.01777094</td><td>0.008616695</td><td>0.1020864</td><td>0.1001231</td><td> 0.08540324</td><td>1.000000000</td><td>0.1017328</td><td>0.10078183</td><td>0.2371606</td></tr>\n",
       "\t<tr><th scope=row>A9_Score</th><td>0.14545244</td><td> 0.20542100</td><td>0.31511299</td><td>0.327672571</td><td>0.3965817</td><td>0.4794218</td><td> 0.18947962</td><td>0.101732780</td><td>1.0000000</td><td>0.28333987</td><td>0.6355758</td></tr>\n",
       "\t<tr><th scope=row>A10_Score</th><td>0.11841298</td><td> 0.06888252</td><td>0.16845393</td><td>0.210967690</td><td>0.2675609</td><td>0.2944349</td><td> 0.25210651</td><td>0.100781830</td><td>0.2833399</td><td>1.00000000</td><td>0.3859171</td></tr>\n",
       "\t<tr><th scope=row>Has_autism</th><td>0.29762761</td><td> 0.31138172</td><td>0.44107372</td><td>0.469945188</td><td>0.5370043</td><td>0.5920910</td><td> 0.35142862</td><td>0.237160611</td><td>0.6355758</td><td>0.38591708</td><td>1.0000000</td></tr>\n",
       "</tbody>\n",
       "</table>\n"
      ],
      "text/latex": [
       "A matrix: 11 × 11 of type dbl\n",
       "\\begin{tabular}{r|lllllllllll}\n",
       "  & A1\\_Score & A2\\_Score & A3\\_Score & A4\\_Score & A5\\_Score & A6\\_Score & A7\\_Score & A8\\_Score & A9\\_Score & A10\\_Score & Has\\_autism\\\\\n",
       "\\hline\n",
       "\tA1\\_Score & 1.00000000 &  0.01153892 & 0.07409593 & 0.127814230 & 0.1693691 & 0.1101993 &  0.21753794 & 0.147639774 & 0.1454524 & 0.11841298 & 0.2976276\\\\\n",
       "\tA2\\_Score & 0.01153892 &  1.00000000 & 0.22392092 & 0.158997916 & 0.1538208 & 0.1858637 & -0.04176797 & 0.035407855 & 0.2054210 & 0.06888252 & 0.3113817\\\\\n",
       "\tA3\\_Score & 0.07409593 &  0.22392092 & 1.00000000 & 0.412722059 & 0.2649274 & 0.2688462 &  0.07821574 & 0.017770943 & 0.3151130 & 0.16845393 & 0.4410737\\\\\n",
       "\tA4\\_Score & 0.12781423 &  0.15899792 & 0.41272206 & 1.000000000 & 0.3068064 & 0.2951523 &  0.15123645 & 0.008616695 & 0.3276726 & 0.21096769 & 0.4699452\\\\\n",
       "\tA5\\_Score & 0.16936910 &  0.15382084 & 0.26492742 & 0.306806350 & 1.0000000 & 0.3923545 &  0.23858945 & 0.102086359 & 0.3965817 & 0.26756094 & 0.5370043\\\\\n",
       "\tA6\\_Score & 0.11019932 &  0.18586369 & 0.26884619 & 0.295152296 & 0.3923545 & 1.0000000 &  0.17548921 & 0.100123128 & 0.4794218 & 0.29443495 & 0.5920910\\\\\n",
       "\tA7\\_Score & 0.21753794 & -0.04176797 & 0.07821574 & 0.151236453 & 0.2385894 & 0.1754892 &  1.00000000 & 0.085403244 & 0.1894796 & 0.25210651 & 0.3514286\\\\\n",
       "\tA8\\_Score & 0.14763977 &  0.03540785 & 0.01777094 & 0.008616695 & 0.1020864 & 0.1001231 &  0.08540324 & 1.000000000 & 0.1017328 & 0.10078183 & 0.2371606\\\\\n",
       "\tA9\\_Score & 0.14545244 &  0.20542100 & 0.31511299 & 0.327672571 & 0.3965817 & 0.4794218 &  0.18947962 & 0.101732780 & 1.0000000 & 0.28333987 & 0.6355758\\\\\n",
       "\tA10\\_Score & 0.11841298 &  0.06888252 & 0.16845393 & 0.210967690 & 0.2675609 & 0.2944349 &  0.25210651 & 0.100781830 & 0.2833399 & 1.00000000 & 0.3859171\\\\\n",
       "\tHas\\_autism & 0.29762761 &  0.31138172 & 0.44107372 & 0.469945188 & 0.5370043 & 0.5920910 &  0.35142862 & 0.237160611 & 0.6355758 & 0.38591708 & 1.0000000\\\\\n",
       "\\end{tabular}\n"
      ],
      "text/markdown": [
       "\n",
       "A matrix: 11 × 11 of type dbl\n",
       "\n",
       "| <!--/--> | A1_Score | A2_Score | A3_Score | A4_Score | A5_Score | A6_Score | A7_Score | A8_Score | A9_Score | A10_Score | Has_autism |\n",
       "|---|---|---|---|---|---|---|---|---|---|---|---|\n",
       "| A1_Score | 1.00000000 |  0.01153892 | 0.07409593 | 0.127814230 | 0.1693691 | 0.1101993 |  0.21753794 | 0.147639774 | 0.1454524 | 0.11841298 | 0.2976276 |\n",
       "| A2_Score | 0.01153892 |  1.00000000 | 0.22392092 | 0.158997916 | 0.1538208 | 0.1858637 | -0.04176797 | 0.035407855 | 0.2054210 | 0.06888252 | 0.3113817 |\n",
       "| A3_Score | 0.07409593 |  0.22392092 | 1.00000000 | 0.412722059 | 0.2649274 | 0.2688462 |  0.07821574 | 0.017770943 | 0.3151130 | 0.16845393 | 0.4410737 |\n",
       "| A4_Score | 0.12781423 |  0.15899792 | 0.41272206 | 1.000000000 | 0.3068064 | 0.2951523 |  0.15123645 | 0.008616695 | 0.3276726 | 0.21096769 | 0.4699452 |\n",
       "| A5_Score | 0.16936910 |  0.15382084 | 0.26492742 | 0.306806350 | 1.0000000 | 0.3923545 |  0.23858945 | 0.102086359 | 0.3965817 | 0.26756094 | 0.5370043 |\n",
       "| A6_Score | 0.11019932 |  0.18586369 | 0.26884619 | 0.295152296 | 0.3923545 | 1.0000000 |  0.17548921 | 0.100123128 | 0.4794218 | 0.29443495 | 0.5920910 |\n",
       "| A7_Score | 0.21753794 | -0.04176797 | 0.07821574 | 0.151236453 | 0.2385894 | 0.1754892 |  1.00000000 | 0.085403244 | 0.1894796 | 0.25210651 | 0.3514286 |\n",
       "| A8_Score | 0.14763977 |  0.03540785 | 0.01777094 | 0.008616695 | 0.1020864 | 0.1001231 |  0.08540324 | 1.000000000 | 0.1017328 | 0.10078183 | 0.2371606 |\n",
       "| A9_Score | 0.14545244 |  0.20542100 | 0.31511299 | 0.327672571 | 0.3965817 | 0.4794218 |  0.18947962 | 0.101732780 | 1.0000000 | 0.28333987 | 0.6355758 |\n",
       "| A10_Score | 0.11841298 |  0.06888252 | 0.16845393 | 0.210967690 | 0.2675609 | 0.2944349 |  0.25210651 | 0.100781830 | 0.2833399 | 1.00000000 | 0.3859171 |\n",
       "| Has_autism | 0.29762761 |  0.31138172 | 0.44107372 | 0.469945188 | 0.5370043 | 0.5920910 |  0.35142862 | 0.237160611 | 0.6355758 | 0.38591708 | 1.0000000 |\n",
       "\n"
      ],
      "text/plain": [
       "           A1_Score   A2_Score    A3_Score   A4_Score    A5_Score  A6_Score \n",
       "A1_Score   1.00000000  0.01153892 0.07409593 0.127814230 0.1693691 0.1101993\n",
       "A2_Score   0.01153892  1.00000000 0.22392092 0.158997916 0.1538208 0.1858637\n",
       "A3_Score   0.07409593  0.22392092 1.00000000 0.412722059 0.2649274 0.2688462\n",
       "A4_Score   0.12781423  0.15899792 0.41272206 1.000000000 0.3068064 0.2951523\n",
       "A5_Score   0.16936910  0.15382084 0.26492742 0.306806350 1.0000000 0.3923545\n",
       "A6_Score   0.11019932  0.18586369 0.26884619 0.295152296 0.3923545 1.0000000\n",
       "A7_Score   0.21753794 -0.04176797 0.07821574 0.151236453 0.2385894 0.1754892\n",
       "A8_Score   0.14763977  0.03540785 0.01777094 0.008616695 0.1020864 0.1001231\n",
       "A9_Score   0.14545244  0.20542100 0.31511299 0.327672571 0.3965817 0.4794218\n",
       "A10_Score  0.11841298  0.06888252 0.16845393 0.210967690 0.2675609 0.2944349\n",
       "Has_autism 0.29762761  0.31138172 0.44107372 0.469945188 0.5370043 0.5920910\n",
       "           A7_Score    A8_Score    A9_Score  A10_Score  Has_autism\n",
       "A1_Score    0.21753794 0.147639774 0.1454524 0.11841298 0.2976276 \n",
       "A2_Score   -0.04176797 0.035407855 0.2054210 0.06888252 0.3113817 \n",
       "A3_Score    0.07821574 0.017770943 0.3151130 0.16845393 0.4410737 \n",
       "A4_Score    0.15123645 0.008616695 0.3276726 0.21096769 0.4699452 \n",
       "A5_Score    0.23858945 0.102086359 0.3965817 0.26756094 0.5370043 \n",
       "A6_Score    0.17548921 0.100123128 0.4794218 0.29443495 0.5920910 \n",
       "A7_Score    1.00000000 0.085403244 0.1894796 0.25210651 0.3514286 \n",
       "A8_Score    0.08540324 1.000000000 0.1017328 0.10078183 0.2371606 \n",
       "A9_Score    0.18947962 0.101732780 1.0000000 0.28333987 0.6355758 \n",
       "A10_Score   0.25210651 0.100781830 0.2833399 1.00000000 0.3859171 \n",
       "Has_autism  0.35142862 0.237160611 0.6355758 0.38591708 1.0000000 "
      ]
     },
     "metadata": {},
     "output_type": "display_data"
    }
   ],
   "source": [
    "cor(banco) # Calculando a correlação de uma variavel com todas as outras"
   ]
  },
  {
   "cell_type": "code",
   "execution_count": 11,
   "metadata": {},
   "outputs": [
    {
     "data": {
      "image/png": "[encoded data removed]",
      "text/plain": [
       "plot without title"
      ]
     },
     "metadata": {
      "image/png": {
       "height": 420,
       "width": 420
      },
      "text/plain": {
       "height": 420,
       "width": 420
      }
     },
     "output_type": "display_data"
    }
   ],
   "source": [
    "heatmap(abs(cor(banco))) # O grafico demonstra o grau de relacionamento entre as variaveis"
   ]
  },
  {
   "cell_type": "code",
   "execution_count": 17,
   "metadata": {},
   "outputs": [],
   "source": [
    "# Has_autism tem forte relação com A9_Score\n",
    "regressao <- lm(Has_autism ~ A9_Score, data = banco)"
   ]
  },
  {
   "cell_type": "code",
   "execution_count": 18,
   "metadata": {},
   "outputs": [
    {
     "data": {
      "text/plain": [
       "\n",
       "Call:\n",
       "lm(formula = Has_autism ~ A9_Score, data = banco)\n",
       "\n",
       "Residuals:\n",
       "     Min       1Q   Median       3Q      Max \n",
       "-0.67544 -0.07353 -0.07353  0.32456  0.92647 \n",
       "\n",
       "Coefficients:\n",
       "            Estimate Std. Error t value Pr(>|t|)    \n",
       "(Intercept)  0.07353    0.01570   4.682 3.41e-06 ***\n",
       "A9_Score     0.60191    0.02760  21.812  < 2e-16 ***\n",
       "---\n",
       "Signif. codes:  0 ‘***’ 0.001 ‘**’ 0.01 ‘*’ 0.05 ‘.’ 0.1 ‘ ’ 1\n",
       "\n",
       "Residual standard error: 0.3426 on 702 degrees of freedom\n",
       "Multiple R-squared:  0.404,\tAdjusted R-squared:  0.4031 \n",
       "F-statistic: 475.8 on 1 and 702 DF,  p-value: < 2.2e-16\n"
      ]
     },
     "metadata": {},
     "output_type": "display_data"
    }
   ],
   "source": [
    "summary(regressao)"
   ]
  },
  {
   "cell_type": "code",
   "execution_count": null,
   "metadata": {},
   "outputs": [],
   "source": [
    "count(banco %>% filter(Has_autism==0))\n",
    "count(banco %>% filter(Has_autism==1))"
   ]
  }
 ],
 "metadata": {
  "kernelspec": {
   "display_name": "R",
   "language": "R",
   "name": "ir"
  },
  "language_info": {
   "codemirror_mode": "r",
   "file_extension": ".r",
   "mimetype": "text/x-r-source",
   "name": "R",
   "pygments_lexer": "r",
   "version": "3.4.4"
  }
 },
 "nbformat": 4,
 "nbformat_minor": 2
}
